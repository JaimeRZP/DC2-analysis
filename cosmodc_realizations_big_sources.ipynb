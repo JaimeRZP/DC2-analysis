{
 "cells": [
  {
   "cell_type": "markdown",
   "id": "edc16590-7c73-420a-9e5f-d0b98090c91d",
   "metadata": {},
   "source": [
    "# CosmoDC realizations\n",
    "## Dependencies"
   ]
  },
  {
   "cell_type": "code",
   "execution_count": 1,
   "id": "90839929-037a-4a44-9ae4-1cc65ac11579",
   "metadata": {
    "tags": []
   },
   "outputs": [],
   "source": [
    "import numpy as np\n",
    "import pandas as pd\n",
    "import random\n",
    "import scipy\n",
    "from scipy.interpolate import interp1d\n",
    "import matplotlib.pyplot as plt\n",
    "import h5py\n",
    "%matplotlib inline"
   ]
  },
  {
   "cell_type": "code",
   "execution_count": 2,
   "id": "9fae4398-9830-4c38-be33-c37ee47dbb25",
   "metadata": {
    "tags": []
   },
   "outputs": [],
   "source": [
    "import GCRCatalogs\n",
    "from GCR import GCRQuery"
   ]
  },
  {
   "cell_type": "markdown",
   "id": "bc05692e-07ae-41b9-9f6a-a34d421f2d05",
   "metadata": {},
   "source": [
    "## Data\n",
    "Load flexzboost the catalog"
   ]
  },
  {
   "cell_type": "code",
   "execution_count": 3,
   "id": "10774529-5378-4b50-870f-df23705ae54f",
   "metadata": {
    "tags": []
   },
   "outputs": [],
   "source": [
    "fname = \"/global/cfs/cdirs/lsst/groups/WL/projects/star-challenge/cosmodc2/TXPipe-full-output/binned_shear_catalog.hdf5\"\n",
    "hf = h5py.File(fname, \"r\")"
   ]
  },
  {
   "cell_type": "code",
   "execution_count": 4,
   "id": "e803c513-1a66-4d64-aa6b-b79b1d95e9a0",
   "metadata": {
    "tags": []
   },
   "outputs": [
    {
     "data": {
      "text/plain": [
       "<KeysViewHDF5 ['provenance', 'shear']>"
      ]
     },
     "execution_count": 4,
     "metadata": {},
     "output_type": "execute_result"
    }
   ],
   "source": [
    "hf.keys()"
   ]
  },
  {
   "cell_type": "code",
   "execution_count": 5,
   "id": "7dfd37a4-330b-45e4-a9c6-7979fe293804",
   "metadata": {
    "tags": []
   },
   "outputs": [
    {
     "name": "stdout",
     "output_type": "stream",
     "text": [
      "[9437500064 9437500065 9437500066 9437500067 9437500068]\n"
     ]
    }
   ],
   "source": [
    "print(hf[\"shear\"][\"bin_0\"][\"id\"][:5])"
   ]
  },
  {
   "cell_type": "code",
   "execution_count": 6,
   "id": "c08ea23e-b3f0-4bbe-9e9a-a3edebf79c35",
   "metadata": {
    "tags": []
   },
   "outputs": [
    {
     "name": "stdout",
     "output_type": "stream",
     "text": [
      "CPU times: user 1.25 s, sys: 4.48 s, total: 5.73 s\n",
      "Wall time: 1min 22s\n"
     ]
    }
   ],
   "source": [
    "%%time\n",
    "cat = GCRCatalogs.load_catalog('CosmoDC2_v1.1.4_image_with_photozs_v1')\n",
    "zgrid = cat.photoz_pdf_bin_centers"
   ]
  },
  {
   "cell_type": "code",
   "execution_count": 7,
   "id": "f669f5f7-3cd1-4a7f-bd80-81c30e04dea7",
   "metadata": {
    "tags": []
   },
   "outputs": [
    {
     "data": {
      "text/plain": [
       "['mag_y_photoz',\n",
       " 'mag_err_g_photoz',\n",
       " 'photoz_mode_ml',\n",
       " 'photoz_odds',\n",
       " 'photoz_median',\n",
       " 'mag_u_photoz',\n",
       " 'mag_g_photoz',\n",
       " 'photoz_mean',\n",
       " 'photoz_mask',\n",
       " 'mag_z_photoz',\n",
       " 'mag_err_y_photoz',\n",
       " 'mag_err_r_photoz',\n",
       " 'photoz_mode_ml_red_chi2',\n",
       " 'mag_err_z_photoz',\n",
       " 'mag_err_i_photoz',\n",
       " 'mag_r_photoz',\n",
       " 'mag_err_u_photoz',\n",
       " 'photoz_pdf',\n",
       " 'mag_i_photoz',\n",
       " 'photoz_mode']"
      ]
     },
     "execution_count": 7,
     "metadata": {},
     "output_type": "execute_result"
    }
   ],
   "source": [
    "quants = cat.list_all_quantities()\n",
    "qs = []\n",
    "for q in quants:\n",
    "    if 'photo' in q:\n",
    "        qs.append(q)\n",
    "qs"
   ]
  },
  {
   "cell_type": "code",
   "execution_count": 8,
   "id": "c45e5b22-b9d6-4ca4-a164-0559610f9470",
   "metadata": {
    "tags": []
   },
   "outputs": [],
   "source": [
    "basic_cuts = [GCRQuery('photoz_mask==1')]"
   ]
  },
  {
   "cell_type": "code",
   "execution_count": 9,
   "id": "c39d1222-b6bb-4bac-aeb5-e431d4ca7dec",
   "metadata": {
    "tags": []
   },
   "outputs": [
    {
     "name": "stdout",
     "output_type": "stream",
     "text": [
      "0 34438 33827 42413 56568 15432\n",
      "1 66587 66798 85701 113364 30616\n",
      "2 98136 97974 126719 163306 47433\n",
      "3 130023 132293 169786 221873 65051\n",
      "4 160631 165232 207821 277471 79826\n"
     ]
    }
   ],
   "source": [
    "photo_cat = cat.get_quantities(['galaxy_id', 'photoz_pdf'],\n",
    "                   return_iterator=True)\n",
    "i = 0\n",
    "for photo_q in photo_cat:\n",
    "    if i<5:\n",
    "        ids = photo_q['galaxy_id']\n",
    "        sel_0 = np.isin(ids, hf[\"shear\"][\"bin_0\"][\"id\"])\n",
    "        sel_1 = np.isin(ids, hf[\"shear\"][\"bin_1\"][\"id\"])\n",
    "        sel_2 = np.isin(ids, hf[\"shear\"][\"bin_2\"][\"id\"])\n",
    "        sel_3 = np.isin(ids, hf[\"shear\"][\"bin_3\"][\"id\"])\n",
    "        sel_4 = np.isin(ids, hf[\"shear\"][\"bin_4\"][\"id\"])\n",
    "        id_0 = ids[sel_0]\n",
    "        id_1 = ids[sel_1]\n",
    "        id_2 = ids[sel_2]\n",
    "        id_3 = ids[sel_3]\n",
    "        id_4 = ids[sel_4]\n",
    "        photoz_0 = list(photo_q['photoz_pdf'][sel_0])\n",
    "        photoz_1 = list(photo_q['photoz_pdf'][sel_1])\n",
    "        photoz_2 = list(photo_q['photoz_pdf'][sel_2])\n",
    "        photoz_3 = list(photo_q['photoz_pdf'][sel_3])\n",
    "        photoz_4 = list(photo_q['photoz_pdf'][sel_4])\n",
    "        \n",
    "        pzdict_0 = {'id': id_0, 'pdf': photoz_0}\n",
    "        pzdict_1 = {'id': id_1, 'pdf': photoz_1}\n",
    "        pzdict_2 = {'id': id_2, 'pdf': photoz_2}\n",
    "        pzdict_3 = {'id': id_3, 'pdf': photoz_3}\n",
    "        pzdict_4 = {'id': id_4, 'pdf': photoz_4}\n",
    "        \n",
    "        pzdict_0 = pd.DataFrame(pzdict_0)\n",
    "        pzdict_1 = pd.DataFrame(pzdict_1)\n",
    "        pzdict_2 = pd.DataFrame(pzdict_2)\n",
    "        pzdict_3 = pd.DataFrame(pzdict_3)\n",
    "        pzdict_4 = pd.DataFrame(pzdict_4)\n",
    "\n",
    "        if i==0:\n",
    "            total_pzdict_0 = pzdict_0\n",
    "            total_pzdict_1 = pzdict_1\n",
    "            total_pzdict_2 = pzdict_2\n",
    "            total_pzdict_3 = pzdict_3\n",
    "            total_pzdict_4 = pzdict_4\n",
    "        else:\n",
    "            total_pzdict_0 = pd.concat([total_pzdict_0, pzdict_0])\n",
    "            total_pzdict_1 = pd.concat([total_pzdict_1, pzdict_1])\n",
    "            total_pzdict_2 = pd.concat([total_pzdict_2, pzdict_2])\n",
    "            total_pzdict_3 = pd.concat([total_pzdict_3, pzdict_3])\n",
    "            total_pzdict_4 = pd.concat([total_pzdict_4, pzdict_4])\n",
    "        print(i, len(total_pzdict_0), len(total_pzdict_1),\n",
    "             len(total_pzdict_2), len(total_pzdict_3), len(total_pzdict_4))\n",
    "        i = i+1\n",
    "    else:\n",
    "        break\n",
    "        "
   ]
  },
  {
   "cell_type": "code",
   "execution_count": 10,
   "id": "15bb898d-2b81-4039-8d35-c181f8e61a02",
   "metadata": {
    "tags": []
   },
   "outputs": [],
   "source": [
    "photo_tomos = {}\n",
    "photo_tomos['0'] = total_pzdict_0\n",
    "photo_tomos['1'] = total_pzdict_1\n",
    "photo_tomos['2'] = total_pzdict_2\n",
    "photo_tomos['3'] = total_pzdict_3\n",
    "photo_tomos['4'] = total_pzdict_4"
   ]
  },
  {
   "cell_type": "code",
   "execution_count": 11,
   "id": "eaabd5db-cfb4-463f-9f0f-9dde8bad7bad",
   "metadata": {},
   "outputs": [],
   "source": [
    "sources_grids = [[0.0, 0.7],\n",
    "                 [0.0, 1.0],\n",
    "                 [0.3, 1.3],\n",
    "                 [0.5, 1.5],\n",
    "                 [0.5, 3.0]]\n",
    "\n",
    "def make_realizations(photo_tomos, grids,\n",
    "                   mode='lens', normalize=False, \n",
    "                  n_samples=1_000):\n",
    "    for i, tomo_key in enumerate(list(photo_tomos.keys())):\n",
    "        print(i)\n",
    "        total_pzdict = photo_tomos[tomo_key]\n",
    "        pdfs = np.array(total_pzdict['pdf'])\n",
    "        grid = grids[i]\n",
    "        print(\"Generate comulative distributions\")\n",
    "        cdfs_i = []\n",
    "        for pdf in pdfs:\n",
    "            norm = np.sum(pdf)\n",
    "            if normalize:\n",
    "                pdf = pdf/norm\n",
    "            cdf = np.cumsum(pdf)\n",
    "            cdf_i = interp1d(cdf, zgrid, fill_value=\"extrapolate\")\n",
    "            cdfs_i.append(cdf_i)\n",
    "\n",
    "        print(\"Generate samples from interpolators\")\n",
    "        rs = np.array([np.random.uniform() for i in np.arange(n_samples)])\n",
    "        photo_samples = np.array([cdf_i(rs) for cdf_i in cdfs_i])\n",
    "\n",
    "        print(\"Make histograms out of samples\")\n",
    "        zbins = np.linspace(grid[0],grid[1], 26)\n",
    "        znodes = 0.5*(zbins[1:]+zbins[:-1])\n",
    "        photo_hists = np.array([np.histogram(samples, bins=zbins, density=False)[0] for samples in photo_samples.T])\n",
    "        if normalize:\n",
    "            photo_hists_norms = np.array([np.sum(hist) for hist in photo_hists])\n",
    "            photo_hists = photo_hists.T/photo_hists_norms\n",
    "        else:\n",
    "            photo_hists = photo_hists.T\n",
    "\n",
    "        file_name = './image_photo_cats/sources_{}'.format(i)\n",
    "        np.savez(file_name,\n",
    "                 zgrid=zbins,\n",
    "                 znodes=znodes,\n",
    "                 photo_hists=photo_hists)"
   ]
  },
  {
   "cell_type": "code",
   "execution_count": null,
   "id": "cb79cef3-2116-4d20-8ed4-eee0b73f100a",
   "metadata": {
    "tags": []
   },
   "outputs": [
    {
     "name": "stdout",
     "output_type": "stream",
     "text": [
      "0\n",
      "Generate comulative distributions\n",
      "Generate samples from interpolators\n"
     ]
    },
    {
     "name": "stderr",
     "output_type": "stream",
     "text": [
      "/global/common/software/lsst/gitlab/desc-python-prod/2024-03-04-26-36/py/lib/python3.10/site-packages/scipy/interpolate/_interpolate.py:710: RuntimeWarning: divide by zero encountered in divide\n",
      "  slope = (y_hi - y_lo) / (x_hi - x_lo)[:, None]\n"
     ]
    }
   ],
   "source": [
    "make_realizations(photo_tomos, sources_grids)"
   ]
  },
  {
   "cell_type": "code",
   "execution_count": null,
   "id": "239fb85d-6fd5-4e8e-8a53-7ea503e91df8",
   "metadata": {
    "tags": []
   },
   "outputs": [],
   "source": [
    "lens_0 = np.load('./image_photo_cats/sources_0.npz', allow_pickle=True)\n",
    "lens_1 = np.load('./image_photo_cats/sources_1.npz', allow_pickle=True)\n",
    "lens_2 = np.load('./image_photo_cats/sources_2.npz', allow_pickle=True)\n",
    "lens_3 = np.load('./image_photo_cats/sources_3.npz', allow_pickle=True)\n",
    "lens_4 = np.load('./image_photo_cats/sources_4.npz', allow_pickle=True)\n",
    "\n",
    "lenses = {'lens_0': lens_0,\n",
    "          'lens_1': lens_1,\n",
    "          'lens_2': lens_2,\n",
    "          'lens_3': lens_3,\n",
    "          'lens_4': lens_4}"
   ]
  },
  {
   "cell_type": "code",
   "execution_count": null,
   "id": "14412580-3364-415d-bdd0-b9bb6dfd3dad",
   "metadata": {
    "tags": []
   },
   "outputs": [],
   "source": [
    "np.mean(lens_0['photo_hists'], axis=1).shape"
   ]
  },
  {
   "cell_type": "code",
   "execution_count": null,
   "id": "942c5746-1176-4bf3-89e7-8038cde178a7",
   "metadata": {
    "tags": []
   },
   "outputs": [],
   "source": [
    "colors = ['limegreen', 'forestgreen', 'darkgreen', 'olive', 'orange']\n",
    "for i, key in enumerate(list(lenses.keys())):\n",
    "    tomo = lenses[key]\n",
    "    photo_dz = np.mean(np.diff(tomo['znodes']))\n",
    "    spec_dz = np.mean(np.diff(zgrid))\n",
    "    alpha = photo_dz/spec_dz\n",
    "    #plt.plot(tomo['spec_znodes'], alpha*tomo['spec_hist'], 'k-')\n",
    "    plt.plot(tomo['znodes'], tomo['photo_hists'], '-', color=colors[i], alpha=0.01)\n",
    "    plt.plot(tomo['znodes'], np.mean(tomo['photo_hists'], axis=1), '-', color=colors[i], label=key)\n",
    "\n",
    "#nzsum = np.sum(fz_df['pdf'])\n",
    "#plt.plot(zgrid,nzsum,c='b',label=f\"i<{magcut} sum p(z)\")\n",
    "\n",
    "plt.xlim([0.0, 3.0])\n",
    "plt.title(\"CosmoDC2\")\n",
    "plt.xlabel(\"redshift\",fontsize=18)\n",
    "plt.ylabel(\"N(z)\",fontsize=18)\n",
    "plt.legend(loc = 'upper right',fontsize=16);\n",
    "plt.show()"
   ]
  },
  {
   "cell_type": "code",
   "execution_count": null,
   "id": "c6d338aa-d11e-4c7b-9314-e8f022e145ae",
   "metadata": {},
   "outputs": [],
   "source": []
  },
  {
   "cell_type": "code",
   "execution_count": null,
   "id": "925c7492-373e-4fd4-a02b-e6c623a8be10",
   "metadata": {},
   "outputs": [],
   "source": []
  }
 ],
 "metadata": {
  "kernelspec": {
   "display_name": "desc-python",
   "language": "python",
   "name": "desc-python"
  },
  "language_info": {
   "codemirror_mode": {
    "name": "ipython",
    "version": 3
   },
   "file_extension": ".py",
   "mimetype": "text/x-python",
   "name": "python",
   "nbconvert_exporter": "python",
   "pygments_lexer": "ipython3",
   "version": "3.10.13"
  }
 },
 "nbformat": 4,
 "nbformat_minor": 5
}
