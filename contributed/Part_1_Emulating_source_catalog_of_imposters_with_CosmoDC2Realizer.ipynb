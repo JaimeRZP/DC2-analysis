{
 "cells": [
  {
   "cell_type": "markdown",
   "metadata": {},
   "source": [
    "# Part 1: Emulating the LSST DRP Source Catalog of blended systems with CosmoDC2Realizer\n",
    "\n",
    "__Author:__ Ji Won Park (@jiwoncpark), __Created:__ 2018-12-14 (by @jiwoncpark), __Last Run:__ 2019-02-26 (by @jiwoncpark)\n",
    "\n",
    "__Goals:__\n",
    "- In Part 1 (this notebook), learn how CosmoDC2Realizer emulates the LSST DRP Source Catalog from galaxies in the CosmoDC2 extragalactic catalog and point sources in the truth catalog\n",
    "- In Part 2 (next in this series), learn how SprinkledCosmoDC2Realizer emulates the LSST DRP Source Catalog by \"sprinkling\" lensed quasars from the OM10 catalog across the CosmoDC2 field, in the manner of the DC2 Sprinkler module.\n",
    "\n",
    "The following notebook was referenced to access and query the truth catalog:\n",
    "\n",
    "    Scott Daniel's DC2 Tutorial truth_gcr_intro.ipynb"
   ]
  },
  {
   "cell_type": "code",
   "execution_count": null,
   "metadata": {},
   "outputs": [],
   "source": [
    "import os, sys\n",
    "import numpy as np\n",
    "import pandas as pd \n",
    "pd.options.display.max_columns = None\n",
    "import matplotlib.pyplot as plt\n",
    "# Utility functions for CosmoDC2Realizer\n",
    "sys.path.insert(0, 'demo_utils')\n",
    "import units\n",
    "import moments\n",
    "import cosmodc2realizer_helper as helper\n",
    "# For reading in the OpSim database\n",
    "#import sqlite3 (uncomment to run optional cells)\n",
    "# For accessing and querying the CosmoDC2 extragalactic catalog and truth catalog\n",
    "import GCRCatalogs\n",
    "from GCR import GCRQuery\n",
    "%matplotlib inline\n",
    "%load_ext autoreload\n",
    "%autoreload 2"
   ]
  },
  {
   "cell_type": "markdown",
   "metadata": {},
   "source": [
    "## About CosmoDC2Realizer\n",
    "\n",
    "`CosmoDC2Realizer` is a framework that emulates the LSST DRP Source Catalog. It takes in two DC2 catalogs--the extragalactic and truth catalogs, which contain properties of extended galaxy sources and point sources (e.g. stars, AGNs), respectively--and the OpSim database, which contains the per-visit observation conditions.\n",
    "\n",
    "__Note on Dependencies:__\n",
    "\n",
    "Although `CosmoDC2Realizer` is designed as a class within an LSSTDESC package called `SLRealizer`, we do not interface with the class in this notebook. The emphasis, instead, is to go over the logic of`CosmoDC2Realizer`. So we set aside some class helper modules in the directory `hackurdc2_utils` and use them directly.\n",
    "\n",
    "`CosmoDC2Realizer` does explicitly loop over each blended system to generate the Source Catalog. But it makes heavy use of `NumPy` and `Pandas` to vectorize the moment calculation across the Gaussian components of the system, for an enhanced performance.\n",
    "\n",
    "__Assumptions:__\n",
    "- _Gaussian mixtures to allow analytical moment calculation._ Emulation is made fast by bypassing image generation; we model each object as a mixture of Gaussians and the point-spread function (PSF) as a circular Gaussian so that we can _analytically_ compute the first and second moments required to populate the Source Catalog. Because the galaxies in the extragalactic catalog are modeled as Sersic profiles (de Vaucouleurs bulge and exponential disk), we approximate each Sersic component as a mixture of Gaussians as introduced in Hogg and Lang 2013 (HL13).\n",
    "- _A sufficiently good deblender._ We also assume a fairly good deblender with a fixed deblending scale of 0.5\"--chosen because it roughly corresponds to the full-width half maximum (FWHM) of the best LSST seeing. All sources located within the line-of-sight deblending scale of an object for a given visit will contribute to the moments of that object. Such objects that become blended together are referred to as \"neighbors\" here."
   ]
  },
  {
   "cell_type": "markdown",
   "metadata": {},
   "source": [
    "## 1. Choosing the OpSim fields\n",
    "The OpSim database is organized in terms of 5292 viewing fields generated from a tesselation of the sky ([OpSim catalog schema documentation](https://www.lsst.org/scientists/simulations/opsim/summary-table-column-descriptions-v335)). The observing schedule and conditions are the same within each field so, for computational efficiency, CosmoDC2Realizer first identifies the set of fields over which to realize the comprising objects.\n",
    "\n",
    "I've downloaded and proprocessed all the OpSim data we'll need so running the cells with the comment `running optional` won't be necessary."
   ]
  },
  {
   "cell_type": "raw",
   "metadata": {},
   "source": [
    "# Download OpSim db and gunzip\n",
    "# Running optional\n",
    "# If you want to run it but it gives an error, simply run it in the terminal.\n",
    "!mkdir data\n",
    "!cd data\n",
    "!wget opsim.lsst.org/runs/minion_1016/data/minion_1016_sqlite.db.gz\n",
    "!gunzip -k minion_1016_sqlite.db.gz"
   ]
  },
  {
   "cell_type": "raw",
   "metadata": {},
   "source": [
    "%%time\n",
    "# Running optional\n",
    "# Read in the minion_1016 opsim database\n",
    "opsim_v3 = os.path.join('..', 'data', 'minion_1016_sqlite.db')\n",
    "conn = sqlite3.connect(opsim_v3)\n",
    "\n",
    "# See which tables the db file has\n",
    "cursor = conn.cursor()\n",
    "cursor.execute(\"SELECT name FROM sqlite_master WHERE type='table';\")\n",
    "print(cursor.fetchall())"
   ]
  },
  {
   "cell_type": "markdown",
   "metadata": {},
   "source": [
    "We are primarily interested in two tables of the `minion_1016` database: `ObsHistory` containing the observation conditions and `Field` containing the field positions."
   ]
  },
  {
   "cell_type": "raw",
   "metadata": {},
   "source": [
    "%%time \n",
    "# Running optional\n",
    "# ~ 40s in Jupyter-dev\n",
    "# Save the tables ObsHistory and Field as Pandas DataFrames\n",
    "obs_history = pd.read_sql(sql='SELECT * from ObsHistory', con=conn)\n",
    "field = pd.read_sql(sql='SELECT * from Field', con=conn)"
   ]
  },
  {
   "cell_type": "markdown",
   "metadata": {},
   "source": [
    "`GCRCatalogs` has made available `cosmoDC2_v1.0_9556`, a test version of the extragalactic catalog restricted to one healpixel. This healpixel, it turns out, roughly coincides with the OpSim field with ID 1188. For speed considerations, we will only work with a small sample of galaxies in `cosmoDC2_v1.0_9556` that fall within Field 1188.\n",
    "\n",
    "If the sampling position seems contrived, it is! I wanted to make sure to include a star-galaxy blend in our small sample."
   ]
  },
  {
   "cell_type": "code",
   "execution_count": null,
   "metadata": {},
   "outputs": [],
   "source": [
    "# Our sampling position and range\n",
    "field_id = 1188\n",
    "sampling_ra, sampling_dec = 56.178028, -33.04581 # deg\n",
    "sampling_radius = 0.05 # deg"
   ]
  },
  {
   "cell_type": "markdown",
   "metadata": {},
   "source": [
    "## 2. Getting galaxies\n",
    "We query the extragalactic catalog for objects that lie in this field. As mentioned earlier, we load `cosmoDC2_v1.0_9556` rather than the full cosmoDC2 catalog in this notebook for fast demonstration."
   ]
  },
  {
   "cell_type": "code",
   "execution_count": null,
   "metadata": {},
   "outputs": [],
   "source": [
    "%%time\n",
    "# Takes ~10s in Jupyter-dev\n",
    "catalog = GCRCatalogs.load_catalog('cosmoDC2_v1.0_9556')\n",
    "#catalog = GCRCatalogs.load_catalog('cosmoDC2_v1.0_image') # the whole image area\n",
    "quantities = ['galaxy_id', 'ra_true', 'dec_true', 'redshift_true', \n",
    "              'size_bulge_true', 'size_minor_bulge_true', 'sersic_bulge', 'ellipticity_1_bulge_true',\n",
    "              'ellipticity_2_bulge_true', 'ellipticity_bulge_true',\n",
    "              'size_disk_true', 'size_minor_disk_true', 'sersic_disk', 'ellipticity_1_disk_true',\n",
    "              'ellipticity_2_disk_true', 'ellipticity_disk_true',\n",
    "              'bulge_to_total_ratio_i',\n",
    "              'mag_true_u_lsst',\n",
    "              'mag_true_g_lsst',\n",
    "              'mag_true_r_lsst',\n",
    "              'mag_true_i_lsst',\n",
    "              'mag_true_z_lsst',\n",
    "              'mag_true_Y_lsst',\n",
    "              'halo_mass',]\n",
    "\n",
    "cuts = [# Magnitude cut at 5-sigma depth for single exposure\n",
    "        # See https://confluence.lsstcorp.org/display/LKB/LSST+Key+Numbers\n",
    "        GCRQuery('mag_true_i_lsst < 24'), \n",
    "        # Query halo masses likely to host an AGN\n",
    "        GCRQuery('halo_mass > 1.e13'),\n",
    "        # Query sources located in Field 1188\n",
    "        GCRQuery('((ra_true - %f)**2.0 + (dec_true - %f)**2.0)**0.5 < %f' %(sampling_ra, sampling_dec, sampling_radius)),\n",
    "        #GCRQuery('abs(dec_true - %f) < %f' %(field_dec, field_radius)),\n",
    "        ]\n",
    "# Add filters as necessary!\n",
    "galaxies = catalog.get_quantities(quantities, filters=cuts)\n",
    "galaxies = pd.DataFrame(galaxies)"
   ]
  },
  {
   "cell_type": "markdown",
   "metadata": {},
   "source": [
    "## 3. Getting line-of-sight neighbors\n",
    "For each galaxy, any other galaxy or point source (unlensed AGN or star) that lie within its blending scale will be its line-of-sight neighbor. Galaxy neighbors will simply be taken from the extragalactic catalog, which we've already fetched. Point-source neighbors will be taken from the truth catalog as below.\n",
    "\n",
    "### Getting the neighbors (unlensed AGNs and stars) from the truth catalog"
   ]
  },
  {
   "cell_type": "code",
   "execution_count": null,
   "metadata": {},
   "outputs": [],
   "source": [
    "%%time\n",
    "# Takes ~1min in Jupyter-dev\n",
    "# truth_catalog = GCRCatalogs.load_catalog('dc2_truth_run1.1_static')\n",
    "truth_catalog = GCRCatalogs.load_catalog('dc2_truth_run1.1', {'md5': None})\n",
    "\n",
    "truth_catalog_columns = ['object_id', 'ra', 'dec', 'star', 'agn', 'sprinkled', 'healpix_2048',\n",
    "                        'u', 'g', 'r', 'i', 'z', 'y',]\n",
    "# ~40 in Jupyter-dev\n",
    "cuts = ['(star==1) | (agn==1)', # either a star or unlensed AGN\n",
    "        'sprinkled==0', # but not a lensed AGN\n",
    "        '((ra - %f)**2.0 + (dec - %f)**2.0)**0.5 < %f' %(sampling_ra, sampling_dec, sampling_radius),\n",
    "       ]\n",
    "\n",
    "# around 15s on Jupyter-dev\n",
    "point_neighbors = truth_catalog.get_quantities(truth_catalog_columns, filters=cuts)\n",
    "point_neighbors = pd.DataFrame(point_neighbors)"
   ]
  },
  {
   "cell_type": "code",
   "execution_count": null,
   "metadata": {},
   "outputs": [],
   "source": [
    "# Some config constants to define before entering loop\n",
    "deblending_scale = 0.5 # arcsec\n",
    "fov = units.deg_to_arcsec(1.75) # arcsec"
   ]
  },
  {
   "cell_type": "markdown",
   "metadata": {},
   "source": [
    "Before entering the source catalog generation loop, we format the catalogs we fetched."
   ]
  },
  {
   "cell_type": "code",
   "execution_count": null,
   "metadata": {},
   "outputs": [],
   "source": [
    "# Some unit conversion and column renaming\n",
    "galaxies = helper._format_extragal_catalog(galaxies)\n",
    "point_neighbors = helper._format_truth_catalog(point_neighbors)"
   ]
  },
  {
   "cell_type": "markdown",
   "metadata": {},
   "source": [
    "... and also read in the preformatted OpSim tables."
   ]
  },
  {
   "cell_type": "code",
   "execution_count": null,
   "metadata": {},
   "outputs": [],
   "source": [
    "# Read in pre-formatted OpSim tables\n",
    "# Their paths\n",
    "field_path = '/global/homes/j/jwp/SLRealizer/slrealizer/demo/demo_data/field.csv'\n",
    "obs_history_path = '/global/homes/j/jwp/SLRealizer/slrealizer/demo/demo_data/obs_history.csv'\n",
    "# Pre-formatted using these lines\n",
    "#field = field.to_csv(field_path, index=False)\n",
    "#obs_history = helper._format_obs_history(obs_history, field, obs_history_path)\n",
    "# Read them in\n",
    "field = pd.read_csv(field_path, index_col=None)\n",
    "obs_history = pd.read_csv(obs_history_path, index_col=None)"
   ]
  },
  {
   "cell_type": "markdown",
   "metadata": {},
   "source": [
    "Now we generate the Source catalog, system by system. This loop has much room for optimization, but should be most readable as is! Note that you can add more sampling positions (pointings) by appending to the `pointings` list."
   ]
  },
  {
   "cell_type": "code",
   "execution_count": null,
   "metadata": {},
   "outputs": [],
   "source": [
    "%%time\n",
    "# Takes ~2min in Jupyter-dev\n",
    "source_cols = ['objectId', 'ccdVisitId', \n",
    "               'apFlux', 'Ix', 'Iy', 'Ixx', 'Iyy', 'Ixy', \n",
    "               'Ixx_PSF', 'sky', 'apFluxErr', 'expMJD',\n",
    "               'num_star_neighbors', 'num_agn_neighbors', 'num_sprinkled_neighbors']\n",
    "\n",
    "# Empty source table to be populated\n",
    "source = pd.DataFrame(columns=source_cols)\n",
    "\n",
    "# List of [ra, dec] pointings\n",
    "pointings = [[units.deg_to_arcsec(sampling_ra), units.deg_to_arcsec(sampling_dec)],]\n",
    "for pointing in pointings:\n",
    "    pointing_ra, pointing_dec = pointing\n",
    "    # Note: Much of the field querying is redundant to what we did in advance\n",
    "    # in this notebook, outside the loop.\n",
    "    # Query extragalactic catalog for galaxies within field\n",
    "    galaxies_in_fov, galaxies_in_fov_idx = helper.get_neighbors(galaxies, pointing_ra, pointing_dec, fov)\n",
    "    num_galaxies = len(galaxies_in_fov_idx)\n",
    "    # Query truth catalog for stars/AGNs within field\n",
    "    points_in_fov, _ = helper.get_neighbors(point_neighbors, pointing_ra, pointing_dec, fov)\n",
    "    # Initialize DataFrame to populate before joining with obs_history_in_field\n",
    "    source_at_pointing = pd.DataFrame(columns=source_cols)\n",
    "    \n",
    "    for gal_idx in range(num_galaxies):\n",
    "        # Central galaxy\n",
    "        central_gal = galaxies_in_fov.iloc[gal_idx]\n",
    "        ra_center, dec_center = central_gal['ra'], central_gal['dec'] # pos of central galaxy\n",
    "        \n",
    "        ##########################\n",
    "        # Find blended neighbors #\n",
    "        ##########################\n",
    "        # Galaxy neighbors (extended) : includes the central galaxy, not just neighbors\n",
    "        all_gal, all_gal_idx = helper.get_neighbors(galaxies_in_fov, ra_center, dec_center, deblending_scale) \n",
    "        num_gal_neighbors = len(all_gal_idx) - 1 # subtract central galaxy itself\n",
    "        # Stars/AGN neighbors (point)\n",
    "        point, point_idx = helper.get_neighbors(points_in_fov, ra_center, dec_center, deblending_scale) \n",
    "        \n",
    "        num_star_neighbors = point['star'].sum()\n",
    "        num_agn_neighbors = point['agn'].sum()\n",
    "        num_sprinkled_neighbors = point['sprinkled'].sum()\n",
    "        \n",
    "        #################\n",
    "        # Sersic to MoG #\n",
    "        #################\n",
    "        # Separate galaxy catalog into bulge and disk\n",
    "        bulge, disk, all_gal = helper.separate_bulge_disk(all_gal)\n",
    "        # Deconstruct bulge/disk into MoG\n",
    "        bulge_mog = helper.sersic_to_mog(sersic_df=bulge, bulge_or_disk='bulge')\n",
    "        disk_mog = helper.sersic_to_mog(sersic_df=disk, bulge_or_disk='disk')\n",
    "        point_mog = helper.point_to_mog(point_df=point)\n",
    "        # Concat the three\n",
    "        full_mog = pd.concat([bulge_mog, disk_mog, point_mog], axis=0)\n",
    "\n",
    "        # Add some metadata\n",
    "        full_mog['objectId'] = central_gal['galaxy_id'] # identifier for blended system\n",
    "        full_mog['num_gal_neighbors'] = num_gal_neighbors\n",
    "        full_mog['num_star_neighbors'] = num_star_neighbors\n",
    "        full_mog['num_agn_neighbors'] = num_agn_neighbors\n",
    "        full_mog['num_sprinkled_neighbors'] = num_sprinkled_neighbors\n",
    "\n",
    "        # Get visits at the system's position\n",
    "        obs_sys_center, _ = helper.get_neighbors(obs_history, ra_center, dec_center, fov, 'ditheredRA', 'ditheredDec')\n",
    "        # Join with observations\n",
    "        mog_observed = helper.join_with_observation(full_mog, obs_sys_center)\n",
    "        # Remove unobserved fluxes (only keep flux of observed filter)\n",
    "        mog_observed = helper.collapse_unobserved_fluxes(mog_observed)\n",
    "        # Calculate moment contribution of each Gaussian of blended system\n",
    "        mog_observed = moments.calculate_total_flux(mog_observed)\n",
    "        mog_observed = moments.calculate_1st_moments(mog_observed)\n",
    "        mog_observed = moments.calculate_2nd_moments(mog_observed)\n",
    "        # Collapse MoGs into one blended system\n",
    "        blended = moments.collapse_mog(mog_observed)\n",
    "        blended = moments.apply_environment(blended)\n",
    "\n",
    "        source_at_pointing = pd.concat([source_at_pointing, blended], axis=0, sort=True)\n",
    "        if (gal_idx + 1) %20 == 0:\n",
    "            print(\"%d systems completed\" %(gal_idx + 1))\n",
    "\n",
    "    source = pd.concat([source, source_at_pointing], axis=0, sort=True)\n",
    "    source = helper.typecast_source(source)"
   ]
  },
  {
   "cell_type": "raw",
   "metadata": {},
   "source": [
    "# Running optional\n",
    "# Save the result to disk\n",
    "source_save_path = os.path.join(demo_data_dir, 'source_catalog_small.csv')\n",
    "source.to_csv(source_save_path, index=False)"
   ]
  },
  {
   "cell_type": "markdown",
   "metadata": {},
   "source": [
    "Let's first visualize which where our galaxies and point sources lie."
   ]
  },
  {
   "cell_type": "code",
   "execution_count": null,
   "metadata": {},
   "outputs": [],
   "source": [
    "plt.scatter(units.arcsec_to_deg(point_neighbors['ra'].values),\n",
    "            units.arcsec_to_deg(point_neighbors['dec'].values), label='point source')\n",
    "plt.scatter(units.arcsec_to_deg(galaxies['ra'].values), \n",
    "            units.arcsec_to_deg(galaxies['dec'].values), label='galaxy')\n",
    "plt.ylabel(\"dec/arcsec\")\n",
    "plt.xlabel(\"ra/arcsec\")\n",
    "plt.title(\"Pre-blended positions of our objects\")"
   ]
  },
  {
   "cell_type": "markdown",
   "metadata": {},
   "source": [
    "Here are sample light curves of a blended system consisting of a galaxy and a star."
   ]
  },
  {
   "cell_type": "code",
   "execution_count": null,
   "metadata": {},
   "outputs": [],
   "source": [
    "# Add a 'filter' column to the Source Catalog by joining with the obs_history table\n",
    "obs_history_filter = obs_history[['ccdVisitId', 'filter']].copy()\n",
    "source = pd.merge(source, obs_history_filter, on='ccdVisitId', how='left')"
   ]
  },
  {
   "cell_type": "code",
   "execution_count": null,
   "metadata": {},
   "outputs": [],
   "source": [
    "# Choose a random system with a star and galaxy blended together.\n",
    "sample_id = source.loc[source['num_star_neighbors']==1]['objectId'].unique()[0]\n",
    "sample_info = source.loc[source['objectId']==sample_id]"
   ]
  },
  {
   "cell_type": "markdown",
   "metadata": {},
   "source": [
    "To compare the light curves of the blended system with the individual galaxy and star, we realize them separately."
   ]
  },
  {
   "cell_type": "code",
   "execution_count": null,
   "metadata": {},
   "outputs": [],
   "source": [
    "# Realize the galaxy by itself\n",
    "galaxy_alone = helper.realize_all_visits_single_object(target_object_id=sample_id, is_galaxy=True, \n",
    "                                                       fov=fov, deblending_scale=deblending_scale,\n",
    "                                                       galaxies_df=galaxies, points_df=point_neighbors, obs_history=obs_history)\n",
    "galaxy_alone['ccdVisitId'] = galaxy_alone['ccdVisitId'].astype(int)\n",
    "galaxy_alone = pd.merge(galaxy_alone, obs_history_filter, on='ccdVisitId', how='left')\n",
    "\n",
    "# Realize the star by itself\n",
    "star_alone = helper.realize_all_visits_single_object(target_object_id=sample_id, is_galaxy=False, \n",
    "                                              fov=fov, deblending_scale=deblending_scale,\n",
    "                                              galaxies_df=galaxies, points_df=point_neighbors, obs_history=obs_history)\n",
    "star_alone['ccdVisitId'] = star_alone['ccdVisitId'].astype(int)\n",
    "star_alone = pd.merge(star_alone, obs_history_filter, on='ccdVisitId', how='left')"
   ]
  },
  {
   "cell_type": "code",
   "execution_count": null,
   "metadata": {},
   "outputs": [],
   "source": [
    "# Plot light curve\n",
    "color_dict = {'u': 'm', 'g': 'b', 'r': 'c', 'i': 'g', 'z': 'y', 'y': 'r'}\n",
    "\n",
    "fig = plt.figure(figsize=(20, 6))\n",
    "fig.add_subplot(1,2,1)\n",
    "for bp in 'ugrizy':\n",
    "    # Blended\n",
    "    times = sample_info.loc[sample_info['filter']==bp]['expMJD'].values\n",
    "    fluxes = sample_info.loc[sample_info['filter']==bp]['apFlux'].values\n",
    "    mags = units.flux_to_mag(fluxes, from_unit='nMgy')\n",
    "    plt.plot(times, mags, color_dict[bp] + '.', label=bp)\n",
    "\n",
    "ax = plt.gca()\n",
    "ax.invert_yaxis()\n",
    "plt.legend(loc='center left', bbox_to_anchor=(1, 0.5))\n",
    "plt.ylabel('magnitude')\n",
    "plt.ylim([32, 18])\n",
    "plt.xlabel('expMJD')\n",
    "plt.title(\"Light curve of blended system\")\n",
    "\n",
    "fig.add_subplot(1,2,2)\n",
    "for bp in 'ugrizy':\n",
    "    times = sample_info.loc[sample_info['filter']==bp]['expMJD'].values\n",
    "    # Galaxy\n",
    "    gal_fluxes = galaxy_alone.loc[galaxy_alone['filter']==bp]['apFlux'].values\n",
    "    gal_mags = units.flux_to_mag(gal_fluxes, from_unit='nMgy')\n",
    "    plt.plot(times, gal_mags, color_dict[bp] + '.', label=bp+' galaxy')\n",
    "    # Star\n",
    "    star_fluxes = star_alone.loc[star_alone['filter']==bp]['apFlux'].values\n",
    "    star_mags = units.flux_to_mag(star_fluxes, from_unit='nMgy')\n",
    "    plt.plot(times, star_mags, color_dict[bp] + '*', label=bp+' star')\n",
    "    \n",
    "plt.legend(loc='center left', bbox_to_anchor=(1, 0.5))\n",
    "plt.ylabel('magnitude')\n",
    "plt.ylim([32, 18])\n",
    "plt.xlabel('expMJD')\n",
    "plt.title(\"Light curves of unblended star and galaxy\")"
   ]
  },
  {
   "cell_type": "markdown",
   "metadata": {},
   "source": [
    "Similarly, we can plot the size curves!"
   ]
  },
  {
   "cell_type": "code",
   "execution_count": null,
   "metadata": {},
   "outputs": [],
   "source": [
    "# Plot size curve\n",
    "\n",
    "def add_size(df):\n",
    "    \"\"\"Compute size ~ (det)^0.25 where det = Ixx*Iyy - Ixy**2.0\n",
    "    and add as a new column in the df\n",
    "    \"\"\"\n",
    "    df['size'] = (df['Ixx'].values*df['Iyy'].values - df['Ixy'].values**2.0)**0.25\n",
    "    return df\n",
    "\n",
    "sample_info = add_size(sample_info)\n",
    "galaxy_alone = add_size(galaxy_alone)\n",
    "star_alone = add_size(star_alone)\n",
    "\n",
    "fig = plt.figure(figsize=(20, 6))\n",
    "fig.add_subplot(1,2,1)\n",
    "for bp in 'ugrizy':\n",
    "    # Blended\n",
    "    times = sample_info.loc[sample_info['filter']==bp]['expMJD'].values\n",
    "    sizes = sample_info.loc[sample_info['filter']==bp]['size'].values\n",
    "    plt.plot(times, sizes, color_dict[bp] + '.', label=bp)\n",
    "\n",
    "plt.legend(loc='center left', bbox_to_anchor=(1, 0.5))\n",
    "plt.ylabel('size/arcsec')\n",
    "plt.ylim([0.2, 1.3])\n",
    "plt.xlabel('expMJD')\n",
    "plt.title(\"Size curve of blended system\")\n",
    "\n",
    "fig.add_subplot(1,2,2)\n",
    "for bp in 'ugrizy':\n",
    "    times = sample_info.loc[sample_info['filter']==bp]['expMJD'].values\n",
    "    # Galaxy\n",
    "    gal_sizes = galaxy_alone.loc[galaxy_alone['filter']==bp]['size'].values\n",
    "    plt.plot(times, gal_sizes, color_dict[bp] + '.', label=bp+' galaxy')\n",
    "    # Star\n",
    "    star_sizes = star_alone.loc[star_alone['filter']==bp]['size'].values\n",
    "    plt.plot(times, star_sizes, color_dict[bp] + '*', label=bp+' star')\n",
    "    \n",
    "plt.legend(loc='center left', bbox_to_anchor=(1, 0.5))\n",
    "plt.ylabel('size/arcsec')\n",
    "plt.ylim([0.2, 1.3])\n",
    "plt.xlabel('expMJD')\n",
    "plt.title(\"Size curves of unblended star and galaxy\")"
   ]
  },
  {
   "cell_type": "markdown",
   "metadata": {},
   "source": [
    "Lastly, let's take a look at the first few rows of our emulated Source catalog."
   ]
  },
  {
   "cell_type": "code",
   "execution_count": null,
   "metadata": {},
   "outputs": [],
   "source": [
    "display(source.head())"
   ]
  }
 ],
 "metadata": {
  "kernelspec": {
   "display_name": "desc-stack",
   "language": "python",
   "name": "desc-stack"
  },
  "language_info": {
   "codemirror_mode": {
    "name": "ipython",
    "version": 3
   },
   "file_extension": ".py",
   "mimetype": "text/x-python",
   "name": "python",
   "nbconvert_exporter": "python",
   "pygments_lexer": "ipython3",
   "version": "3.6.6"
  }
 },
 "nbformat": 4,
 "nbformat_minor": 2
}
