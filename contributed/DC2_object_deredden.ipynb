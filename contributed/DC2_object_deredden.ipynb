{
 "cells": [
  {
   "cell_type": "markdown",
   "metadata": {},
   "source": [
    "# DC2 object catalog: removing Milky Way dust\n",
    "\n",
    "Contributed by: **Sam Schmidt [@sschmidt23](https://github.com/LSSTDESC/DC2-analysis/issues/new?body=@sschmidt23)**\n",
    "\n",
    "Last Verifed to Run: **2020-07-19** (by @sschmidt23)\n",
    "\n",
    "The DC2 object catalogs generated from mock images have simulted Milky Way dust included.  If you need access to object colors, effects of this foreground must be removed.  This notebook will give a very quick demo for using the `dustmaps` package to remove Milky Way foreground dust from the DC2 object catalogs.\n",
    "\n",
    "Typically, foreground dust is parameterized by E(B-V), and the amount of dereddening in each specific band, A_lambda, is found via an A_lambda/E(B-V) parameter specific to each filter.  A separate notebook named `Derive_A_EBV_coefficients.ipynb` can show you how to derive these parameters for the LSST bandpass shapes assumed in the DC2 simulations, but for the purposes of this notebook we will simply list the A_lambda/E(B-V) parameters, which for filters `u,g,r,i,z,y` are `4.81,3.64,2.70,2.06,1.58,1.31`\n",
    "\n",
    "__Logistics__: This notebook is intended to be run through the Jupyter Lab NERSC interface available here: https://jupyter.nersc.gov/. To setup your NERSC environment, please follow the instructions available here: https://confluence.slac.stanford.edu/display/LSSTDESC/Using+Jupyter+at+NERSC\n",
    "\n",
    "__Other notes__: \n",
    "This demo uses the non-DESC `dustmaps` package, which employs astropy units, so both of these packages must be available in the path of the user.  Note that both packages are available in the `desc-python-dev` kernel"
   ]
  },
  {
   "cell_type": "markdown",
   "metadata": {},
   "source": [
    "The DC2 simulations assume SFD reddening with interpolation between the pixels set. the `dustmaps` package can work with several dust maps derived from a variety of sources.  We will point the dustmaps code to the SFD maps with the config['data_dir'] parameter in the cell below."
   ]
  },
  {
   "cell_type": "code",
   "execution_count": null,
   "metadata": {},
   "outputs": [],
   "source": [
    "import numpy as np\n",
    "import pandas as pd\n",
    "import GCRCatalogs\n",
    "import dustmaps\n",
    "from dustmaps.sfd import SFDQuery\n",
    "from astropy.coordinates import SkyCoord\n",
    "from dustmaps.config import config\n",
    "import matplotlib.pyplot as plt\n",
    "config['data_dir'] = '/global/cfs/cdirs/lsst/groups/PZ/PhotoZDC2/run2.2i_dr6_test/TESTDUST/mapdata' #update this path when dustmaps are copied to a more stable location!\n",
    "%matplotlib inline"
   ]
  },
  {
   "cell_type": "code",
   "execution_count": null,
   "metadata": {},
   "outputs": [],
   "source": [
    "# set the A_lamba/E(B-V) values for the six LSST filters \n",
    "band_a_ebv = np.array([4.81,3.64,2.70,2.06,1.58,1.31])"
   ]
  },
  {
   "cell_type": "markdown",
   "metadata": {},
   "source": [
    "Let's grab a sample set of DC2 data to deredden, we'll use run2.2i_dr6c and use tract 3450 (which has some areas with slightly higher extinction), and store it in a pandas dataframe for simplicity:"
   ]
  },
  {
   "cell_type": "code",
   "execution_count": null,
   "metadata": {},
   "outputs": [],
   "source": [
    "cat = GCRCatalogs.load_catalog(\"dc2_object_run2.2i_dr6c\")"
   ]
  },
  {
   "cell_type": "code",
   "execution_count": null,
   "metadata": {},
   "outputs": [],
   "source": [
    "columns = ['ra','dec','extendedness','blendedness']\n",
    "for band in ['u','g','r','i','z','y']:\n",
    "    columns.append(f'mag_{band}_cModel') #cModel magnitudes\n",
    "    columns.append(f'mag_{band}') #alias for the PSF magnitudes"
   ]
  },
  {
   "cell_type": "code",
   "execution_count": null,
   "metadata": {},
   "outputs": [],
   "source": [
    "data = cat.get_quantities(columns,native_filters=['tract==3450'])"
   ]
  },
  {
   "cell_type": "code",
   "execution_count": null,
   "metadata": {},
   "outputs": [],
   "source": [
    "df = pd.DataFrame(data)"
   ]
  },
  {
   "cell_type": "code",
   "execution_count": null,
   "metadata": {},
   "outputs": [],
   "source": [
    "df.head()"
   ]
  },
  {
   "cell_type": "markdown",
   "metadata": {},
   "source": [
    "Now, we need to create a set of astropy SkyCoord coordinates for all of our RA's and DEC's"
   ]
  },
  {
   "cell_type": "code",
   "execution_count": null,
   "metadata": {},
   "outputs": [],
   "source": [
    "coords = c = SkyCoord(df['ra'], df['dec'], unit = 'deg',frame='fk5')"
   ]
  },
  {
   "cell_type": "markdown",
   "metadata": {},
   "source": [
    "Looking up the ebv value at each position is now a simple procedure with `dustmaps`"
   ]
  },
  {
   "cell_type": "code",
   "execution_count": null,
   "metadata": {},
   "outputs": [],
   "source": [
    "sfd = SFDQuery()\n",
    "ebvvec = sfd(coords)\n",
    "df['ebv'] = ebvvec"
   ]
  },
  {
   "cell_type": "markdown",
   "metadata": {},
   "source": [
    "To de-redden the magnitudes, we simply need to subtract of A_lambda/E(B-V)*E(B-V) for each band:"
   ]
  },
  {
   "cell_type": "code",
   "execution_count": null,
   "metadata": {},
   "outputs": [],
   "source": [
    "for i,band in enumerate(['u','g','r','i','z','y']):\n",
    "    df[f'mag_{band}_cModel_dered']= df[f'mag_{band}_cModel']-df['ebv']*band_a_ebv[i]\n",
    "    df[f'mag_{band}_dered'] = df[f'mag_{band}']-df['ebv']*band_a_ebv[i]"
   ]
  },
  {
   "cell_type": "markdown",
   "metadata": {},
   "source": [
    "That's it!  But, to check if our dereddening worked correctly we'll make a few plots.  Let's see what our E(B-V) map looks like in this tract:"
   ]
  },
  {
   "cell_type": "code",
   "execution_count": null,
   "metadata": {},
   "outputs": [],
   "source": [
    "fig = plt.figure(figsize=(15,12))\n",
    "plt.scatter(df['ra'][::10],df['dec'][::10],s=15,c=df['ebv'][::10],cmap='hot')\n",
    "plt.xlabel(\"RA (degrees)\",fontsize=18)\n",
    "plt.ylabel(\"DEC (degrees)\",fontsize=18)\n",
    "plt.colorbar();"
   ]
  },
  {
   "cell_type": "markdown",
   "metadata": {},
   "source": [
    "We see varying amounts of foreground dust with an E(B-V) going as high as 0.05.  For the u-band this means a de-reddening as high as 0.25 magnitudes, with lesser effects for longer wavelength bands.  Let's Select some non-blended, non-extended samples from the region with high E(B-V), and compare them to the input \"truth\" colors for stars with and without Milky Way dust included."
   ]
  },
  {
   "cell_type": "code",
   "execution_count": null,
   "metadata": {},
   "outputs": [],
   "source": [
    "mask = (df['ebv']>.04) & (df['blendedness']<.05) & (df['extendedness']<.1) & (df['mag_i_cModel_dered']<23.5)\n",
    "gooddf = df[mask]"
   ]
  },
  {
   "cell_type": "markdown",
   "metadata": {},
   "source": [
    "For our comparison set, let's query the `dc2_truth_run2.2i_star_truth_summary` table, which contains AB fluxes for the stars both with and without the effects of dust included.  We'll select stars from the same region of the sky and compute the colors as -2.5*log10(ratio of fluxes) and save these in a separate dataframe named stardf:"
   ]
  },
  {
   "cell_type": "code",
   "execution_count": null,
   "metadata": {},
   "outputs": [],
   "source": [
    "starcat = GCRCatalogs.load_catalog(\"dc2_truth_run2.2i_star_truth_summary\")\n",
    "stardata = starcat.get_quantities(['ra','dec','flux_g','flux_r','flux_i','flux_z','flux_g_noMW','flux_r_noMW','flux_i_noMW','flux_z_noMW'],\n",
    "                                  filters=['ra >66.5','ra<66.9','dec>-40.2','dec<-39.6'])"
   ]
  },
  {
   "cell_type": "code",
   "execution_count": null,
   "metadata": {},
   "outputs": [],
   "source": [
    "stardf = pd.DataFrame(stardata)\n",
    "bands = ['g','r','i','z']\n",
    "for i in range(3):\n",
    "    stardf[f'{bands[i]}m{bands[i+1]}'] = -2.5*np.log10(stardf[f'flux_{bands[i]}']/stardf[f'flux_{bands[i+1]}'])\n",
    "    stardf[f'{bands[i]}m{bands[i+1]}_nomw'] = -2.5*np.log10(stardf[f'flux_{bands[i]}_noMW']/stardf[f'flux_{bands[i+1]}_noMW'])"
   ]
  },
  {
   "cell_type": "code",
   "execution_count": null,
   "metadata": {},
   "outputs": [],
   "source": [
    "stardf.head()"
   ]
  },
  {
   "cell_type": "markdown",
   "metadata": {},
   "source": [
    "Let's plot a color-color diagram of r-i vs g-r and show the observed star colors before and after dereddening, and compare to the truth table star colors with and without MW dust included:"
   ]
  },
  {
   "cell_type": "code",
   "execution_count": null,
   "metadata": {},
   "outputs": [],
   "source": [
    "fig = plt.figure(figsize=(10,10))\n",
    "plt.scatter(gooddf['mag_g']-gooddf['mag_r'],gooddf['mag_r']-gooddf['mag_i'],s=10,c='r',label=\"stars before dered\")\n",
    "plt.xlim(-.5,2.5)\n",
    "plt.ylim(-.5,2.5)\n",
    "plt.scatter(gooddf['mag_g_dered']-gooddf['mag_r_dered'],gooddf['mag_r_dered']-gooddf['mag_i_dered'],s=10,c='dodgerblue',label='dereddened stars')\n",
    "plt.scatter(stardf['gmr'],stardf['rmi'],s=20,c='purple',label =\"truth star colors with MW dust\")\n",
    "plt.scatter(stardf['gmr_nomw'],stardf['rmi_nomw'],s=20,c='k',label =\"truth star colors with no MW dust\" )\n",
    "plt.xlim(-.5,2.5)\n",
    "plt.ylim(-.5,2.5)\n",
    "plt.xlabel(\"g-r\",fontsize=18)\n",
    "plt.ylabel(\"r-i\",fontsize=18)\n",
    "plt.legend(loc='lower right',fontsize=16);"
   ]
  },
  {
   "cell_type": "markdown",
   "metadata": {},
   "source": [
    "We see the reddening vector as a shift in the colors, easily visible between the red and blue and black and purple points.  This reddening vector is somewhat aligned with the bluer stars in the stellar locus, but an offset is evident in the red M and L dwarfs.  We see that the dereddening procedure does, indeed, correct for the dust extinction. We can plot the two datasets on separate axes so things are a little more clear:"
   ]
  },
  {
   "cell_type": "code",
   "execution_count": null,
   "metadata": {},
   "outputs": [],
   "source": [
    "fig = plt.figure(figsize=(20,10))\n",
    "plt.subplot(121)\n",
    "plt.scatter(gooddf['mag_g']-gooddf['mag_r'],gooddf['mag_r']-gooddf['mag_i'],s=10,c='r',label=\"stars before dereddening\")\n",
    "plt.scatter(stardf['gmr'],stardf['rmi'],s=20,c='purple',label=\"truth star colors with MW dust\")\n",
    "#plt.scatter(stardf['gmr_nomw'],stardf['rmi_nomw'],s=50,c='k')\n",
    "plt.xlim(-.5,2.5)\n",
    "plt.ylim(-.5,2.5)\n",
    "plt.xlabel(\"g-r\",fontsize=18)\n",
    "plt.ylabel(\"r-i\",fontsize=18)\n",
    "plt.legend(loc='lower right',fontsize=16)\n",
    "plt.subplot(122)\n",
    "plt.scatter(gooddf['mag_g_dered']-gooddf['mag_r_dered'],gooddf['mag_r_dered']-gooddf['mag_i_dered'],s=10,c='dodgerblue',label='stars after dereddening')\n",
    "#plt.scatter(stardf['gmr'],stardf['rmi'],s=20,c='purple',label = \"truth star colors\")\n",
    "plt.scatter(stardf['gmr_nomw'],stardf['rmi_nomw'],s=20,c='k',label='truth star colors without MW dust')\n",
    "plt.xlim(-.5,2.5)\n",
    "plt.ylim(-.5,2.5)\n",
    "plt.xlabel(\"g-r\",fontsize=18)\n",
    "plt.ylabel(\"r-i\",fontsize=18)\n",
    "plt.legend(loc='lower right',fontsize=16);"
   ]
  },
  {
   "cell_type": "markdown",
   "metadata": {},
   "source": [
    "And, finally, we will also plot i-z vs g-r:"
   ]
  },
  {
   "cell_type": "code",
   "execution_count": null,
   "metadata": {},
   "outputs": [],
   "source": [
    "fig = plt.figure(figsize=(10,10))\n",
    "plt.scatter(gooddf['mag_g']-gooddf['mag_r'],gooddf['mag_i']-gooddf['mag_z'],s=10,c='r',label=\"stars before dereddening\")\n",
    "plt.scatter(stardf['gmr_nomw'],stardf['imz_nomw'],s=20,c='k',label=\"truth star colors with no MW dust\")\n",
    "plt.scatter(gooddf['mag_g_dered']-gooddf['mag_r_dered'],gooddf['mag_i_dered']-gooddf['mag_z_dered'],s=10,c='dodgerblue',label='stars after dereddening')\n",
    "plt.scatter(stardf['gmr'],stardf['imz'],s=20,c='purple',label='truth star colors with MW dust')\n",
    "plt.xlim(-.5,2.)\n",
    "plt.ylim(-.5,1.5)\n",
    "plt.xlabel(\"g-r\",fontsize=18)\n",
    "plt.ylabel(\"i-z\",fontsize=18)\n",
    "plt.legend(loc='lower right',fontsize=16);"
   ]
  },
  {
   "cell_type": "code",
   "execution_count": null,
   "metadata": {},
   "outputs": [],
   "source": [
    "fig = plt.figure(figsize=(20,10))\n",
    "plt.subplot(121)\n",
    "plt.scatter(gooddf['mag_g']-gooddf['mag_r'],gooddf['mag_i']-gooddf['mag_z'],s=10,c='r',label=\"stars before dereddening\")\n",
    "plt.scatter(stardf['gmr'],stardf['imz'],s=20,c='purple',label='truth star colors')\n",
    "#plt.scatter(stardf['gmr_nomw'],stardf['imz_nomw'],s=20,c='k',label ='truth star colors with no MW dust')\n",
    "plt.xlim(-.5,2.)\n",
    "plt.ylim(-.5,1.5)\n",
    "plt.xlabel(\"g-r\",fontsize=18)\n",
    "plt.ylabel(\"i-z\",fontsize=18)\n",
    "plt.legend(loc='lower right',fontsize = 16)\n",
    "plt.subplot(122)\n",
    "plt.scatter(gooddf['mag_g_dered']-gooddf['mag_r_dered'],gooddf['mag_i_dered']-gooddf['mag_z_dered'],s=10,c='dodgerblue',label='stars after dereddening')\n",
    "#plt.scatter(stardf['gmr'],stardf['imz'],s=20,c='purple',label='truth star colors')\n",
    "plt.scatter(stardf['gmr_nomw'],stardf['imz_nomw'],s=20,c='k',label='truth star colors with no MW dust')\n",
    "plt.xlim(-.5,2.)\n",
    "plt.ylim(-.5,1.5)\n",
    "plt.xlabel(\"g-r\",fontsize=18)\n",
    "plt.ylabel(\"i-z\",fontsize=18)\n",
    "plt.legend(loc='lower right',fontsize=16);"
   ]
  },
  {
   "cell_type": "markdown",
   "metadata": {},
   "source": [
    "So, our dereddening worked correctly, and we see that the locus has shifted to match the truth star colors."
   ]
  }
 ],
 "metadata": {
  "kernelspec": {
   "display_name": "desc-python",
   "language": "python",
   "name": "desc-python"
  },
  "language_info": {
   "codemirror_mode": {
    "name": "ipython",
    "version": 3
   },
   "file_extension": ".py",
   "mimetype": "text/x-python",
   "name": "python",
   "nbconvert_exporter": "python",
   "pygments_lexer": "ipython3",
   "version": "3.7.6"
  }
 },
 "nbformat": 4,
 "nbformat_minor": 4
}
