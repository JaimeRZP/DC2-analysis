{
 "cells": [
  {
   "cell_type": "markdown",
   "metadata": {},
   "source": [
    "## De-reddening magnitudes in DC2 to remove Galactic dust<br>\n",
    "This notebook shows a quick demo of how to remove Galactic dust from the DC2 catalogs.  <br>\n",
    "\n",
    "In DC2, the CCM model *reference?* was assumed when calculating the dust model, we will use the lsst.sims.catUtils dust package to compute the E(B-V) values for model dust, the lsst.sims.photUtils package to compute the effective wavelengths for the filters, and then set up the CCM model and calculate Alambda/E(B-V) for each of the LSST filters.<br>\n",
    "\n",
    "As an example, we will compute de-reddened magnitudes for a single tract (tract 4850) of Run2.1i, perform a friends of friends match to the extragalactic truth catalog, and make a histogram of the magnitude residuals, we should see that the peak of the residuals centers at zero after de-reddening if we have done things properly."
   ]
  },
  {
   "cell_type": "code",
   "execution_count": null,
   "metadata": {},
   "outputs": [],
   "source": [
    "import os\n",
    "import GCRCatalogs\n",
    "from GCR import GCRQuery\n",
    "import h5py\n",
    "import pandas as pd\n",
    "import numpy as np\n",
    "import scipy.interpolate\n",
    "#grab the dust model\n",
    "from lsst.sims.catUtils.dust import EBVbase\n",
    "from lsst.sims import photUtils\n",
    "from lsst.sims.photUtils import BandpassSet\n",
    "import matplotlib.pyplot as plt\n",
    "%matplotlib inline"
   ]
  },
  {
   "cell_type": "code",
   "execution_count": null,
   "metadata": {},
   "outputs": [],
   "source": [
    "ebv_gen = EBVbase()"
   ]
  },
  {
   "cell_type": "code",
   "execution_count": null,
   "metadata": {},
   "outputs": [],
   "source": [
    "def compute_ebv(ra,dec):\n",
    "    \"\"\"\n",
    "    compute ebv vector for a set of ra's and dec's, inputs assumed to be in degrees \n",
    "    though calculateEbv assumes radians, so need to convert\n",
    "    NOTE: interp=True was used for DC2, so make sure that is set!!!\n",
    "    interp defaults to False, and returns the same E(B-V) value in each pixel in that case, \n",
    "    rather than a smooth interpolation \n",
    "    inputs: ra, dec:\n",
    "      vectors of sky coords in degrees\n",
    "    returns:\n",
    "    ebv:\n",
    "      vector of E(B-V values from CCM model\n",
    "    \"\"\"\n",
    "    ra_rad = np.radians(ra)\n",
    "    dec_rad = np.radians(dec)\n",
    "    eq_coords = np.array([ra_rad,dec_rad])\n",
    "    ebv_vec = ebv_gen.calculateEbv(equatorialCoordinates=(eq_coords),interp=True)\n",
    "    return ebv_vec"
   ]
  },
  {
   "cell_type": "code",
   "execution_count": null,
   "metadata": {},
   "outputs": [],
   "source": [
    "def compute_alambda_over_ebv(filterset=['u','g','r','i','z','y']):\n",
    "    \"\"\"\n",
    "    compute the effective wavelengths and alambda/E(B-V) balues for a set of filters\n",
    "    We will grab the flat SED from the SIMS library to calculate the CCM dust model \n",
    "    that was assumed for DC2, and then grab the baseline ugrizy filters and calculate \n",
    "    their effective wavelengths, and evaluate the CCM alam_over_ebv value at those\n",
    "    wavelengths\n",
    "    inputs: filterset:\n",
    "      vector of filters (limited to ugrizy present for the baseline LSST filterset)\n",
    "    returns:\n",
    "    lam_eff_list: \n",
    "      np 1d array of filter effective wavelengths for the filters\n",
    "    alam_over_ebv_list:\n",
    "      np 1d array of alam_over_ebv values for the filters\n",
    "    \"\"\"\n",
    "    lam_eff_list = []\n",
    "    alam_over_ebv_list = []\n",
    "    sed_file = os.path.join(os.environ['SIMS_SED_LIBRARY_DIR'],'flatSED','sed_flat.txt.gz')\n",
    "    sed = photUtils.Sed()\n",
    "    sed.readSED_flambda(sed_file)\n",
    "    ax,bx = sed.setupCCM_ab()\n",
    "    ccm_model = 3.1*ax+bx\n",
    "    wl = sed.wavelen\n",
    "    ccm_spline = scipy.interpolate.interp1d(wl,ccm_model,bounds_error=True)\n",
    "    alam_over_ebv = 3.1*ax+bx\n",
    "    filterset = ['u','g','r','i','z','y']\n",
    "    for filter in filterset:\n",
    "        bp_file = os.path.join(os.environ['LSST_THROUGHPUTS_BASELINE'],'',f'total_{filter}.dat')\n",
    "        bandpass = photUtils.Bandpass()\n",
    "        bandpass.readThroughput(bp_file)\n",
    "        _,leff = bandpass.calcEffWavelen()\n",
    "        lam_eff_list.append(leff)\n",
    "        #print(f\"band {filter} leff1: {leff:.3f}\")\n",
    "        alam = ccm_spline(leff)\n",
    "        #print(f\"leff for band {filter}: {alam:.3f}\")\n",
    "        alam_over_ebv_list.append(alam)\n",
    "    return np.array(lam_eff_list),np.array(alam_over_ebv_list)"
   ]
  },
  {
   "cell_type": "markdown",
   "metadata": {},
   "source": [
    "Let's do a quick check that we are getting the results that we expect.  For DC2 we should get the following for the effective wavelengths and A_lam/E(B-V) values:<br>\n",
    "u 367.07 nm A_lambda/EBV = 4.812<br>\n",
    "g 482.69 nm A_lambda/EBV = 3.642<br>\n",
    "r 622.32 nm A_lambda/EBV = 2.699<br>\n",
    "i 754.60 nm A_lambda/EBV = 2.062<br>\n",
    "z 869.01 nm A_lambda/EBV = 1.578<br>\n",
    "y 971.03 nm A_lambda/EBV = 1.313<br>\n",
    "If these values do not match those in the next cell, check that the Baseline filter definitions have not changed!"
   ]
  },
  {
   "cell_type": "code",
   "execution_count": null,
   "metadata": {},
   "outputs": [],
   "source": [
    "filterlist = ['u','g','r','i','z','y']\n",
    "leff_list,alamebv_list = compute_alambda_over_ebv(filterlist)\n",
    "for filt,leff, alamebv in zip(filterlist,leff_list,alamebv_list):\n",
    "    print(f\"filter {filt} lam_eff: {leff:.2f}nm   alam/E(B-V): {alamebv:.3f}\")\n"
   ]
  },
  {
   "cell_type": "code",
   "execution_count": null,
   "metadata": {},
   "outputs": [],
   "source": [
    "def make_catalog(gc,tract):\n",
    "    \"\"\"\n",
    "    function to make a pandas dataframe with some basic info for a tract/patch for all six bands \n",
    "    inputs:\n",
    "    gc: catalog reader\n",
    "    tract: int; tract number\n",
    "    returns:\n",
    "    Pandas dataframe with mags and dereddened mags, plus a few columns\n",
    "    \"\"\"\n",
    "    \n",
    "    bands = ['u','g','r','i','z','y']\n",
    "    columns = ['ra','dec','extendedness','blendedness','tract','patch','objectId']\n",
    "    for band in bands:\n",
    "        columns.append(f'mag_{band}_cModel')\n",
    "        columns.append(f'cModelFlux_{band}')\n",
    "    \n",
    "    data = gc.get_quantities(columns,native_filters=[f'tract=={tract}'])\n",
    "    #for i,data in enumerate(gc.get_quantities(columns,return_iterator=True)):\n",
    "    df = pd.DataFrame(data)\n",
    "    ebv_vec = compute_ebv(df['ra'],df['dec'])\n",
    "    df['ebv']=ebv_vec\n",
    "    tract = df['tract'][0]\n",
    "    patch = df['patch'][0]\n",
    "    patch0,patch1 = patch.split(',')\n",
    "\n",
    "    #band_meanlam = [3671., 4827.,6223.,7546.,8691.,9710.] #mean wl for ugrizy filters\n",
    "    ##A/E(B-V) calculated from CCM model that Scott said was used for run2.1i\n",
    "    #band_a_ebv = np.array([4.81,3.64,2.70,2.06,1.58,1.31]) \n",
    "\n",
    "    band_meanlam,band_a_ebv = compute_alambda_over_ebv(bands)\n",
    "    for ii,band in enumerate(bands):\n",
    "        #add dereddened magnitudes and re-calculate log version of errors    \n",
    "        deredden_mag = ebv_vec*band_a_ebv[ii]\n",
    "        cmod_dered =df[f\"mag_{band}_cModel\"] - deredden_mag\n",
    "        df[f\"cModel_{band}_dered\"]=cmod_dered\n",
    "        \n",
    "    return df"
   ]
  },
  {
   "cell_type": "code",
   "execution_count": null,
   "metadata": {},
   "outputs": [],
   "source": [
    "catalog_name='dc2_object_run2.1i_dr1b'\n",
    "tract = 4850\n",
    "gc = GCRCatalogs.load_catalog(catalog_name)\n",
    "df = make_catalog(gc,tract)"
   ]
  },
  {
   "cell_type": "markdown",
   "metadata": {},
   "source": [
    "Let's take a look at what we have stored in our dataframe"
   ]
  },
  {
   "cell_type": "code",
   "execution_count": null,
   "metadata": {},
   "outputs": [],
   "source": [
    "df.info()"
   ]
  },
  {
   "cell_type": "markdown",
   "metadata": {},
   "source": [
    "Now, let's do a friends-of-friends match to the extragalactic truth catalog with some code copied from the matching_fof.ipynb tutorial notebook"
   ]
  },
  {
   "cell_type": "code",
   "execution_count": null,
   "metadata": {},
   "outputs": [],
   "source": [
    "minra = np.amin(df['ra'])\n",
    "maxra = np.amax(df['ra'])\n",
    "mindec = np.amin(df['dec'])\n",
    "maxdec = np.amax(df['dec'])"
   ]
  },
  {
   "cell_type": "code",
   "execution_count": null,
   "metadata": {},
   "outputs": [],
   "source": [
    "truthcat = GCRCatalogs.load_catalog('cosmoDC2_v1.1.4_image')"
   ]
  },
  {
   "cell_type": "code",
   "execution_count": null,
   "metadata": {},
   "outputs": [],
   "source": [
    "radec_mask = [f'ra>={minra}',f'ra<{maxra}',f'dec>={mindec}',f'dec<{maxdec}',(np.isfinite,'mag_i_lsst'),'mag_i_lsst<25.0']"
   ]
  },
  {
   "cell_type": "code",
   "execution_count": null,
   "metadata": {},
   "outputs": [],
   "source": [
    "truth_data = truthcat.get_quantities(['ra','dec','redshift','mag_u_lsst','mag_g_lsst','mag_r_lsst',\n",
    "                                      'mag_i_lsst','mag_z_lsst','mag_y_lsst','galaxy_id'],filters=radec_mask)"
   ]
  },
  {
   "cell_type": "code",
   "execution_count": null,
   "metadata": {},
   "outputs": [],
   "source": [
    "print(len(truth_data['ra']))"
   ]
  },
  {
   "cell_type": "code",
   "execution_count": null,
   "metadata": {},
   "outputs": [],
   "source": [
    "import FoFCatalogMatching"
   ]
  },
  {
   "cell_type": "code",
   "execution_count": null,
   "metadata": {},
   "outputs": [],
   "source": [
    "results = FoFCatalogMatching.match(catalog_dict={'truth':truth_data,'obs':df},linking_lengths=1.0,\n",
    "                                   catalog_len_getter= lambda x: len(x['ra']))"
   ]
  },
  {
   "cell_type": "code",
   "execution_count": null,
   "metadata": {},
   "outputs": [],
   "source": [
    "#grab just the 1:1 matches"
   ]
  },
  {
   "cell_type": "code",
   "execution_count": null,
   "metadata": {},
   "outputs": [],
   "source": [
    "truth_mask = results['catalog_key'] == 'truth'\n",
    "object_mask = ~truth_mask\n",
    "n_groups = results['group_id'].max() + 1\n",
    "n_truth = np.bincount(results['group_id'][truth_mask], minlength=n_groups)\n",
    "n_object = np.bincount(results['group_id'][object_mask], minlength=n_groups)\n",
    "one_to_one_group_mask = np.in1d(results['group_id'], np.flatnonzero((n_truth == 1) & (n_object == 1)))\n",
    "truth_idx = results['row_index'][one_to_one_group_mask & truth_mask]\n",
    "object_idx = results['row_index'][one_to_one_group_mask & object_mask]"
   ]
  },
  {
   "cell_type": "code",
   "execution_count": null,
   "metadata": {},
   "outputs": [],
   "source": [
    "truthdf = pd.DataFrame(truth_data).iloc[truth_idx].reset_index(drop=True)"
   ]
  },
  {
   "cell_type": "code",
   "execution_count": null,
   "metadata": {},
   "outputs": [],
   "source": [
    "objdf = pd.DataFrame(df).iloc[object_idx].reset_index(drop=True)"
   ]
  },
  {
   "cell_type": "code",
   "execution_count": null,
   "metadata": {},
   "outputs": [],
   "source": [
    "bigdf = pd.merge(truthdf,objdf,left_index=True,right_index=True,suffixes = ('_truth','_obj'))"
   ]
  },
  {
   "cell_type": "markdown",
   "metadata": {},
   "source": [
    "We now have a dataframe with both the \"truth\" and \"object\" quantities:"
   ]
  },
  {
   "cell_type": "code",
   "execution_count": null,
   "metadata": {},
   "outputs": [],
   "source": [
    "bigdf.info()"
   ]
  },
  {
   "cell_type": "markdown",
   "metadata": {},
   "source": [
    "Let's look at the bright, non-blended, and highest extinction values for the cleanest sample to see the effect of the dust "
   ]
  },
  {
   "cell_type": "code",
   "execution_count": null,
   "metadata": {},
   "outputs": [],
   "source": [
    "brightmask = ((bigdf['mag_i_cModel']<22.) & (bigdf['blendedness']<.1) & (bigdf['ebv']>.013))\n",
    "brightdf = bigdf[brightmask]"
   ]
  },
  {
   "cell_type": "markdown",
   "metadata": {},
   "source": [
    "Some histograms of the residuals to check that we did things properly"
   ]
  },
  {
   "cell_type": "code",
   "execution_count": null,
   "metadata": {},
   "outputs": [],
   "source": [
    "delu = brightdf['mag_u_cModel']-brightdf['mag_u_lsst']\n",
    "delu_dered = brightdf['cModel_u_dered']-brightdf['mag_u_lsst']\n",
    "print(np.nanmedian(delu))\n",
    "print(np.nanmedian(delu_dered))"
   ]
  },
  {
   "cell_type": "code",
   "execution_count": null,
   "metadata": {},
   "outputs": [],
   "source": [
    "bins =np.arange(-2.5,2.5,0.01)\n",
    "fig = plt.figure(figsize=(15,7))\n",
    "ax = plt.subplot(211)\n",
    "plt.hist(delu,bins=bins)\n",
    "plt.xlim(-.75,.75)\n",
    "plt.plot([0,0],[0,150],'k--')\n",
    "bx = plt.subplot(212)\n",
    "plt.hist(delu_dered,bins=bins)\n",
    "plt.xlim(-.75,.75)\n",
    "plt.plot([0,0],[0,150],'k--')"
   ]
  },
  {
   "cell_type": "code",
   "execution_count": null,
   "metadata": {},
   "outputs": [],
   "source": [
    "delg = bigdf['mag_g_cModel']-bigdf['mag_g_lsst']\n",
    "delg_dered = bigdf['cModel_g_dered']-bigdf['mag_g_lsst']\n",
    "print(np.nanmedian(delg))\n",
    "print(np.nanmedian(delg_dered))"
   ]
  },
  {
   "cell_type": "code",
   "execution_count": null,
   "metadata": {},
   "outputs": [],
   "source": [
    "fig = plt.figure(figsize=(15,7))\n",
    "ax = plt.subplot(211)\n",
    "plt.hist(delg,bins=bins)\n",
    "plt.xlim(-.75,.75)\n",
    "plt.plot([0,0],[0,3150],'k--')\n",
    "bx = plt.subplot(212)\n",
    "plt.hist(delg_dered,bins=bins)\n",
    "plt.xlim(-.75,.75)\n",
    "plt.plot([0,0],[0,3150],'k--')"
   ]
  },
  {
   "cell_type": "code",
   "execution_count": null,
   "metadata": {},
   "outputs": [],
   "source": [
    "delr = bigdf['mag_r_cModel']-bigdf['mag_r_lsst']\n",
    "delr_dered = bigdf['cModel_r_dered']-bigdf['mag_r_lsst']\n",
    "print(np.nanmedian(delr))\n",
    "print(np.nanmedian(delr_dered))"
   ]
  },
  {
   "cell_type": "code",
   "execution_count": null,
   "metadata": {},
   "outputs": [],
   "source": [
    "fig = plt.figure(figsize=(15,7))\n",
    "ax = plt.subplot(211)\n",
    "plt.hist(delr,bins=bins)\n",
    "plt.xlim(-.75,.75)\n",
    "plt.plot([0,0],[0,5150],'k--')\n",
    "bx = plt.subplot(212)\n",
    "plt.hist(delr_dered,bins=bins)\n",
    "plt.xlim(-.75,.75)\n",
    "plt.plot([0,0],[0,5150],'k--')"
   ]
  },
  {
   "cell_type": "code",
   "execution_count": null,
   "metadata": {},
   "outputs": [],
   "source": [
    "deli = bigdf['mag_i_cModel']-bigdf['mag_i_lsst']\n",
    "deli_dered = bigdf['cModel_i_dered']-bigdf['mag_i_lsst']\n",
    "print(np.nanmedian(delr))\n",
    "print(np.nanmedian(delr_dered))"
   ]
  },
  {
   "cell_type": "code",
   "execution_count": null,
   "metadata": {},
   "outputs": [],
   "source": [
    "fig = plt.figure(figsize=(15,7))\n",
    "ax = plt.subplot(211)\n",
    "plt.hist(deli,bins=bins)\n",
    "plt.xlim(-.75,.75)\n",
    "plt.plot([0,0],[0,5150],'k--')\n",
    "bx = plt.subplot(212)\n",
    "plt.hist(deli_dered,bins=bins)\n",
    "plt.xlim(-.75,.75)\n",
    "plt.plot([0,0],[0,5150],'k--')"
   ]
  },
  {
   "cell_type": "code",
   "execution_count": null,
   "metadata": {},
   "outputs": [],
   "source": [
    "fig = plt.figure(figsize=(10,10))\n",
    "plt.scatter(bigdf['ra_obj'][::5],bigdf['dec_obj'][::5],s=5,c=bigdf['ebv'][::5],cmap='jet')\n",
    "plt.colorbar()\n",
    "#plt.clim(0.)"
   ]
  },
  {
   "cell_type": "code",
   "execution_count": null,
   "metadata": {},
   "outputs": [],
   "source": []
  },
  {
   "cell_type": "code",
   "execution_count": null,
   "metadata": {},
   "outputs": [],
   "source": []
  }
 ],
 "metadata": {
  "kernelspec": {
   "display_name": "desc-stack",
   "language": "python",
   "name": "desc-stack"
  },
  "language_info": {
   "codemirror_mode": {
    "name": "ipython",
    "version": 3
   },
   "file_extension": ".py",
   "mimetype": "text/x-python",
   "name": "python",
   "nbconvert_exporter": "python",
   "pygments_lexer": "ipython3",
   "version": "3.7.4"
  }
 },
 "nbformat": 4,
 "nbformat_minor": 4
}
