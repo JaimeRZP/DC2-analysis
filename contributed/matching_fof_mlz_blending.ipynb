{
 "cells": [
  {
   "cell_type": "markdown",
   "metadata": {},
   "source": [
    "# Make MLZ input catalog of [1-1], [2-1], and [1-2] groups from fof matching.\n",
    "Editted by HyeYun Park, adding MLZ catalog making to 'matching_fof.ipynb' <br>\n",
    "(Match truth and coadd catalogs for DC2 Run 1.1p : Owner: Yao-Yuan Mao, Scott Daniel (with help from Anže Slosar, Bhairav Valera, HyeYun Park)) <br>\n",
    "\n",
    "**Notes:**\n",
    "- Follow this [step-by-step guide](https://confluence.slac.stanford.edu/x/Xgg4Dg) if you don't know how to run this notebook.\n",
    "- If you need more information about the Generic Catalog Reader (GCR), see [this diagram](https://github.com/yymao/generic-catalog-reader/blob/master/README.md#concept) and [more examples](https://github.com/LSSTDESC/gcr-catalogs/blob/master/examples/GCRCatalogs%20Demo.ipynb)."
   ]
  },
  {
   "cell_type": "code",
   "execution_count": 3,
   "metadata": {},
   "outputs": [],
   "source": [
    "import numpy as np\n",
    "import matplotlib.pyplot as plt\n",
    "%matplotlib inline"
   ]
  },
  {
   "cell_type": "code",
   "execution_count": 4,
   "metadata": {},
   "outputs": [],
   "source": [
    "from astropy.coordinates import SkyCoord\n",
    "import FoFCatalogMatching\n",
    "import GCRCatalogs"
   ]
  },
  {
   "cell_type": "code",
   "execution_count": null,
   "metadata": {},
   "outputs": [],
   "source": [
    "GCRCatalogs.available_catalogs"
   ]
  },
  {
   "cell_type": "code",
   "execution_count": 5,
   "metadata": {},
   "outputs": [],
   "source": [
    "# load coadd catalog (for a single tract)\n",
    "coadd_cat = GCRCatalogs.load_catalog('dc2_object_run1.2i_all_columns')"
   ]
  },
  {
   "cell_type": "code",
   "execution_count": null,
   "metadata": {},
   "outputs": [],
   "source": [
    "# Let's first visually inspect the footprint of one tract of the coadd catalog.\n",
    "# When `return_iterator` is turned on, the method `get_quantities` will return an \n",
    "# iterator, and each element in the iterator will be the quantities we requested in \n",
    "# different chunks of the dataset. \n",
    "\n",
    "# For coadd catalogs, the different chunks happen to be different patches, \n",
    "# resulting in a different color for each patch in the scatter plot below.\n",
    "\n",
    "for coadd_data in coadd_cat.get_quantities(['ra', 'dec'], return_iterator=True):\n",
    "    plt.scatter(coadd_data['ra'], coadd_data['dec'], s=1, rasterized=True);\n",
    "\n",
    "plt.xlabel('RA');\n",
    "plt.ylabel('Dec');"
   ]
  },
  {
   "cell_type": "code",
   "execution_count": null,
   "metadata": {
    "scrolled": true
   },
   "outputs": [],
   "source": [
    "# Let's choose a small RA and Dec range to do the matching so that it won't take too long!\n",
    "ra_min, ra_max = 55.5, 56.0\n",
    "dec_min, dec_max = -29.0, -28.5\n",
    "\n",
    "coord_filters = [\n",
    "    'ra >= {}'.format(ra_min),\n",
    "    'ra < {}'.format(ra_max),\n",
    "    'dec >= {}'.format(dec_min),\n",
    "    'dec < {}'.format(dec_max),\n",
    "]"
   ]
  },
  {
   "cell_type": "code",
   "execution_count": null,
   "metadata": {},
   "outputs": [],
   "source": [
    "# star, sprinkled, agn cuts for the truth catalog.\n",
    "from GCR import GCRQuery\n",
    "star_sprinkled_filter = [\n",
    "    ~GCRQuery('star'),\n",
    "    ~GCRQuery('sprinkled'),\n",
    "    ~GCRQuery('agn')\n",
    "]"
   ]
  },
  {
   "cell_type": "code",
   "execution_count": null,
   "metadata": {},
   "outputs": [],
   "source": [
    "# Lensing cuts based on Mandelbaum 2017 (arxiv 1705.06745)\n",
    "\n",
    "lensing_cuts = [\n",
    "    ~GCRQuery((np.isnan, 'i_modelfit_CModel_instFlux')), # (from this and below) remove nan entries\n",
    "    ~GCRQuery((np.isnan, 'ext_shapeHSM_HsmShapeRegauss_resolution')),\n",
    "    ~GCRQuery((np.isnan, 'ext_shapeHSM_HsmShapeRegauss_e1')),\n",
    "    ~GCRQuery((np.isnan, 'ext_shapeHSM_HsmShapeRegauss_e2')),\n",
    "    GCRQuery('i_SN_cmodel >= 10'),\n",
    "    GCRQuery('detect_isPrimary'), # (from this and below) basic flag cuts \n",
    "    ~GCRQuery('deblend_skipped'),\n",
    "    ~GCRQuery('base_PixelFlags_flag_edge'),\n",
    "    ~GCRQuery('base_PixelFlags_flag_interpolatedCenter'),\n",
    "    ~GCRQuery('base_PixelFlags_flag_saturatedCenter'),\n",
    "    ~GCRQuery('base_PixelFlags_flag_crCenter'),\n",
    "    ~GCRQuery('base_PixelFlags_flag_bad'),\n",
    "    ~GCRQuery('base_PixelFlags_flag_suspectCenter'),\n",
    "    ~GCRQuery('base_PixelFlags_flag_clipped'),\n",
    "    ~GCRQuery('ext_shapeHSM_HsmShapeRegauss_flag'),\n",
    "    GCRQuery('HSM_res >= 0.3'),\n",
    "    GCRQuery('HSM_ell < 2.0'),\n",
    "    GCRQuery('ext_shapeHSM_HsmShapeRegauss_sigma <= 0.4'),\n",
    "    GCRQuery('mag_i_cModel < 24.5'), # FIXME: Doesnt have exinction correction\n",
    "    GCRQuery('base_Blendedness_abs_instFlux < 10**(-0.375)'),\n",
    "]\n",
    "#    GCRQuery('i_SN_cmodel >= 10'), # (from this and below) cut on object properties"
   ]
  },
  {
   "cell_type": "code",
   "execution_count": null,
   "metadata": {},
   "outputs": [],
   "source": [
    "# Let's also define a magnitude cut\n",
    "mag_filters = [\n",
    "    (np.isfinite, 'mag_i'),\n",
    "    'mag_i < 24.5',\n",
    "]"
   ]
  },
  {
   "cell_type": "code",
   "execution_count": null,
   "metadata": {},
   "outputs": [],
   "source": [
    "# let's add total ellipticity for later use (not needed for now)\n",
    "coadd_cat.add_derived_quantity('shape_hsm_regauss_etot', np.hypot, 'ext_shapeHSM_HsmShapeRegauss_e1', 'ext_shapeHSM_HsmShapeRegauss_e2')"
   ]
  },
  {
   "cell_type": "code",
   "execution_count": null,
   "metadata": {},
   "outputs": [],
   "source": [
    "coadd_cat.add_quantity_modifier('i_SN_cmodel', \n",
    "                              (np.divide, 'i_modelfit_CModel_instFlux', 'i_modelfit_CModel_instFluxErr'), \n",
    "                              overwrite=True)\n",
    "coadd_cat.add_quantity_modifier('HSM_res', \n",
    "                              'ext_shapeHSM_HsmShapeRegauss_resolution', \n",
    "                              overwrite=True)\n",
    "coadd_cat.add_quantity_modifier('HSM_ell', \n",
    "                              (np.hypot, 'ext_shapeHSM_HsmShapeRegauss_e1', 'ext_shapeHSM_HsmShapeRegauss_e2'), \n",
    "                              overwrite=True)\n",
    "coadd_cat.add_quantity_modifier('psf_size', \n",
    "                              (lambda xx, yy, xy: 0.168*2.355*(xx*yy - xy*xy)**0.25, 'i_base_SdssShape_psf_xx', 'i_base_SdssShape_psf_yy', 'i_base_SdssShape_psf_xy'),\n",
    "                              overwrite=True)"
   ]
  },
  {
   "cell_type": "code",
   "execution_count": null,
   "metadata": {},
   "outputs": [],
   "source": [
    "# Load ra and dec from coadd, using both of the filters we just defined. (why not also grab e1 and e2 for later use?)\n",
    "coadd_data = coadd_cat.get_quantities(['ra', 'dec', 'objectId','mag_i_cModel','mag_u_cModel','mag_g_cModel','mag_r_cModel',\n",
    "                                       'mag_y_cModel','mag_z_cModel',\n",
    "                                       'magerr_i','magerr_u','magerr_g','magerr_r','magerr_y',\n",
    "                                       'magerr_z','shape_hsm_regauss_etot'],filters=(lensing_cuts))#, filters=(coord_filters + mag_filters))"
   ]
  },
  {
   "cell_type": "code",
   "execution_count": null,
   "metadata": {
    "scrolled": true
   },
   "outputs": [],
   "source": [
    "# Let's now turn to the truth catalog, turn of md5 sum check to save time\n",
    "truth_cat = GCRCatalogs.load_catalog('dc2_truth_run1.2_static', {'md5': None})"
   ]
  },
  {
   "cell_type": "code",
   "execution_count": null,
   "metadata": {},
   "outputs": [],
   "source": [
    "# for a reason that we will soon see, let's inspect the quantities in truth catalog\n",
    "\n",
    "print(sorted(truth_cat.list_all_quantities()))\n",
    "print('---')\n",
    "print(sorted(truth_cat.list_all_native_quantities()))"
   ]
  },
  {
   "cell_type": "code",
   "execution_count": null,
   "metadata": {},
   "outputs": [],
   "source": [
    "# so we see there is not mag_i, but only mag_true_i (i.e., magnitude before lensing), and it maps to `i`\n",
    "truth_cat.get_quantity_modifier('mag_true_i')"
   ]
  },
  {
   "cell_type": "code",
   "execution_count": null,
   "metadata": {},
   "outputs": [],
   "source": [
    "# to make our `mag_filters` work, let's define mag_i for the truth catalog\n",
    "truth_cat.add_quantity_modifier('mag_i', 'i')"
   ]
  },
  {
   "cell_type": "code",
   "execution_count": null,
   "metadata": {
    "scrolled": true
   },
   "outputs": [],
   "source": [
    "# get ra and dec from truth catalog\n",
    "# note that we add i < 24.5 to the native filter to speed up load time\n",
    "#truth_native_filters = (coord_filters + ['i < 24.5'])\n",
    "truth_data = truth_cat.get_quantities(['ra', 'dec', 'object_id', 'star', 'sprinkled','agn','redshift','mag_true_i',\n",
    "                                      'g','mag_true_g','mag_true_r', 'mag_true_u', 'mag_true_y', 'mag_true_z'],filters=star_sprinkled_filter)#, filters=mag_filters, native_filters=truth_native_filters)\n",
    "\n",
    "# We will use the object_id, star, and sprinkled columns when cross-referencing truth information with the extragalactic catalog."
   ]
  },
  {
   "cell_type": "code",
   "execution_count": null,
   "metadata": {},
   "outputs": [],
   "source": [
    "# check number of objects in truth and coadd catalog with the cuts (filters) \n",
    "print (len(coadd_data['ra']))\n",
    "print (len(truth_data['ra']))"
   ]
  },
  {
   "cell_type": "code",
   "execution_count": null,
   "metadata": {},
   "outputs": [],
   "source": [
    "# now we can really do the matching!\n",
    "# FoFCatalogMatching.match takes a dictionary of catalogs to match, a friends-of-friends linking length. \n",
    "# Because our \"catalog\" is not an astropy table or pandas dataframe, \n",
    "# `len(truth_coord)` won't give the actual length of the table\n",
    "# so we need to specify `catalog_len_getter` so that the code knows how to get the length of the catalog.\n",
    "\n",
    "results = FoFCatalogMatching.match(\n",
    "    catalog_dict={'truth': truth_data, 'coadd': coadd_data},\n",
    "    linking_lengths=1.0,\n",
    "    catalog_len_getter=lambda x: len(x['ra']),\n",
    ")"
   ]
  },
  {
   "cell_type": "code",
   "execution_count": 34,
   "metadata": {},
   "outputs": [
    {
     "data": {
      "text/html": [
       "<i>Table length=46290</i>\n",
       "<table id=\"table47065628376088\" class=\"table-striped table-bordered table-condensed\">\n",
       "<thead><tr><th>row_index</th><th>catalog_key</th><th>group_id</th></tr></thead>\n",
       "<thead><tr><th>int64</th><th>str5</th><th>int64</th></tr></thead>\n",
       "<tr><td>0</td><td>truth</td><td>0</td></tr>\n",
       "<tr><td>9166</td><td>coadd</td><td>0</td></tr>\n",
       "<tr><td>1</td><td>truth</td><td>1</td></tr>\n",
       "<tr><td>9843</td><td>coadd</td><td>1</td></tr>\n",
       "<tr><td>2</td><td>truth</td><td>2</td></tr>\n",
       "<tr><td>10045</td><td>coadd</td><td>2</td></tr>\n",
       "<tr><td>3</td><td>truth</td><td>3</td></tr>\n",
       "<tr><td>9932</td><td>coadd</td><td>3</td></tr>\n",
       "<tr><td>4</td><td>truth</td><td>4</td></tr>\n",
       "<tr><td>640</td><td>coadd</td><td>4</td></tr>\n",
       "<tr><td>...</td><td>...</td><td>...</td></tr>\n",
       "<tr><td>21938</td><td>coadd</td><td>24481</td></tr>\n",
       "<tr><td>21975</td><td>coadd</td><td>24482</td></tr>\n",
       "<tr><td>21987</td><td>coadd</td><td>24483</td></tr>\n",
       "<tr><td>22010</td><td>coadd</td><td>24484</td></tr>\n",
       "<tr><td>22041</td><td>coadd</td><td>24485</td></tr>\n",
       "<tr><td>22044</td><td>coadd</td><td>24486</td></tr>\n",
       "<tr><td>22078</td><td>coadd</td><td>24487</td></tr>\n",
       "<tr><td>22081</td><td>coadd</td><td>24488</td></tr>\n",
       "<tr><td>22083</td><td>coadd</td><td>24489</td></tr>\n",
       "<tr><td>22093</td><td>coadd</td><td>24490</td></tr>\n",
       "</table>"
      ],
      "text/plain": [
       "<Table length=46290>\n",
       "row_index catalog_key group_id\n",
       "  int64       str5     int64  \n",
       "--------- ----------- --------\n",
       "        0       truth        0\n",
       "     9166       coadd        0\n",
       "        1       truth        1\n",
       "     9843       coadd        1\n",
       "        2       truth        2\n",
       "    10045       coadd        2\n",
       "        3       truth        3\n",
       "     9932       coadd        3\n",
       "        4       truth        4\n",
       "      640       coadd        4\n",
       "      ...         ...      ...\n",
       "    21938       coadd    24481\n",
       "    21975       coadd    24482\n",
       "    21987       coadd    24483\n",
       "    22010       coadd    24484\n",
       "    22041       coadd    24485\n",
       "    22044       coadd    24486\n",
       "    22078       coadd    24487\n",
       "    22081       coadd    24488\n",
       "    22083       coadd    24489\n",
       "    22093       coadd    24490"
      ]
     },
     "execution_count": 34,
     "metadata": {},
     "output_type": "execute_result"
    }
   ],
   "source": [
    "# return of FoFCatalogMatching.match is an astropy table\n",
    "results"
   ]
  },
  {
   "cell_type": "code",
   "execution_count": null,
   "metadata": {},
   "outputs": [],
   "source": [
    "# now we want to count the number of truth and coadd objects *for each group*\n",
    "# but instead of looping over groups, we can do this in a smart (and very fast) way\n",
    "\n",
    "# first we need to know which rows are from the truth catalog and which are from the coadd\n",
    "truth_mask = results['catalog_key'] == 'truth'\n",
    "coadd_mask = ~truth_mask\n",
    "\n",
    "# then np.bincount will give up the number of id occurrences (like historgram but with integer input)\n",
    "n_groups = results['group_id'].max() + 1\n",
    "n_truth = np.bincount(results['group_id'][truth_mask], minlength=n_groups)\n",
    "n_coadd = np.bincount(results['group_id'][coadd_mask], minlength=n_groups)\n",
    "\n",
    "# now n_truth and n_coadd are the number of truth/coadd objects in each group\n",
    "# we want to make a 2d histrogram of (n_truth, n_coadd). \n",
    "n_max = max(n_truth.max(), n_coadd.max()) + 1\n",
    "hist_2d = np.bincount(n_coadd * n_max + n_truth, minlength=n_max*n_max).reshape(n_max, n_max)\n",
    "\n",
    "plt.imshow(np.log10(hist_2d+1), extent=(-0.5, n_max-0.5, -0.5, n_max-0.5), origin='lower');\n",
    "plt.xlabel('Number of truth objects');\n",
    "plt.ylabel('Number of coadd objects');\n",
    "plt.xlim(-0.5,5.5)\n",
    "plt.ylim(-0.5,5.5)\n",
    "plt.colorbar(label=r'$\\log(N_{\\rm groups} \\, + \\, 1)$');"
   ]
  },
  {
   "cell_type": "code",
   "execution_count": null,
   "metadata": {},
   "outputs": [],
   "source": [
    "# Let's further inspect the objects in the groups that have 1-to-1 truth/coadd match.\n",
    "\n",
    "# first, let's find our the IDs of the groups that have 1-to-1 truth/coadd match:\n",
    "one_to_one_group_mask = np.in1d(results['group_id'], np.flatnonzero((n_truth == 1) & (n_coadd == 1)))\n",
    "\n",
    "# and then we can find the row indices in the *original* truth/coadd catalogs for those 1-to-1 groups\n",
    "truth_idx = results['row_index'][one_to_one_group_mask & truth_mask]\n",
    "coadd_idx = results['row_index'][one_to_one_group_mask & coadd_mask]"
   ]
  },
  {
   "cell_type": "code",
   "execution_count": null,
   "metadata": {},
   "outputs": [],
   "source": [
    "# Let's further inspect the objects in the groups that have 2-to-1 truth/coadd match.\n",
    "# This group will contain possible blended objects.\n",
    "# first, let's find our the IDs of the groups that have 2-to-1 truth/coadd match:\n",
    "two_to_one_group_mask = np.in1d(results['group_id'], np.flatnonzero((n_truth == 2) & (n_coadd == 1)))\n",
    "\n",
    "# and then we can find the row indices in the *original* truth/coadd catalogs for those 2-to-1 groups\n",
    "truth_idx21 = results['row_index'][two_to_one_group_mask & truth_mask]\n",
    "coadd_idx21 = results['row_index'][two_to_one_group_mask & coadd_mask]"
   ]
  },
  {
   "cell_type": "code",
   "execution_count": null,
   "metadata": {},
   "outputs": [],
   "source": [
    "# Let's further inspect the objects in the groups that have 1-to-2 truth/coadd match.\n",
    "# This group will contain mis-detected objects.\n",
    "# first, let's find our the IDs of the groups that have 2-to-1 truth/coadd match:\n",
    "one_to_two_group_mask = np.in1d(results['group_id'], np.flatnonzero((n_truth == 1) & (n_coadd == 2)))\n",
    "\n",
    "# and then we can find the row indices in the *original* truth/coadd catalogs for those 1-to-2 groups\n",
    "truth_idx12 = results['row_index'][one_to_two_group_mask & truth_mask]\n",
    "coadd_idx12 = results['row_index'][one_to_two_group_mask & coadd_mask]"
   ]
  },
  {
   "cell_type": "code",
   "execution_count": null,
   "metadata": {},
   "outputs": [],
   "source": [
    "# Check number of objects in each group.\n",
    "print (len(truth_idx21))\n",
    "print (len(coadd_idx21))\n",
    "print (len(coadd_idx))\n",
    "print (len(truth_idx12))\n",
    "print (len(coadd_idx12))"
   ]
  },
  {
   "cell_type": "code",
   "execution_count": null,
   "metadata": {},
   "outputs": [],
   "source": [
    "# Use truth catalog's spec-z and magitudes to generate train and test catalogs for MLZ.\n",
    "truth_z=truth_data['redshift'][truth_idx]\n",
    "truth_mag_i=truth_data['mag_true_i'][truth_idx]\n",
    "truth_mag_u=truth_data['mag_true_u'][truth_idx]\n",
    "truth_mag_g=truth_data['mag_true_g'][truth_idx]\n",
    "truth_mag_r=truth_data['mag_true_r'][truth_idx]\n",
    "truth_mag_y=truth_data['mag_true_y'][truth_idx]\n",
    "truth_mag_z=truth_data['mag_true_z'][truth_idx]"
   ]
  },
  {
   "cell_type": "code",
   "execution_count": 55,
   "metadata": {},
   "outputs": [],
   "source": [
    "# Use truth catalog's spec-z and magitudes to generate train and test catalogs for MLZ.\n",
    "trainingfile=open(\"DC2.train\", \"w\")\n",
    "trainingfile.write(\"#redshift u g r i z u-g g-r r-i i-z\\n\")\n",
    "testfile=open(\"DC2.test\",\"w\")\n",
    "testfile.write(\"#redshift u g r i z u-g g-r r-i i-z\\n\")\n",
    "# You need random index to reduce bias on selecting magnitudes in order.\n",
    "index=np.random.choice(len(truth_z),len(truth_z),replace=False)\n",
    "\n",
    "for i in index[0:len(index)//2]:\n",
    "    string='%.6f %.5f %.5f %.5f %.5f %.5f %.5f %.5f %.5f %.5f\\n'%(truth_z[i],truth_mag_u[i],truth_mag_g[i],\n",
    "                                              truth_mag_r[i],truth_mag_i[i],truth_mag_z[i],\n",
    "                                             truth_mag_u[i]-truth_mag_g[i], truth_mag_g[i]-truth_mag_r[i],\n",
    "                                             truth_mag_r[i]-truth_mag_i[i], truth_mag_i[i]-truth_mag_z[i])\n",
    "    trainingfile.write(string)\n",
    "trainingfile.close()\n",
    "\n",
    "for i in index[len(index)//2+1:len(index)]:\n",
    "    string='%.6f %.5f %.5f %.5f %.5f %.5f %.5f %.5f %.5f %.5f\\n'%(truth_z[i],truth_mag_u[i],truth_mag_g[i],\n",
    "                                              truth_mag_r[i],truth_mag_i[i],truth_mag_z[i],\n",
    "                                             truth_mag_u[i]-truth_mag_g[i], truth_mag_g[i]-truth_mag_r[i],\n",
    "                                             truth_mag_r[i]-truth_mag_i[i], truth_mag_i[i]-truth_mag_z[i])\n",
    "    testfile.write(string)\n",
    "testfile.close()"
   ]
  },
  {
   "cell_type": "code",
   "execution_count": 22,
   "metadata": {},
   "outputs": [],
   "source": [
    "# Use truth catalog's spec-z and coadd catalog's magitudes (+errors) to generate train and test catalogs for MLZ.\n",
    "# This is for [1-1] group, which might be perfect match.\n",
    "truth_z=truth_data['redshift'][truth_idx]\n",
    "coadd_mag_i=coadd_data['mag_i_cModel'][coadd_idx]\n",
    "coadd_mag_u=coadd_data['mag_u_cModel'][coadd_idx]\n",
    "coadd_mag_r=coadd_data['mag_r_cModel'][coadd_idx]\n",
    "coadd_mag_g=coadd_data['mag_g_cModel'][coadd_idx]\n",
    "coadd_mag_y=coadd_data['mag_y_cModel'][coadd_idx]\n",
    "coadd_mag_z=coadd_data['mag_z_cModel'][coadd_idx]\n",
    "mag_error_i=coadd_data['magerr_i'][coadd_idx]\n",
    "mag_error_u=coadd_data['magerr_u'][coadd_idx]\n",
    "mag_error_r=coadd_data['magerr_r'][coadd_idx]\n",
    "mag_error_g=coadd_data['magerr_g'][coadd_idx]\n",
    "mag_error_y=coadd_data['magerr_y'][coadd_idx]\n",
    "mag_error_z=coadd_data['magerr_z'][coadd_idx]\n"
   ]
  },
  {
   "cell_type": "code",
   "execution_count": 31,
   "metadata": {},
   "outputs": [
    {
     "ename": "NameError",
     "evalue": "name 'truth_z' is not defined",
     "output_type": "error",
     "traceback": [
      "\u001b[0;31m---------------------------------------------------------------------------\u001b[0m",
      "\u001b[0;31mNameError\u001b[0m                                 Traceback (most recent call last)",
      "\u001b[0;32m<ipython-input-31-69494827fbff>\u001b[0m in \u001b[0;36m<module>\u001b[0;34m\u001b[0m\n\u001b[1;32m      3\u001b[0m \u001b[0mtestfile\u001b[0m\u001b[0;34m=\u001b[0m\u001b[0mopen\u001b[0m\u001b[0;34m(\u001b[0m\u001b[0;34m\"DC2_out_ss_lensingcuts_SN.test\"\u001b[0m\u001b[0;34m,\u001b[0m\u001b[0;34m\"w\"\u001b[0m\u001b[0;34m)\u001b[0m\u001b[0;34m\u001b[0m\u001b[0m\n\u001b[1;32m      4\u001b[0m \u001b[0mtestfile\u001b[0m\u001b[0;34m.\u001b[0m\u001b[0mwrite\u001b[0m\u001b[0;34m(\u001b[0m\u001b[0;34m\"#redshift u g r i y z u-g g-r r-i i-z eu eg er ei ey ez\\n\"\u001b[0m\u001b[0;34m)\u001b[0m\u001b[0;34m\u001b[0m\u001b[0m\n\u001b[0;32m----> 5\u001b[0;31m \u001b[0mindex\u001b[0m\u001b[0;34m=\u001b[0m\u001b[0mnp\u001b[0m\u001b[0;34m.\u001b[0m\u001b[0mrandom\u001b[0m\u001b[0;34m.\u001b[0m\u001b[0mchoice\u001b[0m\u001b[0;34m(\u001b[0m\u001b[0mlen\u001b[0m\u001b[0;34m(\u001b[0m\u001b[0mtruth_z\u001b[0m\u001b[0;34m)\u001b[0m\u001b[0;34m,\u001b[0m\u001b[0mlen\u001b[0m\u001b[0;34m(\u001b[0m\u001b[0mtruth_z\u001b[0m\u001b[0;34m)\u001b[0m\u001b[0;34m,\u001b[0m\u001b[0mreplace\u001b[0m\u001b[0;34m=\u001b[0m\u001b[0;32mFalse\u001b[0m\u001b[0;34m)\u001b[0m\u001b[0;34m\u001b[0m\u001b[0m\n\u001b[0m\u001b[1;32m      6\u001b[0m \u001b[0;34m\u001b[0m\u001b[0m\n\u001b[1;32m      7\u001b[0m \u001b[0;32mfor\u001b[0m \u001b[0mi\u001b[0m \u001b[0;32min\u001b[0m \u001b[0mindex\u001b[0m\u001b[0;34m[\u001b[0m\u001b[0;36m0\u001b[0m\u001b[0;34m:\u001b[0m\u001b[0mlen\u001b[0m\u001b[0;34m(\u001b[0m\u001b[0mindex\u001b[0m\u001b[0;34m)\u001b[0m\u001b[0;34m//\u001b[0m\u001b[0;36m2\u001b[0m\u001b[0;34m]\u001b[0m\u001b[0;34m:\u001b[0m\u001b[0;34m\u001b[0m\u001b[0m\n",
      "\u001b[0;31mNameError\u001b[0m: name 'truth_z' is not defined"
     ]
    }
   ],
   "source": [
    "# Use truth catalog's spec-z and coadd catalog's magitudes (+errors) to generate train and test catalogs for MLZ.\n",
    "# This is for [1-1] group, which might be perfect match.\n",
    "trainingfile=open(\"DC2_out_ss_lensingcuts_SN.train\", \"w\")\n",
    "trainingfile.write(\"#redshift u g r i y z u-g g-r r-i i-z eu eg er ei ey ez\\n\")\n",
    "testfile=open(\"DC2_out_ss_lensingcuts_SN.test\",\"w\")\n",
    "testfile.write(\"#redshift u g r i y z u-g g-r r-i i-z eu eg er ei ey ez\\n\")\n",
    "# You need random index to reduce bias on selecting magnitudes in order.\n",
    "index=np.random.choice(len(truth_z),len(truth_z),replace=False)\n",
    "\n",
    "for i in index[0:len(index)//2]:\n",
    "    if not np.any(np.isnan([truth_z[i],coadd_mag_i[i], coadd_mag_u[i], coadd_mag_r[i], coadd_mag_g[i], coadd_mag_y[i],coadd_mag_z[i], mag_error_i[i], mag_error_u[i], mag_error_r[i], mag_error_g[i], mag_error_y[i], mag_error_z[i]])):\n",
    "        string='%.6f %.5f %.5f %.5f %.5f %.5f %.5f %.5f %.5f %.5f %.5f %.9f %.9f %.9f %.9f %.9f %.9f\\n'%(truth_z[i],coadd_mag_u[i],coadd_mag_g[i],coadd_mag_r[i],\n",
    "                                                                                               coadd_mag_i[i],coadd_mag_y[i],coadd_mag_z[i],coadd_mag_u[i]-coadd_mag_g[i], \n",
    "                                                                                               coadd_mag_g[i]-coadd_mag_r[i],coadd_mag_r[i]-coadd_mag_i[i], \n",
    "                                                                                               coadd_mag_i[i]-coadd_mag_z[i],mag_error_u[i], mag_error_g[i],\n",
    "                                                                                               mag_error_r[i], mag_error_i[i],mag_error_y[i],mag_error_z[i])\n",
    "        trainingfile.write(string)\n",
    "trainingfile.close()\n",
    "\n",
    "for i in index[len(index)//2+1:len(index)]:\n",
    "    if not np.any(np.isnan([truth_z[i],coadd_mag_i[i], coadd_mag_u[i], coadd_mag_r[i], coadd_mag_g[i], coadd_mag_y[i],coadd_mag_z[i], mag_error_i[i], mag_error_u[i], mag_error_r[i], mag_error_g[i], mag_error_y[i], mag_error_z[i]])):\n",
    "        string='%.6f %.5f %.5f %.5f %.5f %.5f %.5f %.5f %.5f %.5f %.5f %.9f %.9f %.9f %.9f %.9f %.9f\\n'%(truth_z[i], coadd_mag_u[i],coadd_mag_g[i],\n",
    "                                                  coadd_mag_r[i],coadd_mag_i[i],coadd_mag_y[i], coadd_mag_z[i],coadd_mag_u[i]-coadd_mag_g[i], coadd_mag_g[i]-coadd_mag_r[i],coadd_mag_r[i]-coadd_mag_i[i], coadd_mag_i[i]-coadd_mag_z[i],mag_error_u[i], mag_error_g[i],mag_error_r[i], mag_error_i[i],mag_error_y[i],mag_error_z[i])\n",
    "        testfile.write(string)\n",
    "testfile.close()"
   ]
  },
  {
   "cell_type": "code",
   "execution_count": 83,
   "metadata": {},
   "outputs": [
    {
     "name": "stdout",
     "output_type": "stream",
     "text": [
      "[0.07915652        nan        nan ...        nan        nan        nan]\n",
      "12378\n"
     ]
    }
   ],
   "source": [
    "# Use truth catalog's spec-z and coadd catalog's magitudes (+errors) to generate train and test catalogs for MLZ.\n",
    "# This is for [2-1] group, which means two truth objects, one coadd object.\n",
    "# Therefore we need to pick one object from truth for spec-z information.\n",
    "truth_z21=[]\n",
    "truth_z21_all=truth_data['redshift'][truth_idx21]\n",
    "truth_mag_i21_all=truth_data['mag_true_i'][truth_idx21]\n",
    "\n",
    "# We will choose brighter/fainter object from two truth object.\n",
    "# and we cut out truth objects at mag 25. (we put nan value here and will exclude them on the catalog)\n",
    "for i in range(len(truth_idx21)//2):\n",
    "    if truth_mag_i21_all[2*i]<=25 and truth_mag_i21_all[2*i+1]<=25:\n",
    "        if truth_mag_i21_all[2*i]>=truth_mag_i21_all[2*i+1]:\n",
    "            brighter=truth_z21_all[2*i+1]\n",
    "            fainter=truth_z21_all[2*i]\n",
    "        else:\n",
    "            brighter=truth_z21_all[2*i]\n",
    "            fainter=truth_z21_all[2*i+1]\n",
    "    else:\n",
    "        brighter=np.nan\n",
    "        fainter=np.nan\n",
    "    truth_z21=np.append(truth_z21, brighter) #or (truth_z21, fainter) to choose fainter truth object.\n",
    "coadd_mag_i21=coadd_data['mag_i_cModel'][coadd_idx21]\n",
    "coadd_mag_u21=coadd_data['mag_u_cModel'][coadd_idx21]\n",
    "coadd_mag_r21=coadd_data['mag_r_cModel'][coadd_idx21]\n",
    "coadd_mag_g21=coadd_data['mag_g_cModel'][coadd_idx21]\n",
    "coadd_mag_y21=coadd_data['mag_y_cModel'][coadd_idx21]\n",
    "coadd_mag_z21=coadd_data['mag_z_cModel'][coadd_idx21]\n",
    "mag_error_i21=coadd_data['magerr_i'][coadd_idx21]\n",
    "mag_error_u21=coadd_data['magerr_u'][coadd_idx21]\n",
    "mag_error_r21=coadd_data['magerr_r'][coadd_idx21]\n",
    "mag_error_g21=coadd_data['magerr_g'][coadd_idx21]\n",
    "mag_error_y21=coadd_data['magerr_y'][coadd_idx21]\n",
    "mag_error_z21=coadd_data['magerr_z'][coadd_idx21]"
   ]
  },
  {
   "cell_type": "code",
   "execution_count": 37,
   "metadata": {},
   "outputs": [],
   "source": [
    "# Use truth catalog's spec-z and coadd catalog's magitudes (+errors) to generate train and test catalogs for MLZ.\n",
    "# This is for [2-1] group, which means two truth objects, one coadd object.\n",
    "\n",
    "trainingfile=open(\"DC2_out_ss_brighter_21.train\", \"w\")\n",
    "trainingfile.write(\"#redshift u g r i y z u-g g-r r-i i-z eu eg er ei ey ez\\n\")\n",
    "testfile=open(\"DC2_out_ss_brighter_21.test\",\"w\")\n",
    "testfile.write(\"#redshift u g r i y z u-g g-r r-i i-z eu eg er ei ey ez\\n\")\n",
    "index=np.random.choice(len(truth_z21),len(truth_z21),replace=False)\n",
    "\n",
    "for i in index[0:len(index)//2]:\n",
    "    if not np.any(np.isnan([truth_z21[i],coadd_mag_i21[i], coadd_mag_u21[i], \n",
    "                            coadd_mag_r21[i], coadd_mag_g21[i], coadd_mag_y21[i],\n",
    "                            coadd_mag_z21[i], mag_error_i21[i], mag_error_u21[i], \n",
    "                            mag_error_r21[i], mag_error_g21[i], mag_error_y21[i], \n",
    "                            mag_error_z21[i]])):\n",
    "        string='%.6f %.5f %.5f %.5f %.5f %.5f %.5f %.5f %.5f %.5f %.5f %.9f %.9f %.9f %.9f %.9f %.9f\\n'%(truth_z21[i],coadd_mag_u21[i],coadd_mag_g21[i],coadd_mag_r21[i],\n",
    "                                                                                               coadd_mag_i21[i],coadd_mag_y21[i],coadd_mag_z21[i],coadd_mag_u21[i]-coadd_mag_g21[i], \n",
    "                                                                                               coadd_mag_g21[i]-coadd_mag_r21[i],coadd_mag_r21[i]-coadd_mag_i21[i], \n",
    "                                                                                               coadd_mag_i21[i]-coadd_mag_z21[i],mag_error_u21[i], mag_error_g21[i],\n",
    "                                                                                               mag_error_r21[i], mag_error_i21[i],mag_error_y21[i],mag_error_z21[i])\n",
    "        trainingfile.write(string)\n",
    "trainingfile.close()\n",
    "\n",
    "for i in index[len(index)//2+1:len(index)]:\n",
    "    if not np.any(np.isnan([truth_z21[i],coadd_mag_i21[i], coadd_mag_u21[i], \n",
    "                            coadd_mag_r21[i], coadd_mag_g21[i], coadd_mag_y21[i],\n",
    "                            coadd_mag_z21[i], mag_error_i21[i], mag_error_u21[i], \n",
    "                            mag_error_r21[i], mag_error_g21[i], mag_error_y21[i],\n",
    "                            mag_error_z21[i]])):\n",
    "        string='%.6f %.5f %.5f %.5f %.5f %.5f %.5f %.5f %.5f %.5f %.5f %.9f %.9f %.9f %.9f %.9f %.9f\\n'%(truth_z21[i], coadd_mag_u21[i],coadd_mag_g21[i],\n",
    "                                                  coadd_mag_r21[i],coadd_mag_i21[i],coadd_mag_y21[i], coadd_mag_z21[i],coadd_mag_u21[i]-coadd_mag_g21[i], \n",
    "                                                                                                         coadd_mag_g21[i]-coadd_mag_r21[i],coadd_mag_r21[i]-coadd_mag_i21[i], \n",
    "                                                                                                         coadd_mag_i21[i]-coadd_mag_z21[i],mag_error_u21[i], mag_error_g21[i],\n",
    "                                                                                                         mag_error_r21[i], mag_error_i21[i],mag_error_y21[i],mag_error_z21[i])\n",
    "        testfile.write(string)\n",
    "testfile.close()"
   ]
  },
  {
   "cell_type": "code",
   "execution_count": 82,
   "metadata": {},
   "outputs": [
    {
     "name": "stdout",
     "output_type": "stream",
     "text": [
      "[0.08490384 0.07975113 0.10453808 ... 0.99175477 0.98569262 0.99781561]\n",
      "13554 6777 6777 6777\n",
      "3037\n"
     ]
    }
   ],
   "source": [
    "# Use truth catalog's spec-z and coadd catalog's magitudes (+errors) to generate train and test catalogs for MLZ.\n",
    "# This is for [1-2] group, which means one truth objects, two coadd object.\n",
    "# Therefore we need to pick one object from coadd. I used 'mag_i_cModel' to select brighter/fainter one.\n",
    "coadd_mag_i12, index_b=[],[]\n",
    "truth_mag_i12=truth_data['mag_true_i'][truth_idx12]\n",
    "coadd_mag_i12_all=coadd_data['mag_i_cModel'][coadd_idx12]\n",
    "\n",
    "truth_z12=truth_data['redshift'][truth_idx12]\n",
    "\n",
    "for i in range(len(coadd_idx12)//2):\n",
    "    if truth_mag_i12[i]>25:\n",
    "        brighter=np.nan\n",
    "        fainter=np.nan\n",
    "        index_b=np.append(index_b,2*i)\n",
    "    else:\n",
    "        if coadd_mag_i12_all[2*i]>=coadd_mag_i12_all[2*i+1]:\n",
    "            brighter=coadd_mag_i12_all[2*i+1]\n",
    "            fainter=coadd_mag_i12_all[2*i]\n",
    "            index_b=np.append(index_b,2*i+1)\n",
    "        else:\n",
    "            brighter=coadd_mag_i12_all[2*i]\n",
    "            fainter=coadd_mag_i12_all[2*i+1]\n",
    "            index_b=np.append(index_b,2*i)\n",
    "    coadd_mag_i12=np.append(coadd_mag_i12, brighter)#or (truth_z21, fainter) to choose fainter truth object.\n",
    "\n",
    "print (truth_z12)\n",
    "index_b=np.asanyarray(index_b,int)\n",
    "\n",
    "coadd_mag_u12=coadd_data['mag_u_cModel'][coadd_idx12][index_b]\n",
    "coadd_mag_r12=coadd_data['mag_r_cModel'][coadd_idx12][index_b]\n",
    "coadd_mag_g12=coadd_data['mag_g_cModel'][coadd_idx12][index_b]\n",
    "coadd_mag_y12=coadd_data['mag_y_cModel'][coadd_idx12][index_b]\n",
    "coadd_mag_z12=coadd_data['mag_z_cModel'][coadd_idx12][index_b]\n",
    "mag_error_i12=coadd_data['magerr_i'][coadd_idx12][index_b]\n",
    "mag_error_u12=coadd_data['magerr_u'][coadd_idx12][index_b]\n",
    "mag_error_r12=coadd_data['magerr_r'][coadd_idx12][index_b]\n",
    "mag_error_g12=coadd_data['magerr_g'][coadd_idx12][index_b]\n",
    "mag_error_y12=coadd_data['magerr_y'][coadd_idx12][index_b]\n",
    "mag_error_z12=coadd_data['magerr_z'][coadd_idx12][index_b]"
   ]
  },
  {
   "cell_type": "code",
   "execution_count": 79,
   "metadata": {},
   "outputs": [],
   "source": [
    "# Use truth catalog's spec-z and coadd catalog's magitudes (+errors) to generate train and test catalogs for MLZ.\n",
    "# This is for [1-2] group, which means one truth objects, two coadd object.\n",
    "trainingfile=open(\"DC2_out_ss_darker_12.train\", \"w\")\n",
    "trainingfile.write(\"#redshift u g r i y z u-g g-r r-i i-z eu eg er ei ey ez\\n\")\n",
    "testfile=open(\"DC2_out_ss_darker_12.test\",\"w\")\n",
    "testfile.write(\"#redshift u g r i y z u-g g-r r-i i-z eu eg er ei ey ez\\n\")\n",
    "index=np.random.choice(len(truth_z12),len(truth_z12),replace=False)\n",
    "\n",
    "for i in index[0:len(index)//2]:\n",
    "    if not np.any(np.isnan([truth_z12[i],coadd_mag_i12[i], coadd_mag_u12[i], \n",
    "                            coadd_mag_r12[i], coadd_mag_g12[i], coadd_mag_y12[i],\n",
    "                            coadd_mag_z12[i], mag_error_i12[i], mag_error_u12[i], \n",
    "                            mag_error_r12[i], mag_error_g12[i], mag_error_y12[i], \n",
    "                            mag_error_z12[i]])):\n",
    "        string='%.6f %.5f %.5f %.5f %.5f %.5f %.5f %.5f %.5f %.5f %.5f %.9f %.9f %.9f %.9f %.9f %.9f\\n'%(truth_z12[i],coadd_mag_u12[i],coadd_mag_g12[i],coadd_mag_r12[i],\n",
    "                                                                                               coadd_mag_i12[i],coadd_mag_y12[i],coadd_mag_z12[i],coadd_mag_u12[i]-coadd_mag_g12[i], \n",
    "                                                                                               coadd_mag_g12[i]-coadd_mag_r12[i],coadd_mag_r12[i]-coadd_mag_i12[i], \n",
    "                                                                                               coadd_mag_i12[i]-coadd_mag_z12[i],mag_error_u12[i], mag_error_g12[i],\n",
    "                                                                                               mag_error_r12[i], mag_error_i12[i],mag_error_y12[i],mag_error_z12[i])\n",
    "        trainingfile.write(string)\n",
    "trainingfile.close()\n",
    "\n",
    "for i in index[len(index)//2+1:len(index)]:\n",
    "    if not np.any(np.isnan([truth_z12[i],coadd_mag_i12[i], coadd_mag_u12[i], \n",
    "                            coadd_mag_r12[i], coadd_mag_g12[i], coadd_mag_y12[i],\n",
    "                            coadd_mag_z12[i], mag_error_i12[i], mag_error_u12[i], \n",
    "                            mag_error_r12[i], mag_error_g12[i], mag_error_y12[i], \n",
    "                            mag_error_z12[i]])):\n",
    "        string='%.6f %.5f %.5f %.5f %.5f %.5f %.5f %.5f %.5f %.5f %.5f %.9f %.9f %.9f %.9f %.9f %.9f\\n'%(truth_z12[i],coadd_mag_u12[i],coadd_mag_g12[i],coadd_mag_r12[i],\n",
    "                                                                                               coadd_mag_i12[i],coadd_mag_y12[i],coadd_mag_z12[i],coadd_mag_u12[i]-coadd_mag_g12[i], \n",
    "                                                                                               coadd_mag_g12[i]-coadd_mag_r12[i],coadd_mag_r12[i]-coadd_mag_i12[i], \n",
    "                                                                                               coadd_mag_i12[i]-coadd_mag_z12[i],mag_error_u12[i], mag_error_g12[i],\n",
    "                                                                                               mag_error_r12[i], mag_error_i12[i],mag_error_y12[i],mag_error_z12[i])\n",
    "        testfile.write(string)\n",
    "testfile.close()"
   ]
  },
  {
   "cell_type": "code",
   "execution_count": null,
   "metadata": {},
   "outputs": [],
   "source": []
  },
  {
   "cell_type": "code",
   "execution_count": null,
   "metadata": {},
   "outputs": [],
   "source": []
  }
 ],
 "metadata": {
  "kernelspec": {
   "display_name": "desc-stack-dev",
   "language": "python",
   "name": "desc-stack-dev"
  },
  "language_info": {
   "codemirror_mode": {
    "name": "ipython",
    "version": 3
   },
   "file_extension": ".py",
   "mimetype": "text/x-python",
   "name": "python",
   "nbconvert_exporter": "python",
   "pygments_lexer": "ipython3",
   "version": "3.6.6"
  }
 },
 "nbformat": 4,
 "nbformat_minor": 2
}
