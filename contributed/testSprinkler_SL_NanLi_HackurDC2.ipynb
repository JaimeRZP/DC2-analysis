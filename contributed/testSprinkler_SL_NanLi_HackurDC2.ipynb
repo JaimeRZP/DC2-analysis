{
 "cells": [
  {
   "cell_type": "markdown",
   "metadata": {},
   "source": [
    "# Validation tests for Sprinkler\n",
    "\n",
    "This notebook is not for an application of DC2 data but validation tests for Sprinkler, which is a module for embedding strong lensing systems in DC2. \n",
    "\n",
    "### Done\n",
    "- Compared the statistical properties of strong lensing systems created by Sprinkler with the predictions in Oguri & Marshall 2010 (OM10).\n",
    "- Found inconsistencies due to the luminosity and redshift distributions of AGNs in DC2.\n",
    "- Involved weighted (magnitudes and redshifts) matching methods to correct the inconsistencies.\n",
    "\n",
    "### ToDo\n",
    "- As is shown in the latest figure below, the corrections are noticeable but not perfect, we will keep trying other matching strategies to match the results from Sprinker to the predictions from OM10 as well as possible.\n",
    "\n",
    "***The kernel of this notebook is still Python2 because the OM10 Catalog used here is in Python2.***"
   ]
  },
  {
   "cell_type": "code",
   "execution_count": null,
   "metadata": {},
   "outputs": [],
   "source": [
    "%matplotlib inline\n",
    "%config InlineBackend.figure_format = 'retina'\n",
    "\n",
    "import matplotlib as mpl\n",
    "mpl.use('Agg')\n",
    "\n",
    "import matplotlib.pyplot as plt\n",
    "import sys\n",
    "sys.path.append(\"/global/u2/n/nlidesc/.local/lib/python3.6/site-packages/\")\n",
    "\n",
    "import numpy as np\n",
    "import astropy.io.fits as pyfits\n",
    "import pandas as pd\n",
    "import om10\n",
    "from om10 import db\n",
    "\n",
    "import seaborn as sns;sns.set()\n",
    "import warnings;warnings.filterwarnings('ignore')\n",
    "\n",
    "data_dir = \"/global/projecta/projectdirs/lsst/groups/SL/users/nanli/Projects/sprinkler_validation_SprintWeek/data/\""
   ]
  },
  {
   "cell_type": "code",
   "execution_count": null,
   "metadata": {},
   "outputs": [],
   "source": [
    "#--------------------------------------------\n",
    "# Tests for reading in OM10 lenses\n",
    "#\n",
    "\n",
    "data_test = db.DB(data_dir + \"qso_mock.fits\")\n",
    "# data_test.select_random(maglim=99.0,area=18000.0,IQ=0.7)\n",
    "data_test.select_random()\n",
    "good = data_test.sample\n",
    "mags_srcs = good['MAGI_IN']\n",
    "zred_srcs = good['ZSRC']\n",
    "\n",
    "idx1 = zred_srcs >=1.9\n",
    "idx2 = zred_srcs < 2.1\n",
    "\n",
    "idx = idx1&idx2\n",
    "\n",
    "print len(mags_srcs[idx])\n",
    "\n",
    "out_mags_data = mags_srcs[idx]\n",
    "\n",
    "out_mags_data.astype(np.float32).tofile('magi_in_2818.bin')\n",
    "\n",
    "# data_test.select_random(Nlens=1000)\n",
    "# good = data_test.sample"
   ]
  },
  {
   "cell_type": "code",
   "execution_count": null,
   "metadata": {},
   "outputs": [],
   "source": [
    "#-----------------------\n",
    "# OM10\n",
    "#\n",
    "\n",
    "def load_in_OM10():\n",
    "    ddb = db.DB(data_dir + \"qso_mock.fits\")\n",
    "    ddb.select_random(maglim=99.0,area=18000.0,IQ=0.7)\n",
    "    good = ddb.sample[np.where(ddb.sample['ZSRC'] < 3.6)]\n",
    "    print \"Number in cosmography sub-sample:\",len(good)\n",
    "\n",
    "    data_om10 = {}\n",
    "    data_om10['zlens'] = good['ZLENS']\n",
    "    data_om10['zsrcs'] = good['ZSRC']\n",
    "    data_om10['tdmax'] = np.log10(np.max(good['DELAY'], axis=1)) #/30.0 #month\n",
    "    data_om10['spmax'] = good['IMSEP']\n",
    "    data_om10['apmdi'] = good['APMAG_I']\n",
    "    data_om10['apmsi'] = good['MAGI_IN']\n",
    "    data_om10['apmli'] = good['MAGI_IN'] - 2.5*np.log10(np.sum(np.abs(good['MAG']), axis=1))\n",
    "    data_om10['Datasets'] = 'OM10'\n",
    "\n",
    "    df_om10 = pd.DataFrame(data=data_om10)\n",
    "    return df_om10"
   ]
  },
  {
   "cell_type": "code",
   "execution_count": null,
   "metadata": {},
   "outputs": [],
   "source": [
    "#-----------------------\n",
    "# MatchedAGNs\n",
    "#\n",
    "\n",
    "def load_in_MatchedAGNs():\n",
    "    ugly = pyfits.getdata(data_dir + \"cosmoDC2_v1.0_matched_AGN.fits\")\n",
    "\n",
    "    data_MatchedAGNs = {}\n",
    "    data_MatchedAGNs['zlens'] = ugly['ZLENS']\n",
    "    data_MatchedAGNs['zsrcs'] = ugly['ZSRC']\n",
    "    data_MatchedAGNs['tdmax'] = np.log10(np.max(ugly['DELAY'], axis=1)) #/30.0 #month\n",
    "    data_MatchedAGNs['spmax'] = ugly['IMSEP']\n",
    "    data_MatchedAGNs['apmdi'] = ugly['APMAG_I']\n",
    "    data_MatchedAGNs['apmsi'] = ugly['MAGI_IN']\n",
    "    data_MatchedAGNs['apmli'] = ugly['MAGI_IN'] - 2.5*np.log10(np.sum(np.abs(ugly['MAG']), axis=1))\n",
    "    data_MatchedAGNs['Datasets'] = 'MatchedAGNs'\n",
    "\n",
    "    df_MatchedAGNs = pd.DataFrame(data=data_MatchedAGNs)\n",
    "    return df_MatchedAGNs"
   ]
  },
  {
   "cell_type": "code",
   "execution_count": null,
   "metadata": {},
   "outputs": [],
   "source": [
    "dataf_good   = load_in_OM10()\n",
    "dataf_ugly   = load_in_MatchedAGNs()"
   ]
  },
  {
   "cell_type": "code",
   "execution_count": null,
   "metadata": {},
   "outputs": [],
   "source": [
    "%%time\n",
    "\n",
    "frames = [dataf_good, dataf_ugly]\n",
    "result = pd.concat(frames)\n",
    "\n",
    "pal = dict(OM10=sns.color_palette()[0], \n",
    "           MatchedAGNs=sns.color_palette()[2],\n",
    "           NewMatchedAGNs=sns.color_palette()[1])\n",
    "\n",
    "pg = sns.PairGrid(result, vars=('zlens', 'zsrcs', 'tdmax', 'spmax', 'apmdi', 'apmsi', 'apmli'), hue='Datasets', palette=pal,\n",
    "                  hue_kws={\"cmap\": [\"Blues\", \"Reds\", \"Greens\"]})\n",
    "pg.map_diag(sns.kdeplot)\n",
    "pg.map_upper(sns.kdeplot, n_levels=3)\n",
    "pg.map_lower(plt.scatter, alpha=0.1)\n",
    "pg.add_legend();\n",
    "del frames\n",
    "del result"
   ]
  },
  {
   "cell_type": "code",
   "execution_count": null,
   "metadata": {},
   "outputs": [],
   "source": [
    "def load_in_NewMatchedAGNs():\n",
    "    ugly = pyfits.getdata(data_dir + \"cosmoDC2_v1.0_matched_AGN_redshift_mag_weighted.fits\")\n",
    "\n",
    "    data_NewMatchedAGNs = {}\n",
    "    data_NewMatchedAGNs['zlens'] = ugly['ZLENS']\n",
    "    data_NewMatchedAGNs['zsrcs'] = ugly['ZSRC']\n",
    "    data_NewMatchedAGNs['tdmax'] = np.log10(np.max(ugly['DELAY'], axis=1)) #/30.0 #month\n",
    "    data_NewMatchedAGNs['spmax'] = ugly['IMSEP']\n",
    "    data_NewMatchedAGNs['apmdi'] = ugly['APMAG_I']\n",
    "    data_NewMatchedAGNs['apmsi'] = ugly['MAGI_IN']\n",
    "    data_NewMatchedAGNs['apmli'] = ugly['MAGI_IN'] - 2.5*np.log10(np.sum(np.abs(ugly['MAG']), axis=1))\n",
    "    data_NewMatchedAGNs['Datasets'] = 'NewMatchedAGNs'\n",
    "\n",
    "    df_NewMatchedAGNs = pd.DataFrame(data=data_NewMatchedAGNs)\n",
    "    return df_NewMatchedAGNs"
   ]
  },
  {
   "cell_type": "code",
   "execution_count": null,
   "metadata": {},
   "outputs": [],
   "source": [
    "dataf_pretty = load_in_NewMatchedAGNs()"
   ]
  },
  {
   "cell_type": "code",
   "execution_count": null,
   "metadata": {},
   "outputs": [],
   "source": [
    "%%time\n",
    "\n",
    "frames = [dataf_good, dataf_ugly, dataf_pretty]\n",
    "result = pd.concat(frames)\n",
    "\n",
    "pal = dict(OM10=sns.color_palette()[0], \n",
    "           MatchedAGNs=sns.color_palette()[2],\n",
    "           NewMatchedAGNs=sns.color_palette()[1])\n",
    "\n",
    "pg = sns.PairGrid(result, vars=('zlens', 'zsrcs'), hue='Datasets', hue_kws={\"cmap\": [\"Blues\", \"Reds\", \"Greens\"]}, palette=pal)\n",
    "pg.fig.set_size_inches(11,10)\n",
    "pg.map_diag(sns.distplot, kde_kws={\"lw\": 3})\n",
    "pg.map_upper(sns.kdeplot,lw=3, n_levels=3)\n",
    "pg.map_lower(plt.scatter, alpha=0.5)\n",
    "pg.add_legend();"
   ]
  },
  {
   "cell_type": "code",
   "execution_count": null,
   "metadata": {},
   "outputs": [],
   "source": [
    "pg = sns.PairGrid(result, vars=('apmsi', 'apmli'), hue='Datasets', hue_kws={\"cmap\": [\"Blues\", \"Greens\", \"Reds\"]}, palette=pal)\n",
    "pg.fig.set_size_inches(11,10)\n",
    "pg.map_diag(sns.distplot, kde_kws={\"lw\": 3})\n",
    "pg.map_upper(sns.kdeplot, lw=3, n_levels=3)\n",
    "pg.map_lower(plt.scatter, alpha=0.5)\n",
    "pg.add_legend();"
   ]
  },
  {
   "cell_type": "code",
   "execution_count": null,
   "metadata": {},
   "outputs": [],
   "source": []
  }
 ],
 "metadata": {
  "kernelspec": {
   "display_name": "Python 2",
   "language": "python",
   "name": "python2"
  },
  "language_info": {
   "codemirror_mode": {
    "name": "ipython",
    "version": 2
   },
   "file_extension": ".py",
   "mimetype": "text/x-python",
   "name": "python",
   "nbconvert_exporter": "python",
   "pygments_lexer": "ipython2",
   "version": "2.7.15"
  }
 },
 "nbformat": 4,
 "nbformat_minor": 2
}
