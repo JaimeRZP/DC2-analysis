{
 "cells": [
  {
   "cell_type": "markdown",
   "metadata": {},
   "source": [
    "# Comparing observational and galaxy properties"
   ]
  },
  {
   "cell_type": "markdown",
   "metadata": {},
   "source": [
    "Notebook contributed by Neha Joshi (@nehapjoshi) with Rachel Mandelbaum (@rmandelb)\n",
    "\n",
    "Last Verified to Run: 2019-08-06 (by @nehapjoshi)\n",
    "\n",
    "This notebook looks at observational properties of the galaxies in the Run1.2i, Run1.2p, or Run2.1 catalogs.  By splitting the observational property plots into percentiles and plotting a galaxy property with each percentile as a separate curve, trends and dependencies on observational properties can be seen.  Ideally, the curves for all percentiles in the galaxy property plots should match and show that the observational property does not affect what we see.\n",
    "\n",
    "Some properties may be problematic:\n",
    "- Blendedness is used as an observational property to include it, but due to the inherent physical blendedness of an object and its surroundings, it is not solely observational."
   ]
  },
  {
   "cell_type": "code",
   "execution_count": null,
   "metadata": {},
   "outputs": [],
   "source": [
    "%matplotlib inline\n",
    "import numpy as np\n",
    "import matplotlib.pyplot as plt\n",
    "import GCRCatalogs\n",
    "from GCR import GCRQuery\n",
    "import matplotlib\n",
    "matplotlib.rcParams.update({'font.size': 22})"
   ]
  },
  {
   "cell_type": "code",
   "execution_count": null,
   "metadata": {},
   "outputs": [],
   "source": [
    "#Define catalog name\n",
    "catalog_name = 'dc2_object_run2.1i_dr1b'\n",
    "\n",
    "#A reasonable magnitude cut to ensure all galaxies are well detected\n",
    "max_mag_i = 25.0\n",
    "\n",
    "#Define tract range for plots here (should be rectangular)\n",
    "max_tract = 4441\n",
    "min_tract = 4429"
   ]
  },
  {
   "cell_type": "code",
   "execution_count": null,
   "metadata": {},
   "outputs": [],
   "source": [
    "#Load catalogs here\n",
    "catalog = GCRCatalogs.load_catalog(catalog_name)"
   ]
  },
  {
   "cell_type": "code",
   "execution_count": null,
   "metadata": {},
   "outputs": [],
   "source": [
    "#Define necessary cuts to galaxy properties:\n",
    "properties_cuts = [\n",
    "    GCRQuery('mag_i_cModel < %f'%max_mag_i)\n",
    "]\n",
    "\n",
    "# Establish some basic cuts intended to yield a galaxy sample with reasonable flux measurements.\n",
    "basic_cuts = [\n",
    "    GCRQuery('extendedness > 0'),     # Extended objects (primarily galaxies)\n",
    "    GCRQuery((np.isfinite, 'mag_i_cModel')),  # Select objects that have i-band cmodel magnitudes\n",
    "    GCRQuery('clean'), # The source has no flagged pixels (interpolated, saturated, edge, clipped...) \n",
    "                       # and was not skipped by the deblender\n",
    "    GCRQuery('xy_flag == 0'),                                      # Flag for bad centroid measurement\n",
    "]"
   ]
  },
  {
   "cell_type": "code",
   "execution_count": null,
   "metadata": {},
   "outputs": [],
   "source": [
    "#Define what properties we want to look at for the observational and galaxy arrays:\n",
    "quantities = ['blendedness', 'psf_fwhm_i', 'IxxPSF_i', 'IyyPSF_i', 'IxyPSF_i',\n",
    "              'mag_g_cModel', 'mag_i_cModel', 'mag_r_cModel', 'x', 'y']"
   ]
  },
  {
   "cell_type": "code",
   "execution_count": null,
   "metadata": {},
   "outputs": [],
   "source": [
    "#Apply cuts to catalog and get the wanted sample:\n",
    "data = catalog.get_quantities(quantities,\n",
    "                              filters=basic_cuts+properties_cuts, \n",
    "                              native_filters=['tract <= %d' %max_tract, \n",
    "                                              'tract >= %d' %min_tract])"
   ]
  },
  {
   "cell_type": "code",
   "execution_count": null,
   "metadata": {},
   "outputs": [],
   "source": [
    "#find value of |e| PSF using the given data for each galaxy\n",
    "Ixx = data['IxxPSF_i']\n",
    "Iyy = data['IyyPSF_i']\n",
    "Ixy = data['IxyPSF_i']\n",
    "\n",
    "e1 = (Ixx-Iyy)/(Ixx+Ixy)\n",
    "e2 = (2*Ixy)/(Ixx+Iyy)\n",
    "e_psf = (e1**2+e2**2)**0.5\n",
    "\n",
    "#define colors\n",
    "gr = data['mag_g_cModel'] - data['mag_r_cModel']\n",
    "ri = data['mag_r_cModel'] - data['mag_i_cModel']"
   ]
  },
  {
   "cell_type": "code",
   "execution_count": null,
   "metadata": {},
   "outputs": [],
   "source": [
    "'''\n",
    "This function takes a specified observational property and plots it.  \n",
    "The observational property is then divided into quartiles (in this case), \n",
    "but can be edited to run with a different amount of splits.  Each of these quartiles is plotted \n",
    "for a galaxy property to test for correlation between observationa and galaxy properties.\n",
    "This is looped over so that every observational property is paired with every galaxy property.\n",
    "'''\n",
    "\n",
    "def plot_split(obs_data, gal_data, obs_title, gal_title, obs_xaxis, gal_xaxis):\n",
    "    min_obs, max_obs = np.percentile(obs_data,(1,99)) #cuts of first and ninety-ninth percentile to remove outliers\n",
    "    nbins = 100\n",
    "\n",
    "    #plotting observational data:\n",
    "    plt.figure(figsize=(20,10))\n",
    "    plt.subplot(121)\n",
    "    myrange = [min_obs,max_obs]\n",
    "    plt.title(obs_title)\n",
    "    plt.hist(obs_data, nbins, range=myrange, histtype='step',\n",
    "            linewidth=2.0, density=True)\n",
    "    plt.xlabel(obs_xaxis)\n",
    "    plt.yscale('log')\n",
    "    \n",
    "    #setting up quartiles\n",
    "    quartiles = np.percentile(obs_data,(1,25,50,75,99))\n",
    "    plt.axvline(quartiles[1])\n",
    "    plt.axvline(quartiles[2])\n",
    "    plt.axvline(quartiles[3])\n",
    "    \n",
    "    min_gal, max_gal = np.percentile(gal_data,(1,99))\n",
    "    \n",
    "    #plotting observational data\n",
    "    plt.subplot(122)\n",
    "    labels = ['',\n",
    "            '1st quartile',\n",
    "             '2nd quartile',\n",
    "             '3rd quartile',\n",
    "             '4th quartile']\n",
    "    \n",
    "    myrange = [min_gal,max_gal]\n",
    "    plt.title(gal_title)\n",
    "    for q in range(1,len(quartiles)):\n",
    "        data = gal_data[(obs_data<quartiles[q]) & (obs_data>=quartiles[q-1])]\n",
    "        plt.hist(data, nbins, range=myrange, \n",
    "                 histtype='step', label=labels[q], linewidth=2.0, density=True)\n",
    "    plt.legend(loc='upper right')\n",
    "    plt.xlabel(gal_xaxis)\n",
    "    plt.yscale('log')\n",
    "    "
   ]
  },
  {
   "cell_type": "code",
   "execution_count": null,
   "metadata": {},
   "outputs": [],
   "source": [
    "#Define which observational and galaxy properties will be needed for plots, along with titles and axis labels\n",
    "obs_data = [data['psf_fwhm_i'], data['blendedness'], e_psf, data['x'], data['y']]\n",
    "gal_data = [gr, ri, data['mag_i_cModel']]\n",
    "obs_titles = ['i-band PSF FWHM','Blendedness', 'i-band ellipticity of PSF', 'x position in patch', 'y position in patch']\n",
    "gal_titles = ['g-r cmodel color', 'r-i cmodel color', 'i-band cmodel magnitude']\n",
    "obs_xaxis = ['arcsec', '', '','pixels','pixels']\n",
    "gal_xaxis = ['g-r color', 'r-i color', 'i mag']\n",
    "\n",
    "#make all pairs of observation and galaxy properties to plot\n",
    "for obs in range(len(obs_data)):\n",
    "    for gal in range(len(gal_data)):\n",
    "        good_data = ~np.isnan(obs_data[obs]) & ~np.isnan(gal_data[gal])\n",
    "        plot_split(obs_data[obs][good_data],gal_data[gal][good_data],\n",
    "                   obs_titles[obs], gal_titles[gal], \n",
    "                   obs_xaxis[obs], gal_xaxis[gal])"
   ]
  }
 ],
 "metadata": {
  "kernelspec": {
   "display_name": "desc-python",
   "language": "python",
   "name": "desc-python"
  },
  "language_info": {
   "codemirror_mode": {
    "name": "ipython",
    "version": 3
   },
   "file_extension": ".py",
   "mimetype": "text/x-python",
   "name": "python",
   "nbconvert_exporter": "python",
   "pygments_lexer": "ipython3",
   "version": "3.7.2"
  }
 },
 "nbformat": 4,
 "nbformat_minor": 4
}
