{
 "cells": [
  {
   "cell_type": "markdown",
   "metadata": {},
   "source": [
    "# DIA on DC2: Using Run2.1i\n",
    "\n",
    "Owner: Bruno S.  (Duke U.)\n",
    "Date: 21/01/2020\n",
    "\n",
    "### Brief introduction\n",
    "\n",
    "Difference image analysis is the standard technique to uncover variability and transient events on images. Here we show some work done with the SN sample present in WFD.\n",
    "\n",
    "In this analysis we will find out what does the Run2.1i DIA dataset looks like.  \n",
    "For this we will use a set of templates built for the purpouse as well as difference images already calculated, their association catalogs, and see what we can find."
   ]
  },
  {
   "cell_type": "code",
   "execution_count": 1,
   "metadata": {},
   "outputs": [],
   "source": [
    "import os\n",
    "import numpy as np\n",
    "import pandas as pd\n",
    "\n",
    "import astropy.coordinates as SkyCoord\n",
    "import astropy.units as u\n",
    "\n",
    "from astropy import time\n",
    "from collections import OrderedDict as Odict"
   ]
  },
  {
   "cell_type": "code",
   "execution_count": 2,
   "metadata": {},
   "outputs": [],
   "source": [
    "import matplotlib.pyplot as plt\n",
    "%matplotlib inline"
   ]
  },
  {
   "cell_type": "code",
   "execution_count": 3,
   "metadata": {},
   "outputs": [],
   "source": [
    "import lsst.afw.geom as afwGeom\n",
    "import lsst.geom as geom"
   ]
  },
  {
   "cell_type": "code",
   "execution_count": 4,
   "metadata": {},
   "outputs": [],
   "source": [
    "from lsst.afw.geom import makeSkyWcs\n",
    "from lsst.daf.persistence import Butler\n",
    "from lsst.obs.lsst.imsim import ImsimMapper"
   ]
  },
  {
   "cell_type": "markdown",
   "metadata": {},
   "source": [
    "Here we create a butler for the difference image dataset for Run2.1i\n",
    "\n",
    "This dataset has been built through several steps, and the following graph shows roughly the steps involved.\n",
    "\n",
    "<img src='./plots/processing_schema.png' style=\"height:550px;\">"
   ]
  },
  {
   "cell_type": "code",
   "execution_count": 5,
   "metadata": {},
   "outputs": [],
   "source": [
    "calexprepo = '/global/cscratch1/sd/desc/DC2/data/Run2.1i/rerun/calexp-v1' \n",
    "b = Butler(calexprepo)\n",
    "skymap = b.get('deepCoadd_skyMap')"
   ]
  },
  {
   "cell_type": "markdown",
   "metadata": {},
   "source": [
    "Using the `calexp` repo we can ge the `skyMap` that is useful for analyzing the `tract` and `patch` to use. \n",
    "\n",
    "In this case we are going to work with tract-patch (from now on I will refer to this as `t+p`) `4431`,  `(1, 5)`."
   ]
  },
  {
   "cell_type": "code",
   "execution_count": 6,
   "metadata": {},
   "outputs": [],
   "source": [
    "tract = 4432\n",
    "patch = (4, 3)"
   ]
  },
  {
   "cell_type": "code",
   "execution_count": 7,
   "metadata": {},
   "outputs": [
    {
     "data": {
      "text/plain": [
       "TractInfo(id=4432, ctrCoord=[0.45709432641562064, 0.7144995461958866, -0.5296745937313986])"
      ]
     },
     "execution_count": 7,
     "metadata": {},
     "output_type": "execute_result"
    }
   ],
   "source": [
    "tract_info = skymap[tract]\n",
    "tract_info"
   ]
  },
  {
   "cell_type": "code",
   "execution_count": 8,
   "metadata": {},
   "outputs": [],
   "source": [
    "tract_patch_box = tract_info.getPatchInfo(patch).getOuterBBox()\n",
    "tract_patch_pos_list = tract_patch_box.getCorners()\n",
    "# Cast to Point2D, because pixelToSky below will refuse to work with a Point2I object.\n",
    "tract_patch_pos_list = [afwGeom.Point2D(tp) for tp in tract_patch_pos_list]\n",
    "\n",
    "wcs = tract_info.getWcs()\n",
    "corners = wcs.pixelToSky(tract_patch_pos_list)\n",
    "corners = np.array([[c.getRa().asDegrees(), c.getDec().asDegrees()] for c in corners])"
   ]
  },
  {
   "cell_type": "code",
   "execution_count": 9,
   "metadata": {},
   "outputs": [],
   "source": [
    "ra = corners[:, 0]\n",
    "dec = corners[:, 1]\n",
    "min_ra, max_ra = np.min(ra), np.max(ra)\n",
    "min_dec, max_dec = np.min(dec), np.max(dec)"
   ]
  },
  {
   "cell_type": "code",
   "execution_count": 10,
   "metadata": {},
   "outputs": [
    {
     "name": "stdout",
     "output_type": "stream",
     "text": [
      "Coordinate borders for patch\n",
      "  56.99 < R.A. < 57.27 \n",
      " -32.10 < Dec < -31.87\n"
     ]
    }
   ],
   "source": [
    "print('Coordinate borders for patch\\n  {:3.2f} < R.A. < {:3.2f} \\n {:3.2f} < Dec < {:3.2f}'.format(min_ra, max_ra, min_dec, max_dec))"
   ]
  },
  {
   "cell_type": "markdown",
   "metadata": {},
   "source": [
    "Just for fun, we make the calculation of the approximated area of this patch:"
   ]
  },
  {
   "cell_type": "code",
   "execution_count": 11,
   "metadata": {},
   "outputs": [
    {
     "name": "stdout",
     "output_type": "stream",
     "text": [
      "Area = 0.055 deg2 deg^2, or 196.85 arcmin2 arcmin^2\n"
     ]
    }
   ],
   "source": [
    "delta_ra, delta_dec = max_ra-min_ra, max_dec-min_dec\n",
    "area = np.cos(np.deg2rad(min_dec+delta_dec*0.5))*np.deg2rad(delta_ra)*np.deg2rad(delta_dec)*180.*180./(np.pi**2.)*u.deg*u.deg\n",
    "print('Area = {:4.3f} deg^2, or {:3.2f} arcmin^2'.format(area, area.to(u.arcmin**2)))"
   ]
  },
  {
   "cell_type": "markdown",
   "metadata": {},
   "source": [
    "We can build the data id for this patch"
   ]
  },
  {
   "cell_type": "code",
   "execution_count": 12,
   "metadata": {},
   "outputs": [],
   "source": [
    "tpId = {'tract': 4432, 'patch': '4,3'}"
   ]
  },
  {
   "cell_type": "markdown",
   "metadata": {},
   "source": [
    "We will now acces to the repo of data we have for the difference images at the latest stage, the forced photometry.\n",
    "\n",
    "Using this butler we can access data from every parent repo, ranging from the `calexp` until the forced photometry results.  \n"
   ]
  },
  {
   "cell_type": "code",
   "execution_count": 13,
   "metadata": {},
   "outputs": [],
   "source": [
    "template_repo = '/global/cscratch1/sd/bos0109/templates_rect'\n",
    "diarepo = template_repo + '/rerun/diff_rect'\n",
    "assocrepo = diarepo + '/rerun/assoc_sha'\n",
    "forcerepo = assocrepo + '/rerun/forcedPhot' \n",
    "tmprepo = template_repo + '/rerun/multiband'\n",
    "\n",
    "diabutler = Butler(forcerepo)"
   ]
  },
  {
   "cell_type": "markdown",
   "metadata": {},
   "source": [
    "Let's check, which data types can we obtain?"
   ]
  },
  {
   "cell_type": "code",
   "execution_count": 14,
   "metadata": {},
   "outputs": [],
   "source": [
    "diaMapper = diabutler._getDefaultMapper()\n",
    "mapper = diaMapper(root=forcerepo)\n",
    "all_dataset_types = mapper.getDatasetTypes()\n",
    "\n",
    "remove = ['_config', '_filename', '_md', '_sub', '_len', '_schema', '_metadata']\n",
    "\n",
    "shortlist = []\n",
    "for dataset_type in all_dataset_types:\n",
    "    keep = True\n",
    "    for word in remove:\n",
    "        if word in dataset_type:\n",
    "            keep = False\n",
    "    if keep:\n",
    "        shortlist.append(dataset_type)\n",
    "\n",
    "#print(shortlist)"
   ]
  },
  {
   "cell_type": "markdown",
   "metadata": {},
   "source": [
    "Now we are going to ask for the `diaSrc` detections, these are the individual sources that come from the difference images.\n",
    "Let's ask for similar datatypes stored in our shortlist"
   ]
  },
  {
   "cell_type": "code",
   "execution_count": 15,
   "metadata": {},
   "outputs": [
    {
     "data": {
      "text/plain": [
       "['dcrDiff_diaSrc',\n",
       " 'deepDiff_diaObject',\n",
       " 'deepDiff_diaSrc',\n",
       " 'deepDiff_forced_diaObject',\n",
       " 'deepDiff_forced_diaSrc']"
      ]
     },
     "execution_count": 15,
     "metadata": {},
     "output_type": "execute_result"
    }
   ],
   "source": [
    "[datatype for datatype in shortlist if 'dia' in datatype]"
   ]
  },
  {
   "cell_type": "markdown",
   "metadata": {},
   "source": [
    "Let's ask for the `deepDiff_diaSrc`"
   ]
  },
  {
   "cell_type": "code",
   "execution_count": 16,
   "metadata": {},
   "outputs": [
    {
     "data": {
      "text/plain": [
       "{'visit': int,\n",
       " 'filter': str,\n",
       " 'raftName': str,\n",
       " 'detectorName': str,\n",
       " 'detector': int}"
      ]
     },
     "execution_count": 16,
     "metadata": {},
     "output_type": "execute_result"
    }
   ],
   "source": [
    "diabutler.getKeys('deepDiff_diaSrc')"
   ]
  },
  {
   "cell_type": "markdown",
   "metadata": {},
   "source": [
    "This means that for the butler to be able to gives our dataset we need to specify some of the id components above.\n",
    "\n",
    "We have several files in the repo, and we can look for a visit and detector:"
   ]
  },
  {
   "cell_type": "code",
   "execution_count": 17,
   "metadata": {},
   "outputs": [
    {
     "name": "stdout",
     "output_type": "stream",
     "text": [
      "diaSrc_00159479-g-R03-S01-det019.fits  diffexp_00159479-g-R03-S01-det019.fits\n",
      "diaSrc_00159479-g-R03-S02-det020.fits  diffexp_00159479-g-R03-S02-det020.fits\n",
      "diaSrc_00159479-g-R03-S11-det022.fits  diffexp_00159479-g-R03-S11-det022.fits\n",
      "diaSrc_00159479-g-R03-S12-det023.fits  diffexp_00159479-g-R03-S12-det023.fits\n",
      "diaSrc_00159479-g-R03-S21-det025.fits  diffexp_00159479-g-R03-S21-det025.fits\n",
      "diaSrc_00159479-g-R03-S22-det026.fits  diffexp_00159479-g-R03-S22-det026.fits\n"
     ]
    }
   ],
   "source": [
    "ls /global/cscratch1/sd/bos0109/templates_rect/rerun/diff_rect/deepDiff/v00159479-fg/R03"
   ]
  },
  {
   "cell_type": "code",
   "execution_count": 18,
   "metadata": {},
   "outputs": [],
   "source": [
    "srcs = [diabutler.get('deepDiff_diaSrc', visit=159479, detector=det).asAstropy().to_pandas() \n",
    "        for det in [19, 20, 22, 23, 25, 26]]\n",
    "srcs = pd.concat(srcs)"
   ]
  },
  {
   "cell_type": "code",
   "execution_count": 19,
   "metadata": {},
   "outputs": [
    {
     "data": {
      "text/html": [
       "<div>\n",
       "<style scoped>\n",
       "    .dataframe tbody tr th:only-of-type {\n",
       "        vertical-align: middle;\n",
       "    }\n",
       "\n",
       "    .dataframe tbody tr th {\n",
       "        vertical-align: top;\n",
       "    }\n",
       "\n",
       "    .dataframe thead th {\n",
       "        text-align: right;\n",
       "    }\n",
       "</style>\n",
       "<table border=\"1\" class=\"dataframe\">\n",
       "  <thead>\n",
       "    <tr style=\"text-align: right;\">\n",
       "      <th></th>\n",
       "      <th>id</th>\n",
       "      <th>coord_ra</th>\n",
       "      <th>coord_dec</th>\n",
       "      <th>parent</th>\n",
       "      <th>flags_negative</th>\n",
       "      <th>base_NaiveCentroid_x</th>\n",
       "      <th>base_NaiveCentroid_y</th>\n",
       "      <th>base_NaiveCentroid_flag</th>\n",
       "      <th>base_NaiveCentroid_flag_noCounts</th>\n",
       "      <th>base_NaiveCentroid_flag_edge</th>\n",
       "      <th>...</th>\n",
       "      <th>ip_diffim_DipoleFit_flag_classification</th>\n",
       "      <th>ip_diffim_DipoleFit_flag_classificationAttempted</th>\n",
       "      <th>ip_diffim_DipoleFit_flag</th>\n",
       "      <th>ip_diffim_DipoleFit_flag_edge</th>\n",
       "      <th>ip_diffim_forced_PsfFlux_instFlux</th>\n",
       "      <th>ip_diffim_forced_PsfFlux_instFluxErr</th>\n",
       "      <th>ip_diffim_forced_PsfFlux_area</th>\n",
       "      <th>ip_diffim_forced_PsfFlux_flag</th>\n",
       "      <th>ip_diffim_forced_PsfFlux_flag_noGoodPixels</th>\n",
       "      <th>ip_diffim_forced_PsfFlux_flag_edge</th>\n",
       "    </tr>\n",
       "  </thead>\n",
       "  <tbody>\n",
       "    <tr>\n",
       "      <th>0</th>\n",
       "      <td>10702455796924482</td>\n",
       "      <td>0.990591</td>\n",
       "      <td>-0.559641</td>\n",
       "      <td>0</td>\n",
       "      <td>False</td>\n",
       "      <td>2879.226758</td>\n",
       "      <td>76.890006</td>\n",
       "      <td>False</td>\n",
       "      <td>False</td>\n",
       "      <td>False</td>\n",
       "      <td>...</td>\n",
       "      <td>False</td>\n",
       "      <td>False</td>\n",
       "      <td>True</td>\n",
       "      <td>False</td>\n",
       "      <td>47255.123322</td>\n",
       "      <td>275.380883</td>\n",
       "      <td>79.065277</td>\n",
       "      <td>False</td>\n",
       "      <td>False</td>\n",
       "      <td>False</td>\n",
       "    </tr>\n",
       "    <tr>\n",
       "      <th>1</th>\n",
       "      <td>10702455796924483</td>\n",
       "      <td>0.990634</td>\n",
       "      <td>-0.560142</td>\n",
       "      <td>0</td>\n",
       "      <td>False</td>\n",
       "      <td>2359.451828</td>\n",
       "      <td>113.387111</td>\n",
       "      <td>False</td>\n",
       "      <td>False</td>\n",
       "      <td>False</td>\n",
       "      <td>...</td>\n",
       "      <td>True</td>\n",
       "      <td>True</td>\n",
       "      <td>False</td>\n",
       "      <td>False</td>\n",
       "      <td>395033.950993</td>\n",
       "      <td>758.915701</td>\n",
       "      <td>80.046303</td>\n",
       "      <td>False</td>\n",
       "      <td>False</td>\n",
       "      <td>False</td>\n",
       "    </tr>\n",
       "    <tr>\n",
       "      <th>2</th>\n",
       "      <td>10702455796924484</td>\n",
       "      <td>0.990643</td>\n",
       "      <td>-0.560074</td>\n",
       "      <td>0</td>\n",
       "      <td>False</td>\n",
       "      <td>2432.064832</td>\n",
       "      <td>122.173750</td>\n",
       "      <td>False</td>\n",
       "      <td>False</td>\n",
       "      <td>False</td>\n",
       "      <td>...</td>\n",
       "      <td>False</td>\n",
       "      <td>False</td>\n",
       "      <td>True</td>\n",
       "      <td>False</td>\n",
       "      <td>51342.315381</td>\n",
       "      <td>288.829790</td>\n",
       "      <td>79.893547</td>\n",
       "      <td>False</td>\n",
       "      <td>False</td>\n",
       "      <td>False</td>\n",
       "    </tr>\n",
       "    <tr>\n",
       "      <th>3</th>\n",
       "      <td>10702455796924485</td>\n",
       "      <td>0.990764</td>\n",
       "      <td>-0.559227</td>\n",
       "      <td>0</td>\n",
       "      <td>False</td>\n",
       "      <td>3306.708032</td>\n",
       "      <td>228.845880</td>\n",
       "      <td>False</td>\n",
       "      <td>False</td>\n",
       "      <td>False</td>\n",
       "      <td>...</td>\n",
       "      <td>True</td>\n",
       "      <td>True</td>\n",
       "      <td>False</td>\n",
       "      <td>False</td>\n",
       "      <td>92037.121802</td>\n",
       "      <td>408.110399</td>\n",
       "      <td>78.401138</td>\n",
       "      <td>False</td>\n",
       "      <td>False</td>\n",
       "      <td>False</td>\n",
       "    </tr>\n",
       "    <tr>\n",
       "      <th>4</th>\n",
       "      <td>10702455796924486</td>\n",
       "      <td>0.990781</td>\n",
       "      <td>-0.558900</td>\n",
       "      <td>0</td>\n",
       "      <td>False</td>\n",
       "      <td>3643.192083</td>\n",
       "      <td>246.080949</td>\n",
       "      <td>False</td>\n",
       "      <td>False</td>\n",
       "      <td>False</td>\n",
       "      <td>...</td>\n",
       "      <td>False</td>\n",
       "      <td>False</td>\n",
       "      <td>True</td>\n",
       "      <td>False</td>\n",
       "      <td>84463.946757</td>\n",
       "      <td>382.122665</td>\n",
       "      <td>77.802658</td>\n",
       "      <td>False</td>\n",
       "      <td>False</td>\n",
       "      <td>False</td>\n",
       "    </tr>\n",
       "  </tbody>\n",
       "</table>\n",
       "<p>5 rows × 248 columns</p>\n",
       "</div>"
      ],
      "text/plain": [
       "                  id  coord_ra  coord_dec  parent  flags_negative  \\\n",
       "0  10702455796924482  0.990591  -0.559641       0           False   \n",
       "1  10702455796924483  0.990634  -0.560142       0           False   \n",
       "2  10702455796924484  0.990643  -0.560074       0           False   \n",
       "3  10702455796924485  0.990764  -0.559227       0           False   \n",
       "4  10702455796924486  0.990781  -0.558900       0           False   \n",
       "\n",
       "   base_NaiveCentroid_x  base_NaiveCentroid_y  base_NaiveCentroid_flag  \\\n",
       "0           2879.226758             76.890006                    False   \n",
       "1           2359.451828            113.387111                    False   \n",
       "2           2432.064832            122.173750                    False   \n",
       "3           3306.708032            228.845880                    False   \n",
       "4           3643.192083            246.080949                    False   \n",
       "\n",
       "   base_NaiveCentroid_flag_noCounts  base_NaiveCentroid_flag_edge  ...  \\\n",
       "0                             False                         False  ...   \n",
       "1                             False                         False  ...   \n",
       "2                             False                         False  ...   \n",
       "3                             False                         False  ...   \n",
       "4                             False                         False  ...   \n",
       "\n",
       "   ip_diffim_DipoleFit_flag_classification  \\\n",
       "0                                    False   \n",
       "1                                     True   \n",
       "2                                    False   \n",
       "3                                     True   \n",
       "4                                    False   \n",
       "\n",
       "   ip_diffim_DipoleFit_flag_classificationAttempted  ip_diffim_DipoleFit_flag  \\\n",
       "0                                             False                      True   \n",
       "1                                              True                     False   \n",
       "2                                             False                      True   \n",
       "3                                              True                     False   \n",
       "4                                             False                      True   \n",
       "\n",
       "   ip_diffim_DipoleFit_flag_edge  ip_diffim_forced_PsfFlux_instFlux  \\\n",
       "0                          False                       47255.123322   \n",
       "1                          False                      395033.950993   \n",
       "2                          False                       51342.315381   \n",
       "3                          False                       92037.121802   \n",
       "4                          False                       84463.946757   \n",
       "\n",
       "   ip_diffim_forced_PsfFlux_instFluxErr  ip_diffim_forced_PsfFlux_area  \\\n",
       "0                            275.380883                      79.065277   \n",
       "1                            758.915701                      80.046303   \n",
       "2                            288.829790                      79.893547   \n",
       "3                            408.110399                      78.401138   \n",
       "4                            382.122665                      77.802658   \n",
       "\n",
       "   ip_diffim_forced_PsfFlux_flag  ip_diffim_forced_PsfFlux_flag_noGoodPixels  \\\n",
       "0                          False                                       False   \n",
       "1                          False                                       False   \n",
       "2                          False                                       False   \n",
       "3                          False                                       False   \n",
       "4                          False                                       False   \n",
       "\n",
       "   ip_diffim_forced_PsfFlux_flag_edge  \n",
       "0                               False  \n",
       "1                               False  \n",
       "2                               False  \n",
       "3                               False  \n",
       "4                               False  \n",
       "\n",
       "[5 rows x 248 columns]"
      ]
     },
     "execution_count": 19,
     "metadata": {},
     "output_type": "execute_result"
    }
   ],
   "source": [
    "srcs.head()"
   ]
  },
  {
   "cell_type": "markdown",
   "metadata": {},
   "source": [
    "Let's plot the positions of the sources:"
   ]
  },
  {
   "cell_type": "code",
   "execution_count": 20,
   "metadata": {},
   "outputs": [
    {
     "name": "stderr",
     "output_type": "stream",
     "text": [
      "/opt/lsst/software/stack/python/miniconda3-4.5.12/envs/lsst-scipipe-1172c30/lib/python3.7/site-packages/ipykernel/__main__.py:2: RuntimeWarning: invalid value encountered in log10\n",
      "  from ipykernel import kernelapp as app\n"
     ]
    },
    {
     "data": {
      "text/plain": [
       "Text(32.99574835845665, 0.5, 'Dec')"
      ]
     },
     "execution_count": 20,
     "metadata": {},
     "output_type": "execute_result"
    },
    {
     "data": {
      "image/png": "[encoded data removed]",
      "text/plain": [
       "<Figure size 432x288 with 2 Axes>"
      ]
     },
     "metadata": {
      "needs_background": "light"
     },
     "output_type": "display_data"
    }
   ],
   "source": [
    "plt.scatter(np.rad2deg(srcs['coord_ra']), np.rad2deg(srcs['coord_dec']), \n",
    "            c=np.log10(srcs['base_PsfFlux_instFlux']))\n",
    "plt.colorbar(orientation='horizontal')\n",
    "plt.grid()\n",
    "plt.vlines(x=[max_ra, min_ra], ymin=min_dec, ymax=max_dec)\n",
    "plt.hlines(y=[max_dec, min_dec], xmin=min_ra, xmax=max_ra)\n",
    "plt.gca().set_aspect(1./np.cos(np.mean([max_dec, min_dec])))\n",
    "plt.tight_layout()\n",
    "plt.xlabel('RA')\n",
    "plt.ylabel('Dec')"
   ]
  },
  {
   "cell_type": "markdown",
   "metadata": {},
   "source": [
    "A simple histogram of its fluxes"
   ]
  },
  {
   "cell_type": "code",
   "execution_count": 21,
   "metadata": {},
   "outputs": [
    {
     "data": {
      "image/png": "[encoded data removed]",
      "text/plain": [
       "<Figure size 432x288 with 1 Axes>"
      ]
     },
     "metadata": {
      "needs_background": "light"
     },
     "output_type": "display_data"
    }
   ],
   "source": [
    "plt.hist(np.log10(srcs['ip_diffim_forced_PsfFlux_instFlux']))\n",
    "plt.xlabel('log10(PsfFlux)')\n",
    "plt.show()"
   ]
  },
  {
   "cell_type": "markdown",
   "metadata": {},
   "source": [
    "We can also check the aperture fluxes, using different sizes of aperture."
   ]
  },
  {
   "cell_type": "code",
   "execution_count": 22,
   "metadata": {},
   "outputs": [
    {
     "data": {
      "text/plain": [
       "['base_CircularApertureFlux_3_0_instFlux',\n",
       " 'base_CircularApertureFlux_3_0_instFluxErr',\n",
       " 'base_CircularApertureFlux_4_5_instFlux',\n",
       " 'base_CircularApertureFlux_4_5_instFluxErr',\n",
       " 'base_CircularApertureFlux_6_0_instFlux',\n",
       " 'base_CircularApertureFlux_6_0_instFluxErr',\n",
       " 'base_CircularApertureFlux_9_0_instFlux',\n",
       " 'base_CircularApertureFlux_9_0_instFluxErr',\n",
       " 'base_CircularApertureFlux_12_0_instFlux',\n",
       " 'base_CircularApertureFlux_12_0_instFluxErr',\n",
       " 'base_CircularApertureFlux_17_0_instFlux',\n",
       " 'base_CircularApertureFlux_17_0_instFluxErr',\n",
       " 'base_CircularApertureFlux_25_0_instFlux',\n",
       " 'base_CircularApertureFlux_25_0_instFluxErr',\n",
       " 'base_CircularApertureFlux_35_0_instFlux',\n",
       " 'base_CircularApertureFlux_35_0_instFluxErr',\n",
       " 'base_CircularApertureFlux_50_0_instFlux',\n",
       " 'base_CircularApertureFlux_50_0_instFluxErr',\n",
       " 'base_CircularApertureFlux_70_0_instFlux',\n",
       " 'base_CircularApertureFlux_70_0_instFluxErr']"
      ]
     },
     "execution_count": 22,
     "metadata": {},
     "output_type": "execute_result"
    }
   ],
   "source": [
    "[acol for acol in srcs.columns if 'Aperture' in acol and 'instFlux' in acol]"
   ]
  },
  {
   "cell_type": "code",
   "execution_count": 23,
   "metadata": {},
   "outputs": [],
   "source": [
    "apertures = ['3_0', '4_5', '6_0', '9_0', '12_0', '17_0', '25_0', '35_0', '50_0', '70_0']"
   ]
  },
  {
   "cell_type": "code",
   "execution_count": 24,
   "metadata": {},
   "outputs": [
    {
     "name": "stderr",
     "output_type": "stream",
     "text": [
      "/opt/lsst/software/stack/python/miniconda3-4.5.12/envs/lsst-scipipe-1172c30/lib/python3.7/site-packages/numpy/lib/histograms.py:824: RuntimeWarning: invalid value encountered in greater_equal\n",
      "  keep = (tmp_a >= first_edge)\n",
      "/opt/lsst/software/stack/python/miniconda3-4.5.12/envs/lsst-scipipe-1172c30/lib/python3.7/site-packages/numpy/lib/histograms.py:825: RuntimeWarning: invalid value encountered in less_equal\n",
      "  keep &= (tmp_a <= last_edge)\n"
     ]
    },
    {
     "data": {
      "image/png": "[encoded data removed]",
      "text/plain": [
       "<Figure size 648x648 with 9 Axes>"
      ]
     },
     "metadata": {
      "needs_background": "light"
     },
     "output_type": "display_data"
    }
   ],
   "source": [
    "fig, axes = plt.subplots(ncols=3, nrows=3, figsize=(9,9))\n",
    "\n",
    "for ax, ap in zip(axes.flatten(), apertures[:-1]):\n",
    "    colname = 'base_CircularApertureFlux_{}_instFlux'.format(ap)\n",
    "    ax.hist(np.log10(np.abs(srcs[colname])), color='k', histtype='step', lw=2)\n",
    "    ax.set_xlabel('log10(|ApFlux_{}|)'.format(ap))\n",
    "    ax.set_xlim(1, 7)\n",
    "plt.tight_layout()\n",
    "plt.show()"
   ]
  },
  {
   "cell_type": "markdown",
   "metadata": {},
   "source": [
    "## Making lightcurves\n",
    "\n",
    "In order to make lightcurves we will need to use the `diaObject` table. Let's open one of those"
   ]
  },
  {
   "cell_type": "code",
   "execution_count": 25,
   "metadata": {},
   "outputs": [],
   "source": [
    "objs = diabutler.get('deepDiff_diaObject', dataId=tpId).asAstropy().to_pandas()"
   ]
  },
  {
   "cell_type": "code",
   "execution_count": 26,
   "metadata": {},
   "outputs": [
    {
     "data": {
      "text/html": [
       "<div>\n",
       "<style scoped>\n",
       "    .dataframe tbody tr th:only-of-type {\n",
       "        vertical-align: middle;\n",
       "    }\n",
       "\n",
       "    .dataframe tbody tr th {\n",
       "        vertical-align: top;\n",
       "    }\n",
       "\n",
       "    .dataframe thead th {\n",
       "        text-align: right;\n",
       "    }\n",
       "</style>\n",
       "<table border=\"1\" class=\"dataframe\">\n",
       "  <thead>\n",
       "    <tr style=\"text-align: right;\">\n",
       "      <th></th>\n",
       "      <th>id</th>\n",
       "      <th>coord_ra</th>\n",
       "      <th>coord_dec</th>\n",
       "      <th>parent</th>\n",
       "      <th>nobs</th>\n",
       "      <th>base_PsfFlux_instFlux_MeanErr_u</th>\n",
       "      <th>base_PsfFlux_instFlux_Ndata_u</th>\n",
       "      <th>base_PsfFlux_instFlux_Sigma_u</th>\n",
       "      <th>base_PsfFlux_instFlux_Mean_u</th>\n",
       "      <th>base_PsfFlux_instFlux_MeanErr_g</th>\n",
       "      <th>...</th>\n",
       "      <th>base_PsfFlux_instFlux_Sigma_i</th>\n",
       "      <th>base_PsfFlux_instFlux_Mean_i</th>\n",
       "      <th>base_PsfFlux_instFlux_MeanErr_z</th>\n",
       "      <th>base_PsfFlux_instFlux_Ndata_z</th>\n",
       "      <th>base_PsfFlux_instFlux_Sigma_z</th>\n",
       "      <th>base_PsfFlux_instFlux_Mean_z</th>\n",
       "      <th>base_PsfFlux_instFlux_MeanErr_y</th>\n",
       "      <th>base_PsfFlux_instFlux_Ndata_y</th>\n",
       "      <th>base_PsfFlux_instFlux_Sigma_y</th>\n",
       "      <th>base_PsfFlux_instFlux_Mean_y</th>\n",
       "    </tr>\n",
       "  </thead>\n",
       "  <tbody>\n",
       "    <tr>\n",
       "      <th>0</th>\n",
       "      <td>19492704777928705</td>\n",
       "      <td>0.996160</td>\n",
       "      <td>-0.556281</td>\n",
       "      <td>0</td>\n",
       "      <td>4</td>\n",
       "      <td>0.0</td>\n",
       "      <td>1</td>\n",
       "      <td>0.0</td>\n",
       "      <td>126.71170</td>\n",
       "      <td>NaN</td>\n",
       "      <td>...</td>\n",
       "      <td>0.0</td>\n",
       "      <td>NaN</td>\n",
       "      <td>NaN</td>\n",
       "      <td>2</td>\n",
       "      <td>NaN</td>\n",
       "      <td>NaN</td>\n",
       "      <td>NaN</td>\n",
       "      <td>0</td>\n",
       "      <td>NaN</td>\n",
       "      <td>NaN</td>\n",
       "    </tr>\n",
       "    <tr>\n",
       "      <th>1</th>\n",
       "      <td>19492704777928706</td>\n",
       "      <td>0.995786</td>\n",
       "      <td>-0.556732</td>\n",
       "      <td>0</td>\n",
       "      <td>10</td>\n",
       "      <td>NaN</td>\n",
       "      <td>2</td>\n",
       "      <td>NaN</td>\n",
       "      <td>NaN</td>\n",
       "      <td>NaN</td>\n",
       "      <td>...</td>\n",
       "      <td>NaN</td>\n",
       "      <td>NaN</td>\n",
       "      <td>0.000000</td>\n",
       "      <td>1</td>\n",
       "      <td>0.000000</td>\n",
       "      <td>56.628015</td>\n",
       "      <td>NaN</td>\n",
       "      <td>0</td>\n",
       "      <td>NaN</td>\n",
       "      <td>NaN</td>\n",
       "    </tr>\n",
       "    <tr>\n",
       "      <th>2</th>\n",
       "      <td>19492704777928707</td>\n",
       "      <td>0.996325</td>\n",
       "      <td>-0.556657</td>\n",
       "      <td>0</td>\n",
       "      <td>23</td>\n",
       "      <td>0.0</td>\n",
       "      <td>1</td>\n",
       "      <td>0.0</td>\n",
       "      <td>NaN</td>\n",
       "      <td>71.020847</td>\n",
       "      <td>...</td>\n",
       "      <td>NaN</td>\n",
       "      <td>NaN</td>\n",
       "      <td>NaN</td>\n",
       "      <td>7</td>\n",
       "      <td>NaN</td>\n",
       "      <td>NaN</td>\n",
       "      <td>NaN</td>\n",
       "      <td>0</td>\n",
       "      <td>NaN</td>\n",
       "      <td>NaN</td>\n",
       "    </tr>\n",
       "    <tr>\n",
       "      <th>3</th>\n",
       "      <td>19492704777928708</td>\n",
       "      <td>0.996595</td>\n",
       "      <td>-0.557003</td>\n",
       "      <td>0</td>\n",
       "      <td>9</td>\n",
       "      <td>0.0</td>\n",
       "      <td>1</td>\n",
       "      <td>0.0</td>\n",
       "      <td>NaN</td>\n",
       "      <td>0.000000</td>\n",
       "      <td>...</td>\n",
       "      <td>NaN</td>\n",
       "      <td>NaN</td>\n",
       "      <td>115.999026</td>\n",
       "      <td>2</td>\n",
       "      <td>164.047396</td>\n",
       "      <td>865.957582</td>\n",
       "      <td>NaN</td>\n",
       "      <td>0</td>\n",
       "      <td>NaN</td>\n",
       "      <td>NaN</td>\n",
       "    </tr>\n",
       "    <tr>\n",
       "      <th>4</th>\n",
       "      <td>19492704777928709</td>\n",
       "      <td>0.996341</td>\n",
       "      <td>-0.557375</td>\n",
       "      <td>0</td>\n",
       "      <td>6</td>\n",
       "      <td>0.0</td>\n",
       "      <td>1</td>\n",
       "      <td>0.0</td>\n",
       "      <td>23698.37528</td>\n",
       "      <td>NaN</td>\n",
       "      <td>...</td>\n",
       "      <td>NaN</td>\n",
       "      <td>NaN</td>\n",
       "      <td>147.328294</td>\n",
       "      <td>2</td>\n",
       "      <td>208.353672</td>\n",
       "      <td>1030.790957</td>\n",
       "      <td>NaN</td>\n",
       "      <td>0</td>\n",
       "      <td>NaN</td>\n",
       "      <td>NaN</td>\n",
       "    </tr>\n",
       "  </tbody>\n",
       "</table>\n",
       "<p>5 rows × 29 columns</p>\n",
       "</div>"
      ],
      "text/plain": [
       "                  id  coord_ra  coord_dec  parent  nobs  \\\n",
       "0  19492704777928705  0.996160  -0.556281       0     4   \n",
       "1  19492704777928706  0.995786  -0.556732       0    10   \n",
       "2  19492704777928707  0.996325  -0.556657       0    23   \n",
       "3  19492704777928708  0.996595  -0.557003       0     9   \n",
       "4  19492704777928709  0.996341  -0.557375       0     6   \n",
       "\n",
       "   base_PsfFlux_instFlux_MeanErr_u  base_PsfFlux_instFlux_Ndata_u  \\\n",
       "0                              0.0                              1   \n",
       "1                              NaN                              2   \n",
       "2                              0.0                              1   \n",
       "3                              0.0                              1   \n",
       "4                              0.0                              1   \n",
       "\n",
       "   base_PsfFlux_instFlux_Sigma_u  base_PsfFlux_instFlux_Mean_u  \\\n",
       "0                            0.0                     126.71170   \n",
       "1                            NaN                           NaN   \n",
       "2                            0.0                           NaN   \n",
       "3                            0.0                           NaN   \n",
       "4                            0.0                   23698.37528   \n",
       "\n",
       "   base_PsfFlux_instFlux_MeanErr_g  ...  base_PsfFlux_instFlux_Sigma_i  \\\n",
       "0                              NaN  ...                            0.0   \n",
       "1                              NaN  ...                            NaN   \n",
       "2                        71.020847  ...                            NaN   \n",
       "3                         0.000000  ...                            NaN   \n",
       "4                              NaN  ...                            NaN   \n",
       "\n",
       "   base_PsfFlux_instFlux_Mean_i  base_PsfFlux_instFlux_MeanErr_z  \\\n",
       "0                           NaN                              NaN   \n",
       "1                           NaN                         0.000000   \n",
       "2                           NaN                              NaN   \n",
       "3                           NaN                       115.999026   \n",
       "4                           NaN                       147.328294   \n",
       "\n",
       "   base_PsfFlux_instFlux_Ndata_z  base_PsfFlux_instFlux_Sigma_z  \\\n",
       "0                              2                            NaN   \n",
       "1                              1                       0.000000   \n",
       "2                              7                            NaN   \n",
       "3                              2                     164.047396   \n",
       "4                              2                     208.353672   \n",
       "\n",
       "   base_PsfFlux_instFlux_Mean_z  base_PsfFlux_instFlux_MeanErr_y  \\\n",
       "0                           NaN                              NaN   \n",
       "1                     56.628015                              NaN   \n",
       "2                           NaN                              NaN   \n",
       "3                    865.957582                              NaN   \n",
       "4                   1030.790957                              NaN   \n",
       "\n",
       "   base_PsfFlux_instFlux_Ndata_y  base_PsfFlux_instFlux_Sigma_y  \\\n",
       "0                              0                            NaN   \n",
       "1                              0                            NaN   \n",
       "2                              0                            NaN   \n",
       "3                              0                            NaN   \n",
       "4                              0                            NaN   \n",
       "\n",
       "   base_PsfFlux_instFlux_Mean_y  \n",
       "0                           NaN  \n",
       "1                           NaN  \n",
       "2                           NaN  \n",
       "3                           NaN  \n",
       "4                           NaN  \n",
       "\n",
       "[5 rows x 29 columns]"
      ]
     },
     "execution_count": 26,
     "metadata": {},
     "output_type": "execute_result"
    }
   ],
   "source": [
    "objs.head()"
   ]
  },
  {
   "cell_type": "markdown",
   "metadata": {},
   "source": [
    "As you can see there are several columns for each one of these `diaObject` and they show information that can have empty information or important data in them.  \n",
    "This depends in the group of `diaSrc` that each `diaObject` is associating. The column which knows about how many observations this is grouping is `nobs`: "
   ]
  },
  {
   "cell_type": "code",
   "execution_count": 27,
   "metadata": {},
   "outputs": [
    {
     "data": {
      "text/plain": [
       "count    605.000000\n",
       "mean       4.525620\n",
       "std        7.332552\n",
       "min        1.000000\n",
       "25%        1.000000\n",
       "50%        1.000000\n",
       "75%        4.000000\n",
       "max       48.000000\n",
       "Name: nobs, dtype: float64"
      ]
     },
     "execution_count": 27,
     "metadata": {},
     "output_type": "execute_result"
    }
   ],
   "source": [
    "objs.nobs.describe()"
   ]
  },
  {
   "cell_type": "code",
   "execution_count": 28,
   "metadata": {},
   "outputs": [
    {
     "data": {
      "image/png": "[encoded data removed]",
      "text/plain": [
       "<Figure size 432x288 with 1 Axes>"
      ]
     },
     "metadata": {
      "needs_background": "light"
     },
     "output_type": "display_data"
    }
   ],
   "source": [
    "plt.hist(objs.nobs, bins=range(50), log=True)\n",
    "plt.show()"
   ]
  },
  {
   "cell_type": "markdown",
   "metadata": {},
   "source": [
    "As we can see there are some of them which actually have only 1 `diaSrc`, i.e. no association of sources at all.\n",
    "\n",
    "If we want to know which sources are associated to each `diaObject` we need the table called `diaObjectId`, which we ask for now:"
   ]
  },
  {
   "cell_type": "code",
   "execution_count": 29,
   "metadata": {},
   "outputs": [],
   "source": [
    "#objid = diabutler.get('deepDiff_diaObjectId', dataId=tpId).toDataFrame()"
   ]
  },
  {
   "cell_type": "markdown",
   "metadata": {},
   "source": [
    "If the line above fails, might be due to different versions of the stack. The `diaObjectId` is a relatively new feature, and its creation is possible using the latest version of `dia_pipe`.\n",
    "\n",
    "An alternative way of accessing the table is through the parquet tables, where this information comes from. This files are located in the associated piece of the repo directory tree:"
   ]
  },
  {
   "cell_type": "code",
   "execution_count": 30,
   "metadata": {},
   "outputs": [
    {
     "name": "stdout",
     "output_type": "stream",
     "text": [
      "diaObject-4432-4,3.fits  diaObjectId-4432-4,3.parq\n"
     ]
    }
   ],
   "source": [
    "ls /global/cscratch1/sd/bos0109/templates_rect/rerun/diff_rect/rerun/assoc_sha/deepDiff/diaObject/4432/4,3"
   ]
  },
  {
   "cell_type": "code",
   "execution_count": 31,
   "metadata": {},
   "outputs": [],
   "source": [
    "objId = pd.read_parquet('/global/cscratch1/sd/bos0109/templates_rect/rerun/diff_rect/rerun/assoc_sha/deepDiff/diaObject/4432/4,3/diaObjectId-4432-4,3.parq')"
   ]
  },
  {
   "cell_type": "code",
   "execution_count": 32,
   "metadata": {},
   "outputs": [],
   "source": [
    "objId['nobs'] = objId.diaSrcIds.apply(len)"
   ]
  },
  {
   "cell_type": "code",
   "execution_count": 33,
   "metadata": {},
   "outputs": [
    {
     "data": {
      "text/html": [
       "<div>\n",
       "<style scoped>\n",
       "    .dataframe tbody tr th:only-of-type {\n",
       "        vertical-align: middle;\n",
       "    }\n",
       "\n",
       "    .dataframe tbody tr th {\n",
       "        vertical-align: top;\n",
       "    }\n",
       "\n",
       "    .dataframe thead th {\n",
       "        text-align: right;\n",
       "    }\n",
       "</style>\n",
       "<table border=\"1\" class=\"dataframe\">\n",
       "  <thead>\n",
       "    <tr style=\"text-align: right;\">\n",
       "      <th></th>\n",
       "      <th>diaObjectId</th>\n",
       "      <th>diaSrcIds</th>\n",
       "      <th>nobs</th>\n",
       "    </tr>\n",
       "  </thead>\n",
       "  <tbody>\n",
       "    <tr>\n",
       "      <th>0</th>\n",
       "      <td>19492704777928705</td>\n",
       "      <td>[157036352372778, 14169845574664303, 140280462...</td>\n",
       "      <td>4</td>\n",
       "    </tr>\n",
       "    <tr>\n",
       "      <th>1</th>\n",
       "      <td>19492704777928706</td>\n",
       "      <td>[157038365638678, 14758315485560899, 130045647...</td>\n",
       "      <td>10</td>\n",
       "    </tr>\n",
       "    <tr>\n",
       "      <th>2</th>\n",
       "      <td>19492704777928707</td>\n",
       "      <td>[157038365638679, 14758315485560905, 130045647...</td>\n",
       "      <td>23</td>\n",
       "    </tr>\n",
       "    <tr>\n",
       "      <th>3</th>\n",
       "      <td>19492704777928708</td>\n",
       "      <td>[157038365638681, 14758315485560901, 130045647...</td>\n",
       "      <td>9</td>\n",
       "    </tr>\n",
       "    <tr>\n",
       "      <th>4</th>\n",
       "      <td>19492704777928709</td>\n",
       "      <td>[157038365638683, 13248968817377403, 147587278...</td>\n",
       "      <td>6</td>\n",
       "    </tr>\n",
       "  </tbody>\n",
       "</table>\n",
       "</div>"
      ],
      "text/plain": [
       "         diaObjectId                                          diaSrcIds  nobs\n",
       "0  19492704777928705  [157036352372778, 14169845574664303, 140280462...     4\n",
       "1  19492704777928706  [157038365638678, 14758315485560899, 130045647...    10\n",
       "2  19492704777928707  [157038365638679, 14758315485560905, 130045647...    23\n",
       "3  19492704777928708  [157038365638681, 14758315485560901, 130045647...     9\n",
       "4  19492704777928709  [157038365638683, 13248968817377403, 147587278...     6"
      ]
     },
     "execution_count": 33,
     "metadata": {},
     "output_type": "execute_result"
    }
   ],
   "source": [
    "objId.head()"
   ]
  },
  {
   "cell_type": "markdown",
   "metadata": {},
   "source": [
    "As we can tell from the first rows, the table only hosts two columns and the `diaSrcIds` contains a list of the `diaSrcs` that are linked to a particular `diaObject`.\n",
    "We also added the `nobs` column which is important to have it here too.\n",
    "Let's work with the subset of `diaObject` with more sources associated!"
   ]
  },
  {
   "cell_type": "code",
   "execution_count": 36,
   "metadata": {},
   "outputs": [
    {
     "data": {
      "text/html": [
       "<div>\n",
       "<style scoped>\n",
       "    .dataframe tbody tr th:only-of-type {\n",
       "        vertical-align: middle;\n",
       "    }\n",
       "\n",
       "    .dataframe tbody tr th {\n",
       "        vertical-align: top;\n",
       "    }\n",
       "\n",
       "    .dataframe thead th {\n",
       "        text-align: right;\n",
       "    }\n",
       "</style>\n",
       "<table border=\"1\" class=\"dataframe\">\n",
       "  <thead>\n",
       "    <tr style=\"text-align: right;\">\n",
       "      <th></th>\n",
       "      <th>diaObjectId</th>\n",
       "      <th>diaSrcIds</th>\n",
       "      <th>nobs</th>\n",
       "    </tr>\n",
       "  </thead>\n",
       "  <tbody>\n",
       "    <tr>\n",
       "      <th>6</th>\n",
       "      <td>19492704777928711</td>\n",
       "      <td>[157038365638685, 14758315418451979, 130045647...</td>\n",
       "      <td>34</td>\n",
       "    </tr>\n",
       "    <tr>\n",
       "      <th>20</th>\n",
       "      <td>19492704777928725</td>\n",
       "      <td>[14758315418451978, 13004564777140365, 1300718...</td>\n",
       "      <td>36</td>\n",
       "    </tr>\n",
       "    <tr>\n",
       "      <th>25</th>\n",
       "      <td>19492704777928730</td>\n",
       "      <td>[14758315485560897, 13004564710031666, 1300718...</td>\n",
       "      <td>44</td>\n",
       "    </tr>\n",
       "    <tr>\n",
       "      <th>45</th>\n",
       "      <td>19492704777928750</td>\n",
       "      <td>[13004564710031609, 13007182626816195, 1300724...</td>\n",
       "      <td>44</td>\n",
       "    </tr>\n",
       "    <tr>\n",
       "      <th>63</th>\n",
       "      <td>19492704777928768</td>\n",
       "      <td>[13004564710031653, 13007182626816173, 1300724...</td>\n",
       "      <td>48</td>\n",
       "    </tr>\n",
       "    <tr>\n",
       "      <th>80</th>\n",
       "      <td>19492704777928785</td>\n",
       "      <td>[13004564777140339, 13007182358380632, 1300724...</td>\n",
       "      <td>40</td>\n",
       "    </tr>\n",
       "    <tr>\n",
       "      <th>91</th>\n",
       "      <td>19492704777928796</td>\n",
       "      <td>[13004564777140350, 13007182358380618, 1300724...</td>\n",
       "      <td>38</td>\n",
       "    </tr>\n",
       "    <tr>\n",
       "      <th>95</th>\n",
       "      <td>19492704777928800</td>\n",
       "      <td>[13004564777140355, 13007182358380627, 1300724...</td>\n",
       "      <td>32</td>\n",
       "    </tr>\n",
       "    <tr>\n",
       "      <th>97</th>\n",
       "      <td>19492704777928802</td>\n",
       "      <td>[13004564777140357, 13007245172277413, 1300745...</td>\n",
       "      <td>30</td>\n",
       "    </tr>\n",
       "    <tr>\n",
       "      <th>123</th>\n",
       "      <td>19492704777928828</td>\n",
       "      <td>[13004564777140389, 13007182425489535, 1300724...</td>\n",
       "      <td>48</td>\n",
       "    </tr>\n",
       "  </tbody>\n",
       "</table>\n",
       "</div>"
      ],
      "text/plain": [
       "           diaObjectId                                          diaSrcIds  \\\n",
       "6    19492704777928711  [157038365638685, 14758315418451979, 130045647...   \n",
       "20   19492704777928725  [14758315418451978, 13004564777140365, 1300718...   \n",
       "25   19492704777928730  [14758315485560897, 13004564710031666, 1300718...   \n",
       "45   19492704777928750  [13004564710031609, 13007182626816195, 1300724...   \n",
       "63   19492704777928768  [13004564710031653, 13007182626816173, 1300724...   \n",
       "80   19492704777928785  [13004564777140339, 13007182358380632, 1300724...   \n",
       "91   19492704777928796  [13004564777140350, 13007182358380618, 1300724...   \n",
       "95   19492704777928800  [13004564777140355, 13007182358380627, 1300724...   \n",
       "97   19492704777928802  [13004564777140357, 13007245172277413, 1300745...   \n",
       "123  19492704777928828  [13004564777140389, 13007182425489535, 1300724...   \n",
       "\n",
       "     nobs  \n",
       "6      34  \n",
       "20     36  \n",
       "25     44  \n",
       "45     44  \n",
       "63     48  \n",
       "80     40  \n",
       "91     38  \n",
       "95     32  \n",
       "97     30  \n",
       "123    48  "
      ]
     },
     "execution_count": 36,
     "metadata": {},
     "output_type": "execute_result"
    }
   ],
   "source": [
    "subset_objs = objId[objId.nobs>=30]\n",
    "subset_objs"
   ]
  },
  {
   "cell_type": "code",
   "execution_count": 37,
   "metadata": {},
   "outputs": [
    {
     "name": "stdout",
     "output_type": "stream",
     "text": [
      "the ID is :  19492704777928711\n"
     ]
    }
   ],
   "source": [
    "i_row = 0\n",
    "print('the ID is : ', int(subset_objs.iloc[i_row]['diaObjectId']))"
   ]
  },
  {
   "cell_type": "markdown",
   "metadata": {},
   "source": [
    "Let's place it in our coordinate box."
   ]
  },
  {
   "cell_type": "code",
   "execution_count": 38,
   "metadata": {},
   "outputs": [],
   "source": [
    "selected_obj = objs[objs['id'] == int(subset_objs.iloc[i_row]['diaObjectId'])]"
   ]
  },
  {
   "cell_type": "code",
   "execution_count": 39,
   "metadata": {},
   "outputs": [
    {
     "data": {
      "text/plain": [
       "Text(24.602960532780145, 0.5, 'Dec')"
      ]
     },
     "execution_count": 39,
     "metadata": {},
     "output_type": "execute_result"
    },
    {
     "data": {
      "image/png": "[encoded data removed]",
      "text/plain": [
       "<Figure size 576x432 with 2 Axes>"
      ]
     },
     "metadata": {
      "needs_background": "light"
     },
     "output_type": "display_data"
    }
   ],
   "source": [
    "plt.figure(figsize=(8, 6))\n",
    "plt.scatter(np.rad2deg(srcs['coord_ra']), np.rad2deg(srcs['coord_dec']), \n",
    "            c=np.log10(srcs['ip_diffim_forced_PsfFlux_instFlux']))\n",
    "plt.colorbar(orientation='horizontal')\n",
    "plt.scatter(np.rad2deg(selected_obj['coord_ra']), \n",
    "            np.rad2deg(selected_obj['coord_dec']),\n",
    "            c='red', s=100, alpha=0.5)\n",
    "plt.grid()\n",
    "plt.vlines(x=[max_ra, min_ra], ymin=min_dec, ymax=max_dec)\n",
    "plt.hlines(y=[max_dec, min_dec], xmin=min_ra, xmax=max_ra)\n",
    "plt.gca().set_aspect(1./np.cos(np.mean([max_dec, min_dec])))\n",
    "plt.tight_layout()\n",
    "plt.xlabel('RA')\n",
    "plt.ylabel('Dec')"
   ]
  },
  {
   "cell_type": "markdown",
   "metadata": {},
   "source": [
    "The red dot shows which object we have chosen. "
   ]
  },
  {
   "cell_type": "code",
   "execution_count": 41,
   "metadata": {},
   "outputs": [
    {
     "data": {
      "text/html": [
       "<div>\n",
       "<style scoped>\n",
       "    .dataframe tbody tr th:only-of-type {\n",
       "        vertical-align: middle;\n",
       "    }\n",
       "\n",
       "    .dataframe tbody tr th {\n",
       "        vertical-align: top;\n",
       "    }\n",
       "\n",
       "    .dataframe thead th {\n",
       "        text-align: right;\n",
       "    }\n",
       "</style>\n",
       "<table border=\"1\" class=\"dataframe\">\n",
       "  <thead>\n",
       "    <tr style=\"text-align: right;\">\n",
       "      <th></th>\n",
       "      <th>id</th>\n",
       "      <th>coord_ra</th>\n",
       "      <th>coord_dec</th>\n",
       "      <th>parent</th>\n",
       "      <th>nobs</th>\n",
       "      <th>base_PsfFlux_instFlux_MeanErr_u</th>\n",
       "      <th>base_PsfFlux_instFlux_Ndata_u</th>\n",
       "      <th>base_PsfFlux_instFlux_Sigma_u</th>\n",
       "      <th>base_PsfFlux_instFlux_Mean_u</th>\n",
       "      <th>base_PsfFlux_instFlux_MeanErr_g</th>\n",
       "      <th>...</th>\n",
       "      <th>base_PsfFlux_instFlux_Sigma_i</th>\n",
       "      <th>base_PsfFlux_instFlux_Mean_i</th>\n",
       "      <th>base_PsfFlux_instFlux_MeanErr_z</th>\n",
       "      <th>base_PsfFlux_instFlux_Ndata_z</th>\n",
       "      <th>base_PsfFlux_instFlux_Sigma_z</th>\n",
       "      <th>base_PsfFlux_instFlux_Mean_z</th>\n",
       "      <th>base_PsfFlux_instFlux_MeanErr_y</th>\n",
       "      <th>base_PsfFlux_instFlux_Ndata_y</th>\n",
       "      <th>base_PsfFlux_instFlux_Sigma_y</th>\n",
       "      <th>base_PsfFlux_instFlux_Mean_y</th>\n",
       "    </tr>\n",
       "  </thead>\n",
       "  <tbody>\n",
       "    <tr>\n",
       "      <th>6</th>\n",
       "      <td>19492704777928711</td>\n",
       "      <td>0.997105</td>\n",
       "      <td>-0.557905</td>\n",
       "      <td>0</td>\n",
       "      <td>34</td>\n",
       "      <td>0.0</td>\n",
       "      <td>1</td>\n",
       "      <td>0.0</td>\n",
       "      <td>123.65359</td>\n",
       "      <td>NaN</td>\n",
       "      <td>...</td>\n",
       "      <td>NaN</td>\n",
       "      <td>NaN</td>\n",
       "      <td>NaN</td>\n",
       "      <td>4</td>\n",
       "      <td>NaN</td>\n",
       "      <td>NaN</td>\n",
       "      <td>NaN</td>\n",
       "      <td>0</td>\n",
       "      <td>NaN</td>\n",
       "      <td>NaN</td>\n",
       "    </tr>\n",
       "  </tbody>\n",
       "</table>\n",
       "<p>1 rows × 29 columns</p>\n",
       "</div>"
      ],
      "text/plain": [
       "                  id  coord_ra  coord_dec  parent  nobs  \\\n",
       "6  19492704777928711  0.997105  -0.557905       0    34   \n",
       "\n",
       "   base_PsfFlux_instFlux_MeanErr_u  base_PsfFlux_instFlux_Ndata_u  \\\n",
       "6                              0.0                              1   \n",
       "\n",
       "   base_PsfFlux_instFlux_Sigma_u  base_PsfFlux_instFlux_Mean_u  \\\n",
       "6                            0.0                     123.65359   \n",
       "\n",
       "   base_PsfFlux_instFlux_MeanErr_g  ...  base_PsfFlux_instFlux_Sigma_i  \\\n",
       "6                              NaN  ...                            NaN   \n",
       "\n",
       "   base_PsfFlux_instFlux_Mean_i  base_PsfFlux_instFlux_MeanErr_z  \\\n",
       "6                           NaN                              NaN   \n",
       "\n",
       "   base_PsfFlux_instFlux_Ndata_z  base_PsfFlux_instFlux_Sigma_z  \\\n",
       "6                              4                            NaN   \n",
       "\n",
       "   base_PsfFlux_instFlux_Mean_z  base_PsfFlux_instFlux_MeanErr_y  \\\n",
       "6                           NaN                              NaN   \n",
       "\n",
       "   base_PsfFlux_instFlux_Ndata_y  base_PsfFlux_instFlux_Sigma_y  \\\n",
       "6                              0                            NaN   \n",
       "\n",
       "   base_PsfFlux_instFlux_Mean_y  \n",
       "6                           NaN  \n",
       "\n",
       "[1 rows x 29 columns]"
      ]
     },
     "execution_count": 41,
     "metadata": {},
     "output_type": "execute_result"
    }
   ],
   "source": [
    "selected_obj"
   ]
  },
  {
   "cell_type": "markdown",
   "metadata": {},
   "source": [
    "Now, we select the data and start working to bring the `diaSrc` data altogether.  \n",
    "So the list of `diaSrcs` associated is then:"
   ]
  },
  {
   "cell_type": "code",
   "execution_count": 42,
   "metadata": {},
   "outputs": [],
   "source": [
    "objdrow = objId[objId.diaObjectId==int(selected_obj['id'])]"
   ]
  },
  {
   "cell_type": "code",
   "execution_count": 43,
   "metadata": {},
   "outputs": [
    {
     "data": {
      "text/plain": [
       "array([  157038365638685, 14758315418451979, 13004564777140361,\n",
       "       13007182425489574, 13007245373604034, 13007454820368530,\n",
       "       14872198221136015, 17066993081385062, 17069611065278690,\n",
       "       17069815411769554, 17070692860166327, 17071020284313849,\n",
       "       12204956085911742, 13012416983990372, 14232180314079377,\n",
       "       14235545353846893, 14274737534402637, 14277150702043258,\n",
       "       14758727869530205, 14758857389637739, 16803733933392046,\n",
       "       11717344288047190, 11906596787454053, 11910485343469626,\n",
       "       15292981804269644, 15293512434057309, 15295326856413275,\n",
       "       15295721590751388, 16376115782221929, 17203230115102824,\n",
       "         537342754422832, 12843098166001702, 15232705495040060,\n",
       "       16309535534743612])"
      ]
     },
     "execution_count": 43,
     "metadata": {},
     "output_type": "execute_result"
    }
   ],
   "source": [
    "srcids = objdrow['diaSrcIds'].tolist()[0]\n",
    "srcids"
   ]
  },
  {
   "cell_type": "code",
   "execution_count": 44,
   "metadata": {},
   "outputs": [
    {
     "data": {
      "text/plain": [
       "34"
      ]
     },
     "execution_count": 44,
     "metadata": {},
     "output_type": "execute_result"
    }
   ],
   "source": [
    "len(srcids)"
   ]
  },
  {
   "cell_type": "markdown",
   "metadata": {},
   "source": [
    "In order to obtain the indiviual detections we must know the visit, and detector where each `diaSrc` was found. For this we need to use an inverse generation Id trick, which for Run2.1i is as follows:"
   ]
  },
  {
   "cell_type": "code",
   "execution_count": 45,
   "metadata": {},
   "outputs": [],
   "source": [
    "visits = []\n",
    "detectors = []\n",
    "for asrcid in srcids:\n",
    "    visit_id = (asrcid>>26)//1000\n",
    "    visits.append(visit_id)\n",
    "    detectors.append((asrcid>>26)%(1000*visit_id))\n",
    "srcidstab = pd.DataFrame(np.array([srcids, visits, detectors]).T, columns=['srcid', 'visit', 'det'])"
   ]
  },
  {
   "cell_type": "markdown",
   "metadata": {},
   "source": [
    "Also we would like to perform some sort of calibration for the individual fluxes. \n",
    "\n",
    "Below we are going to pull the `deepDiff_diaSrc` table where our source id is pointing to and also the `calexp` calibration."
   ]
  },
  {
   "cell_type": "code",
   "execution_count": 46,
   "metadata": {},
   "outputs": [],
   "source": [
    "fluxes_to_calibrate = ['base_PsfFlux_instFlux',\n",
    "                       'ip_diffim_forced_PsfFlux_instFlux',\n",
    "                       'base_CircularApertureFlux_3_0_instFlux',\n",
    "                       'base_CircularApertureFlux_4_5_instFlux',\n",
    "                       'base_CircularApertureFlux_6_0_instFlux',\n",
    "                       'base_CircularApertureFlux_9_0_instFlux',\n",
    "                       'base_CircularApertureFlux_12_0_instFlux', \n",
    "                       'base_CircularApertureFlux_17_0_instFlux', \n",
    "                       'base_CircularApertureFlux_25_0_instFlux']"
   ]
  },
  {
   "cell_type": "code",
   "execution_count": 47,
   "metadata": {},
   "outputs": [],
   "source": [
    "rows = []\n",
    "for idx, anid, avisit, adet in srcidstab.itertuples():\n",
    "    sources_tab = diabutler.get('deepDiff_diaSrc', \n",
    "                                visit=avisit, detector=adet).asAstropy().to_pandas()\n",
    "    photcal = diabutler.get('deepDiff_differenceExp_photoCalib', \n",
    "                           visit=avisit, detector=adet)\n",
    "    calexp = diabutler.get('calexp', visit=avisit, detector=adet)\n",
    "    date_mjd = calexp.getInfo().getVisitInfo().getDate().get()\n",
    "    fltr = calexp.getInfo().getFilter().getCanonicalName()\n",
    "    sources_tab['filter'] = fltr\n",
    "    sources_tab['MJD'] = date_mjd\n",
    "    source_row = sources_tab[sources_tab.id == anid].copy()\n",
    "    for aflux in fluxes_to_calibrate:\n",
    "        flux, err = source_row[aflux], source_row[aflux+'Err'] \n",
    "        #print(flux, err)\n",
    "        cal = photcal.instFluxToMagnitude(flux, err)\n",
    "        source_row[aflux+'_calMag'] = cal.value\n",
    "        source_row[aflux+'_calMagErr'] = cal.error\n",
    "        cal = photcal.instFluxToNanojansky(flux, err)\n",
    "        source_row[aflux+'_nJy'] = cal.value\n",
    "        source_row[aflux+'_nJyErr'] = cal.error\n",
    "    rows.append(source_row)\n",
    "lightcurve = pd.concat(rows)"
   ]
  },
  {
   "cell_type": "markdown",
   "metadata": {},
   "source": [
    "Now we have a lightcurve table ready to plot:"
   ]
  },
  {
   "cell_type": "code",
   "execution_count": 48,
   "metadata": {},
   "outputs": [
    {
     "data": {
      "text/html": [
       "<div>\n",
       "<style scoped>\n",
       "    .dataframe tbody tr th:only-of-type {\n",
       "        vertical-align: middle;\n",
       "    }\n",
       "\n",
       "    .dataframe tbody tr th {\n",
       "        vertical-align: top;\n",
       "    }\n",
       "\n",
       "    .dataframe thead th {\n",
       "        text-align: right;\n",
       "    }\n",
       "</style>\n",
       "<table border=\"1\" class=\"dataframe\">\n",
       "  <thead>\n",
       "    <tr style=\"text-align: right;\">\n",
       "      <th></th>\n",
       "      <th>id</th>\n",
       "      <th>coord_ra</th>\n",
       "      <th>coord_dec</th>\n",
       "      <th>parent</th>\n",
       "      <th>flags_negative</th>\n",
       "      <th>base_NaiveCentroid_x</th>\n",
       "      <th>base_NaiveCentroid_y</th>\n",
       "      <th>base_NaiveCentroid_flag</th>\n",
       "      <th>base_NaiveCentroid_flag_noCounts</th>\n",
       "      <th>base_NaiveCentroid_flag_edge</th>\n",
       "      <th>...</th>\n",
       "      <th>base_CircularApertureFlux_12_0_instFlux_nJy</th>\n",
       "      <th>base_CircularApertureFlux_12_0_instFlux_nJyErr</th>\n",
       "      <th>base_CircularApertureFlux_17_0_instFlux_calMag</th>\n",
       "      <th>base_CircularApertureFlux_17_0_instFlux_calMagErr</th>\n",
       "      <th>base_CircularApertureFlux_17_0_instFlux_nJy</th>\n",
       "      <th>base_CircularApertureFlux_17_0_instFlux_nJyErr</th>\n",
       "      <th>base_CircularApertureFlux_25_0_instFlux_calMag</th>\n",
       "      <th>base_CircularApertureFlux_25_0_instFlux_calMagErr</th>\n",
       "      <th>base_CircularApertureFlux_25_0_instFlux_nJy</th>\n",
       "      <th>base_CircularApertureFlux_25_0_instFlux_nJyErr</th>\n",
       "    </tr>\n",
       "  </thead>\n",
       "  <tbody>\n",
       "    <tr>\n",
       "      <th>7</th>\n",
       "      <td>157038365638685</td>\n",
       "      <td>0.997104</td>\n",
       "      <td>-0.557905</td>\n",
       "      <td>0</td>\n",
       "      <td>False</td>\n",
       "      <td>3820.153139</td>\n",
       "      <td>1530.041342</td>\n",
       "      <td>False</td>\n",
       "      <td>False</td>\n",
       "      <td>False</td>\n",
       "      <td>...</td>\n",
       "      <td>-5291.882632</td>\n",
       "      <td>741.187786</td>\n",
       "      <td>NaN</td>\n",
       "      <td>0.221638</td>\n",
       "      <td>-4884.907963</td>\n",
       "      <td>997.185131</td>\n",
       "      <td>NaN</td>\n",
       "      <td>0.314487</td>\n",
       "      <td>-4875.225717</td>\n",
       "      <td>1412.125822</td>\n",
       "    </tr>\n",
       "    <tr>\n",
       "      <th>1</th>\n",
       "      <td>14758315418451979</td>\n",
       "      <td>0.997104</td>\n",
       "      <td>-0.557905</td>\n",
       "      <td>0</td>\n",
       "      <td>False</td>\n",
       "      <td>3775.095255</td>\n",
       "      <td>170.010942</td>\n",
       "      <td>False</td>\n",
       "      <td>False</td>\n",
       "      <td>False</td>\n",
       "      <td>...</td>\n",
       "      <td>4963.092935</td>\n",
       "      <td>713.627815</td>\n",
       "      <td>22.513066</td>\n",
       "      <td>0.286121</td>\n",
       "      <td>3587.350124</td>\n",
       "      <td>945.364096</td>\n",
       "      <td>23.33707</td>\n",
       "      <td>0.861677</td>\n",
       "      <td>1679.468331</td>\n",
       "      <td>1332.882842</td>\n",
       "    </tr>\n",
       "    <tr>\n",
       "      <th>28</th>\n",
       "      <td>13004564777140361</td>\n",
       "      <td>0.997105</td>\n",
       "      <td>-0.557905</td>\n",
       "      <td>0</td>\n",
       "      <td>False</td>\n",
       "      <td>144.124252</td>\n",
       "      <td>1246.036017</td>\n",
       "      <td>False</td>\n",
       "      <td>False</td>\n",
       "      <td>False</td>\n",
       "      <td>...</td>\n",
       "      <td>-9011.326641</td>\n",
       "      <td>311.926592</td>\n",
       "      <td>NaN</td>\n",
       "      <td>0.049346</td>\n",
       "      <td>-8922.798754</td>\n",
       "      <td>405.532341</td>\n",
       "      <td>NaN</td>\n",
       "      <td>0.066549</td>\n",
       "      <td>-9111.703148</td>\n",
       "      <td>558.488747</td>\n",
       "    </tr>\n",
       "    <tr>\n",
       "      <th>68</th>\n",
       "      <td>13007182425489574</td>\n",
       "      <td>0.997105</td>\n",
       "      <td>-0.557905</td>\n",
       "      <td>0</td>\n",
       "      <td>False</td>\n",
       "      <td>492.147061</td>\n",
       "      <td>3960.219595</td>\n",
       "      <td>False</td>\n",
       "      <td>False</td>\n",
       "      <td>False</td>\n",
       "      <td>...</td>\n",
       "      <td>-8539.452206</td>\n",
       "      <td>304.999827</td>\n",
       "      <td>NaN</td>\n",
       "      <td>0.050215</td>\n",
       "      <td>-8589.091855</td>\n",
       "      <td>397.242758</td>\n",
       "      <td>NaN</td>\n",
       "      <td>0.066672</td>\n",
       "      <td>-8895.878418</td>\n",
       "      <td>546.270798</td>\n",
       "    </tr>\n",
       "    <tr>\n",
       "      <th>3</th>\n",
       "      <td>13007245373604034</td>\n",
       "      <td>0.997105</td>\n",
       "      <td>-0.557905</td>\n",
       "      <td>0</td>\n",
       "      <td>False</td>\n",
       "      <td>583.176582</td>\n",
       "      <td>153.019026</td>\n",
       "      <td>False</td>\n",
       "      <td>False</td>\n",
       "      <td>False</td>\n",
       "      <td>...</td>\n",
       "      <td>-8642.391014</td>\n",
       "      <td>307.300625</td>\n",
       "      <td>NaN</td>\n",
       "      <td>0.050399</td>\n",
       "      <td>-8585.334724</td>\n",
       "      <td>398.522882</td>\n",
       "      <td>NaN</td>\n",
       "      <td>0.074195</td>\n",
       "      <td>-8018.634268</td>\n",
       "      <td>547.964883</td>\n",
       "    </tr>\n",
       "  </tbody>\n",
       "</table>\n",
       "<p>5 rows × 286 columns</p>\n",
       "</div>"
      ],
      "text/plain": [
       "                   id  coord_ra  coord_dec  parent  flags_negative  \\\n",
       "7     157038365638685  0.997104  -0.557905       0           False   \n",
       "1   14758315418451979  0.997104  -0.557905       0           False   \n",
       "28  13004564777140361  0.997105  -0.557905       0           False   \n",
       "68  13007182425489574  0.997105  -0.557905       0           False   \n",
       "3   13007245373604034  0.997105  -0.557905       0           False   \n",
       "\n",
       "    base_NaiveCentroid_x  base_NaiveCentroid_y  base_NaiveCentroid_flag  \\\n",
       "7            3820.153139           1530.041342                    False   \n",
       "1            3775.095255            170.010942                    False   \n",
       "28            144.124252           1246.036017                    False   \n",
       "68            492.147061           3960.219595                    False   \n",
       "3             583.176582            153.019026                    False   \n",
       "\n",
       "    base_NaiveCentroid_flag_noCounts  base_NaiveCentroid_flag_edge  ...  \\\n",
       "7                              False                         False  ...   \n",
       "1                              False                         False  ...   \n",
       "28                             False                         False  ...   \n",
       "68                             False                         False  ...   \n",
       "3                              False                         False  ...   \n",
       "\n",
       "    base_CircularApertureFlux_12_0_instFlux_nJy  \\\n",
       "7                                  -5291.882632   \n",
       "1                                   4963.092935   \n",
       "28                                 -9011.326641   \n",
       "68                                 -8539.452206   \n",
       "3                                  -8642.391014   \n",
       "\n",
       "    base_CircularApertureFlux_12_0_instFlux_nJyErr  \\\n",
       "7                                       741.187786   \n",
       "1                                       713.627815   \n",
       "28                                      311.926592   \n",
       "68                                      304.999827   \n",
       "3                                       307.300625   \n",
       "\n",
       "    base_CircularApertureFlux_17_0_instFlux_calMag  \\\n",
       "7                                              NaN   \n",
       "1                                        22.513066   \n",
       "28                                             NaN   \n",
       "68                                             NaN   \n",
       "3                                              NaN   \n",
       "\n",
       "    base_CircularApertureFlux_17_0_instFlux_calMagErr  \\\n",
       "7                                            0.221638   \n",
       "1                                            0.286121   \n",
       "28                                           0.049346   \n",
       "68                                           0.050215   \n",
       "3                                            0.050399   \n",
       "\n",
       "    base_CircularApertureFlux_17_0_instFlux_nJy  \\\n",
       "7                                  -4884.907963   \n",
       "1                                   3587.350124   \n",
       "28                                 -8922.798754   \n",
       "68                                 -8589.091855   \n",
       "3                                  -8585.334724   \n",
       "\n",
       "    base_CircularApertureFlux_17_0_instFlux_nJyErr  \\\n",
       "7                                       997.185131   \n",
       "1                                       945.364096   \n",
       "28                                      405.532341   \n",
       "68                                      397.242758   \n",
       "3                                       398.522882   \n",
       "\n",
       "    base_CircularApertureFlux_25_0_instFlux_calMag  \\\n",
       "7                                              NaN   \n",
       "1                                         23.33707   \n",
       "28                                             NaN   \n",
       "68                                             NaN   \n",
       "3                                              NaN   \n",
       "\n",
       "    base_CircularApertureFlux_25_0_instFlux_calMagErr  \\\n",
       "7                                            0.314487   \n",
       "1                                            0.861677   \n",
       "28                                           0.066549   \n",
       "68                                           0.066672   \n",
       "3                                            0.074195   \n",
       "\n",
       "    base_CircularApertureFlux_25_0_instFlux_nJy  \\\n",
       "7                                  -4875.225717   \n",
       "1                                   1679.468331   \n",
       "28                                 -9111.703148   \n",
       "68                                 -8895.878418   \n",
       "3                                  -8018.634268   \n",
       "\n",
       "    base_CircularApertureFlux_25_0_instFlux_nJyErr  \n",
       "7                                      1412.125822  \n",
       "1                                      1332.882842  \n",
       "28                                      558.488747  \n",
       "68                                      546.270798  \n",
       "3                                       547.964883  \n",
       "\n",
       "[5 rows x 286 columns]"
      ]
     },
     "execution_count": 48,
     "metadata": {},
     "output_type": "execute_result"
    }
   ],
   "source": [
    "lightcurve.head()"
   ]
  },
  {
   "cell_type": "code",
   "execution_count": 49,
   "metadata": {},
   "outputs": [
    {
     "data": {
      "image/png": "[encoded data removed]",
      "text/plain": [
       "<Figure size 432x288 with 1 Axes>"
      ]
     },
     "metadata": {
      "needs_background": "light"
     },
     "output_type": "display_data"
    }
   ],
   "source": [
    "for fltr, lc in lightcurve.groupby('filter'):\n",
    "    plt.errorbar(lc['MJD'], lc['base_CircularApertureFlux_6_0_instFlux_calMag'], \n",
    "                 yerr=lc['base_CircularApertureFlux_6_0_instFlux_calMagErr'],\n",
    "                 label=fltr, fmt='o')\n",
    "plt.grid()\n",
    "plt.legend(loc='best')\n",
    "plt.gca().invert_yaxis()"
   ]
  },
  {
   "cell_type": "markdown",
   "metadata": {},
   "source": [
    "We could also use this to create stamps, but for the moment this is enough information!"
   ]
  }
 ],
 "metadata": {
  "kernelspec": {
   "display_name": "desc-dia",
   "language": "python",
   "name": "desc-dia"
  },
  "language_info": {
   "codemirror_mode": {
    "name": "ipython",
    "version": 3
   },
   "file_extension": ".py",
   "mimetype": "text/x-python",
   "name": "python",
   "nbconvert_exporter": "python",
   "pygments_lexer": "ipython3",
   "version": "3.7.5"
  }
 },
 "nbformat": 4,
 "nbformat_minor": 4
}
