{
 "cells": [
  {
   "cell_type": "markdown",
   "metadata": {},
   "source": [
    "# DC2 Object Catalog Run1.2i GCR tutorial -- Part IV: accessing photo-z\n",
    "\n",
    "Owners: **Yao-Yuan Mao [@yymao](https://github.com/LSSTDESC/DC2-analysis/issues/new?body=@yymao)**  \n",
    "Last Verifed to Run: **2019-02-22** (by @yymao)\n",
    "\n",
    "This notebook will show you how to access the \"add-on\" columns that provide the photometric redshift (photo-z) information for the DC2 Object Catalog (Run 1.2i). \n",
    "\n",
    "__Learning objectives__: After going through this notebook, you should be able to:\n",
    "  1. Load and efficiently access a DC2 object catalog (+ photo-z) with the GCR\n",
    "  2. Understand how the photo-z data are stored / represented\n",
    "  3. Look at an example of galaxy photo-z distributions\n",
    "  \n",
    "__Logistics__: This notebook is intended to be run through the JupyterHub NERSC interface available here: https://jupyter-dev.nersc.gov. To setup your NERSC environment, please follow the instructions available here: https://confluence.slac.stanford.edu/display/LSSTDESC/Using+Jupyter-dev+at+NERSC\n",
    "\n",
    "__Other notes__: \n",
    "If you restart your kernel, or if it automatically restarts for some reason, all imports and variables will become undefined so, you will have to re-run everything."
   ]
  },
  {
   "cell_type": "code",
   "execution_count": null,
   "metadata": {},
   "outputs": [],
   "source": [
    "import sys\n",
    "sys.path.insert(0, '../../gcr-catalogs/')"
   ]
  },
  {
   "cell_type": "code",
   "execution_count": null,
   "metadata": {},
   "outputs": [],
   "source": [
    "import numpy as np\n",
    "import matplotlib.pyplot as plt\n",
    "%matplotlib inline"
   ]
  },
  {
   "cell_type": "code",
   "execution_count": null,
   "metadata": {},
   "outputs": [],
   "source": [
    "import GCRCatalogs\n",
    "from GCR import GCRQuery"
   ]
  },
  {
   "cell_type": "markdown",
   "metadata": {},
   "source": [
    "## Load the catalog\n",
    "\n",
    "Loading the object catalog with photo-z add-on. The catalog name is `dc2_object_run1.2i_with_photoz`. \n",
    "\n",
    "**Note**: if you need more quantities (including those not in DPDD), then use `dc2_object_run1.2i_all_columns_with_photoz` instead.\n",
    "\n",
    "It takes a few seconds for the catalog instance to initiate."
   ]
  },
  {
   "cell_type": "code",
   "execution_count": null,
   "metadata": {},
   "outputs": [],
   "source": [
    "cat = GCRCatalogs.load_catalog('dc2_object_run1.2i_with_photoz')"
   ]
  },
  {
   "cell_type": "markdown",
   "metadata": {},
   "source": [
    "## Photo-z access methods\n",
    "\n",
    "The photo-z infomation can be accessed in two ways:\n",
    "\n",
    "1. As a single column `photoz_mode` that has the mode value (z_peak), and\n",
    "2. As a single multi-dimension coulmn `photoz_pdf` (i.e., when accessing this column, you get a 2D array instead of a 1D one). \n",
    "\n",
    "We will demostrate both access method in detail. You can notice that all the photo-z columns have a prefix of `photoz_`. \n",
    "\n",
    "Let's first make sure that these columns are indeed available. "
   ]
  },
  {
   "cell_type": "code",
   "execution_count": null,
   "metadata": {},
   "outputs": [],
   "source": [
    "sorted(q for q in cat.list_all_quantities() if q.startswith('photoz_'))"
   ]
  },
  {
   "cell_type": "markdown",
   "metadata": {},
   "source": [
    "Let try access the photo-z data! Everything you already about the GCR access of object catalogs will still apply. \n",
    "Including the use of `filters` and `native_filters` (`native_filters` is used for selecting tracts mostly). "
   ]
  },
  {
   "cell_type": "code",
   "execution_count": null,
   "metadata": {},
   "outputs": [],
   "source": [
    "data = cat.get_quantities(['photoz_mode'], \n",
    "                          filters=['photoz_mode < 0.2', 'mag_i < 26'], \n",
    "                          native_filters=['tract==4850'])\n",
    "\n",
    "# check if the filters work\n",
    "print((data['photoz_mode'] < 0.2).all())"
   ]
  },
  {
   "cell_type": "markdown",
   "metadata": {},
   "source": [
    "Now, if you want to make a plot of the PDF, it might be easier to access the `pz_pdf_full` column. Note that it is a multi-dimension column, so use with care!\n",
    "\n",
    "As an example, let's just load one patch (using the `return_iterator` feature) of the full PDFs:"
   ]
  },
  {
   "cell_type": "code",
   "execution_count": null,
   "metadata": {},
   "outputs": [],
   "source": [
    "data = next(cat.get_quantities(['photoz_pdf'], return_iterator=True))"
   ]
  },
  {
   "cell_type": "markdown",
   "metadata": {},
   "source": [
    "There are 72 objects in this patch, and there are 101 bins in the photo-z PDF, so this 2D array has a shape of (72, 101). Note how the 2D array is orientied."
   ]
  },
  {
   "cell_type": "code",
   "execution_count": null,
   "metadata": {},
   "outputs": [],
   "source": [
    "data['photoz_pdf'].shape"
   ]
  },
  {
   "cell_type": "markdown",
   "metadata": {},
   "source": [
    "Now, let's plot 10 PDFs. To get an array of bin center values, you can access the `pz_pdf_bin_centers` attribute. "
   ]
  },
  {
   "cell_type": "code",
   "execution_count": null,
   "metadata": {},
   "outputs": [],
   "source": [
    "for pdf in data['photoz_pdf'][:10]:\n",
    "    plt.plot(cat.photoz_pdf_bin_centers, pdf);\n",
    "\n",
    "plt.xlabel('$z$');\n",
    "plt.ylabel('$p(z)$');"
   ]
  },
  {
   "cell_type": "markdown",
   "metadata": {},
   "source": [
    "## Example\n",
    "\n",
    "Now that we have learned all the access methods, let's try to work out an example!\n",
    "\n",
    "First of all, let's define a set of reasonable cuts to give us galaxies"
   ]
  },
  {
   "cell_type": "code",
   "execution_count": null,
   "metadata": {},
   "outputs": [],
   "source": [
    "cuts = [\n",
    "    GCRQuery('extendedness > 0'),     # Extended objects\n",
    "    GCRQuery((np.isfinite, 'mag_i')), # Select objects that have i-band magnitudes\n",
    "    GCRQuery('clean'), # The source has no flagged pixels (interpolated, saturated, edge, clipped...) \n",
    "                       # and was not skipped by the deblender\n",
    "    GCRQuery('snr_i_cModel > 10'),    # SNR > 10\n",
    "    GCRQuery('mag_i_cModel < 22'),  # cModel imag brighter than 22\n",
    "    GCRQuery('mag_i_cModel > 20'),  # cModel imag fainter than 20 (exclude super bright objects)\n",
    "]"
   ]
  },
  {
   "cell_type": "markdown",
   "metadata": {},
   "source": [
    "Now let's make some plots!"
   ]
  },
  {
   "cell_type": "code",
   "execution_count": null,
   "metadata": {},
   "outputs": [],
   "source": [
    "data = cat.get_quantities(['photoz_mode', 'mag_g_cModel', 'mag_r_cModel', 'mag_i_cModel'], filters=cuts, native_filters=['tract==4850'])"
   ]
  },
  {
   "cell_type": "code",
   "execution_count": null,
   "metadata": {},
   "outputs": [],
   "source": [
    "plt.hist(data['photoz_mode'], 50);"
   ]
  },
  {
   "cell_type": "code",
   "execution_count": null,
   "metadata": {},
   "outputs": [],
   "source": [
    "plt.scatter(data['mag_g_cModel'] - data['mag_r_cModel'],\n",
    "            data['mag_r_cModel'] - data['mag_i_cModel'],\n",
    "            c=data['photoz_mode'], s=4, vmin=0, vmax=1);\n",
    "\n",
    "plt.xlim(-1, 3);\n",
    "plt.ylim(-0.5, 2);\n",
    "plt.xlabel('$g-r$');\n",
    "plt.ylabel('$r-i$');\n",
    "plt.colorbar(label='$z$');"
   ]
  }
 ],
 "metadata": {
  "kernelspec": {
   "display_name": "desc-python",
   "language": "python",
   "name": "desc-python"
  },
  "language_info": {
   "codemirror_mode": {
    "name": "ipython",
    "version": 3
   },
   "file_extension": ".py",
   "mimetype": "text/x-python",
   "name": "python",
   "nbconvert_exporter": "python",
   "pygments_lexer": "ipython3",
   "version": "3.6.6"
  }
 },
 "nbformat": 4,
 "nbformat_minor": 2
}
