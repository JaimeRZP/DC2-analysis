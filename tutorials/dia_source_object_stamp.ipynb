{
 "cells": [
  {
   "cell_type": "markdown",
   "metadata": {},
   "source": [
    "# DIA Analysis: Source, Object, and Postage Stamps for Run 1.2p Test\n",
    "Michael Wood-Vasey\n",
    "Last Verified to Run: 2019-07-06\n",
    "\n",
    "After completing this Notebook, the users will be able to\n",
    "1. Plot statistics of DIA Object and Source tables.\n",
    "2. Select and plot lightcurve of DIA Object.\n",
    "3. Locate that DIA Object in the truth catalog of input variables\n",
    "4. Display and inspect postage stamps of a selected DIAObject."
   ]
  },
  {
   "cell_type": "code",
   "execution_count": null,
   "metadata": {},
   "outputs": [],
   "source": [
    "# Inject gcr-catalogs that supports DIA source into path.\n",
    "import os\n",
    "import math\n",
    "import sys\n",
    "\n",
    "import numpy as np\n",
    "import pandas as pd\n",
    "\n",
    "from astropy.coordinates import SkyCoord\n",
    "import astropy.units as u"
   ]
  },
  {
   "cell_type": "code",
   "execution_count": null,
   "metadata": {},
   "outputs": [],
   "source": [
    "import lsst.afw.display as afwDisplay\n",
    "import lsst.afw.geom as afwGeom\n",
    "from lsst.daf.persistence import Butler\n",
    "from lsst.geom import SpherePoint\n",
    "import lsst.geom"
   ]
  },
  {
   "cell_type": "code",
   "execution_count": null,
   "metadata": {},
   "outputs": [],
   "source": [
    "import GCRCatalogs"
   ]
  },
  {
   "cell_type": "code",
   "execution_count": null,
   "metadata": {},
   "outputs": [],
   "source": [
    "%matplotlib inline\n",
    "\n",
    "import matplotlib.pyplot as plt"
   ]
  },
  {
   "cell_type": "code",
   "execution_count": null,
   "metadata": {},
   "outputs": [],
   "source": [
    "# The DIA analysis is still in test phase.   The current test repo, based on Run 1.2p, is here:\n",
    "repo = '/global/cscratch1/sd/rearmstr/new_templates/diffim_template'"
   ]
  },
  {
   "cell_type": "code",
   "execution_count": null,
   "metadata": {},
   "outputs": [],
   "source": [
    "diaSrc = GCRCatalogs.load_catalog('dc2_dia_source_run1.2p_test')\n",
    "diaObject = GCRCatalogs.load_catalog('dc2_dia_object_run1.2p_test')"
   ]
  },
  {
   "cell_type": "markdown",
   "metadata": {},
   "source": [
    "(We presently will get a warning from the catalog reader in the initalization above because there is no u-band in the subtractions.)"
   ]
  },
  {
   "cell_type": "markdown",
   "metadata": {},
   "source": [
    "Questions for this very simple test verification:\n",
    "1. How many DIA Sources are there?\n",
    "2. What's the distribution in RA, Dec?\n",
    "3. What's the mag vs. mag_err plot\n",
    "4. Can we get out the filter information?"
   ]
  },
  {
   "cell_type": "code",
   "execution_count": null,
   "metadata": {},
   "outputs": [],
   "source": [
    "print(f'There are {len(diaSrc)} DIA Sources and {len(diaObject)} DIA Objects in this test sample')"
   ]
  },
  {
   "cell_type": "code",
   "execution_count": null,
   "metadata": {},
   "outputs": [],
   "source": [
    "def scatter_radec(cat, ax=None):\n",
    "    if ax is None:\n",
    "        ax = plt.gca()\n",
    "    ax.scatter(cat['ra'], cat['dec'], marker='.')\n",
    "    ax.set_xlabel('RA')\n",
    "    ax.set_ylabel('Dec')\n",
    "    \n",
    "    # While we're doing a rectangular plot of the local tangent, we can at least get the local scale right\n",
    "    median_ra, median_dec = np.median(cat['ra']), np.median(cat['dec'])\n",
    "    ax.set_aspect(aspect=abs(1/math.cos(median_dec)))\n",
    "\n",
    "fig, [ax1, ax2] = plt.subplots(1, 2, figsize=(8, 4))\n",
    "scatter_radec(diaSrc, ax1)\n",
    "scatter_radec(diaObject, ax2)"
   ]
  },
  {
   "cell_type": "code",
   "execution_count": null,
   "metadata": {},
   "outputs": [],
   "source": [
    "def hexbin_radec(cat, ax=None):\n",
    "    if ax is None:\n",
    "        ax = plt.gca()\n",
    "    ax.hexbin(cat['ra'], cat['dec'])\n",
    "    # I don't know how to do colorbar from the axis\n",
    "    #    ax.colorbar()\n",
    "    ax.set_xlabel('RA')\n",
    "    ax.set_ylabel('Dec')\n",
    "\n",
    "    # While we're doing a rectangular plot of the local tangent, we can at least get the local scale right\n",
    "    median_ra, median_dec = np.median(cat['ra']), np.median(cat['dec'])\n",
    "    ax.set_aspect(aspect=abs(1/math.cos(median_dec)))\n",
    "    \n",
    "fig, [ax1, ax2] = plt.subplots(1, 2, figsize=(8, 4))\n",
    "hexbin_radec(diaSrc, ax1)\n",
    "hexbin_radec(diaObject, ax2)"
   ]
  },
  {
   "cell_type": "code",
   "execution_count": null,
   "metadata": {},
   "outputs": [],
   "source": [
    "diaSrc_r = diaSrc.get_quantities(['ra', 'dec', 'mag', 'mag_err', 'psFlux', 'psFluxErr'],\n",
    "                           filters=[(lambda x: x == 'r', 'filter'), 'mag_err < 0.1'])"
   ]
  },
  {
   "cell_type": "code",
   "execution_count": null,
   "metadata": {},
   "outputs": [],
   "source": [
    "hexbin_radec(diaSrc_r)"
   ]
  },
  {
   "cell_type": "code",
   "execution_count": null,
   "metadata": {},
   "outputs": [],
   "source": [
    "def scatter_mag(cat, ax=None):\n",
    "    if ax is None:\n",
    "        ax = plt.gca()\n",
    "    mag, mag_err = cat['mag'], cat['mag_err']\n",
    "    ax.scatter(mag, mag_err, marker='.')\n",
    "    ax.set_xlabel('Mag')\n",
    "    ax.set_ylabel('Mag Err')\n",
    "\n",
    "scatter_mag(diaSrc_r)\n",
    "# Oh, there is no mag yet for diaObject.\n",
    "# scatter_mag(diaObject) "
   ]
  },
  {
   "cell_type": "code",
   "execution_count": null,
   "metadata": {},
   "outputs": [],
   "source": [
    "cat_by_filter = {}\n",
    "filter_names = ['u', 'g', 'r', 'i', 'z', 'y']\n",
    "columns = ['ra', 'dec', 'mag', 'mag_err', 'psFlux', 'psFluxErr', 'visit']\n",
    "\n",
    "for f in filter_names: \n",
    "    cat_by_filter[f] = diaSrc.get_quantities(columns,\n",
    "                                          filters=[(lambda x: x == f, 'filter'), 'mag_err < 0.1'])"
   ]
  },
  {
   "cell_type": "code",
   "execution_count": null,
   "metadata": {},
   "outputs": [],
   "source": [
    "for f, this_cat in cat_by_filter.items():\n",
    "    plt.scatter(this_cat['mag'], this_cat['mag_err'], marker='.', label=f)\n",
    "\n",
    "plt.legend()\n",
    "plt.xlabel('mag')\n",
    "plt.ylabel('mag_err');"
   ]
  },
  {
   "cell_type": "code",
   "execution_count": null,
   "metadata": {},
   "outputs": [],
   "source": [
    "diaSrc.list_all_quantities()"
   ]
  },
  {
   "cell_type": "code",
   "execution_count": null,
   "metadata": {},
   "outputs": [],
   "source": [
    "diaObject.list_all_quantities()"
   ]
  },
  {
   "cell_type": "code",
   "execution_count": null,
   "metadata": {},
   "outputs": [],
   "source": [
    "plt.hexbin(diaSrc['x'], diaSrc['y'])\n",
    "plt.colorbar()\n",
    "plt.xlabel('x')\n",
    "plt.ylabel('y')\n",
    "plt.gca().set_aspect(aspect=1)\n",
    "plt.title('x, y on patch');"
   ]
  },
  {
   "cell_type": "code",
   "execution_count": null,
   "metadata": {},
   "outputs": [],
   "source": [
    "plt.hist(diaSrc['fluxmag0']);"
   ]
  },
  {
   "cell_type": "markdown",
   "metadata": {},
   "source": [
    "## DIAObject statistics"
   ]
  },
  {
   "cell_type": "code",
   "execution_count": null,
   "metadata": {},
   "outputs": [],
   "source": [
    "plt.hist(diaObject['nobs'], log=True, bins=[0, 1, 2, 5, 10, 20, 50, 100, 200])\n",
    "plt.xlabel('Number of DIA Source Observations in DIA Object')\n",
    "plt.ylabel('DIA Objects per bin');\n",
    "plt.xscale('log')"
   ]
  },
  {
   "cell_type": "code",
   "execution_count": null,
   "metadata": {},
   "outputs": [],
   "source": [
    "reduced_chi2_r = diaObject['psFluxChi2_r']/(diaObject['psFluxNdata_r']-1)\n",
    "log10_reduced_chi2_r = np.log10(reduced_chi2_r)"
   ]
  },
  {
   "cell_type": "code",
   "execution_count": null,
   "metadata": {},
   "outputs": [],
   "source": [
    "plt.hist(log10_reduced_chi2_r, range=(0, 10), bins=np.linspace(-0.25, 10.25, 21));\n",
    "plt.xlabel(r'$\\log_{10}(\\chi^2/{\\rm dof})$')\n",
    "plt.ylabel('#/bin');"
   ]
  },
  {
   "cell_type": "code",
   "execution_count": null,
   "metadata": {},
   "outputs": [],
   "source": [
    "plt.scatter(diaObject['magMean_r'], log10_reduced_chi2_r,\n",
    "           c=np.log10(diaObject['nobs']))\n",
    "\n",
    "plt.xlabel('<r> [mag]')\n",
    "plt.ylabel(r'$\\log_{10}{\\chi^2/{\\rm dof}}')\n",
    "plt.colorbar(label='log10(nobs)');"
   ]
  },
  {
   "cell_type": "code",
   "execution_count": null,
   "metadata": {},
   "outputs": [],
   "source": [
    "plt.scatter(diaObject['magMean_r'], diaObject['nobs'], c=log10_reduced_chi2_r)\n",
    "plt.xlabel('<r> [mag]')\n",
    "plt.ylabel('nobs')\n",
    "plt.colorbar();"
   ]
  },
  {
   "cell_type": "code",
   "execution_count": null,
   "metadata": {},
   "outputs": [],
   "source": [
    "plt.scatter(diaObject['magMean_r'], diaObject['magMeanStd_r'])\n",
    "plt.xlabel('<r> [mag]')\n",
    "plt.ylabel('std(r) [mag]');"
   ]
  },
  {
   "cell_type": "markdown",
   "metadata": {},
   "source": [
    "## A Lightcurve"
   ]
  },
  {
   "cell_type": "markdown",
   "metadata": {},
   "source": [
    "Let's pick an object with lots of observations and $\\chi^2/{\\rm dof}$ significantly greater than one.\n",
    "\n",
    "(Some of the `reduced_chi2` are non-positive, so we expect that we will get some \"invalid value\" warnings below when looking at the `log10_reduced_chi2` values.)"
   ]
  },
  {
   "cell_type": "code",
   "execution_count": null,
   "metadata": {},
   "outputs": [],
   "source": [
    "w, = np.where((diaObject['nobs'] > 100) & (log10_reduced_chi2_r > 2) & (log10_reduced_chi2_r < 3))\n",
    "objectIds = (diaObject['diaObjectId'][w])"
   ]
  },
  {
   "cell_type": "code",
   "execution_count": null,
   "metadata": {},
   "outputs": [],
   "source": [
    "print(objectIds)"
   ]
  },
  {
   "cell_type": "code",
   "execution_count": null,
   "metadata": {},
   "outputs": [],
   "source": [
    "this_diaObjectId = objectIds[0]\n",
    "this_diaObject_diaSrc = pd.DataFrame(diaSrc.get_quantities(['ra', 'dec', 'diaObjectId', 'visit', 'detector', 'filter', 'mjd', 'mag', 'mag_err', 'psFlux', 'psFluxErr'], filters=[(lambda x: x == this_diaObjectId, 'diaObjectId')]))\n",
    "this_diaObject = pd.DataFrame(diaObject.get_quantities(['ra', 'dec'], filters=[(lambda x: x == this_diaObjectId, 'diaObjectId')]))"
   ]
  },
  {
   "cell_type": "code",
   "execution_count": null,
   "metadata": {},
   "outputs": [],
   "source": [
    "this_diaObject_diaSrc"
   ]
  },
  {
   "cell_type": "code",
   "execution_count": null,
   "metadata": {},
   "outputs": [],
   "source": [
    "def plot_lightcurve(df, plot='mag', title=None, marker='o', linestyle='none', **kwargs):\n",
    "    \"\"\"Plot a lightcurve from a DataFrame.\n",
    "    \"\"\"\n",
    "    # At lexigraphical order, if not wavelength order.\n",
    "    filters = np.unique(df['filter'])\n",
    "\n",
    "    if plot == 'flux':\n",
    "        flux_col = 'psFlux'\n",
    "        flux_err_col = 'psFluxErr'\n",
    "    else:\n",
    "        flux_col = 'mag'\n",
    "        flux_err_col = 'mag_err'\n",
    "        \n",
    "    for filt in filters:\n",
    "        this_filter = df.query(f'filter == \"{filt}\"')\n",
    "        # This if sequence is a little silly.\n",
    "        if flux_err_col in this_filter.columns:\n",
    "            plt.errorbar(this_filter['mjd'], this_filter[flux_col], this_filter[flux_err_col],\n",
    "                         linestyle=linestyle, marker=marker,\n",
    "                         label=filt, **kwargs)\n",
    "        else:\n",
    "            if marker is None:\n",
    "                plt.plot(this_filter['mjd'], this_filter[flux_col],\n",
    "                         linestyle=linestyle, marker=marker,\n",
    "                         label=filt, **kwargs) \n",
    "            else:\n",
    "                plt.scatter(this_filter['mjd'], this_filter[flux_col],\n",
    "                            linestyle=linestyle, marker=marker,\n",
    "                            label=filt, **kwargs)\n",
    "\n",
    "    plt.xlabel('MJD')\n",
    "\n",
    "    if plot == 'flux':\n",
    "        plt.ylabel('psFlux [nJy]')\n",
    "    else:\n",
    "        plt.ylim(sorted(plt.ylim(), reverse=True))\n",
    "        plt.ylabel('mag [AB]')\n",
    "\n",
    "    if title is not None:\n",
    "        plt.title(title)\n",
    "    plt.legend()"
   ]
  },
  {
   "cell_type": "code",
   "execution_count": null,
   "metadata": {},
   "outputs": [],
   "source": [
    "plt.figure(figsize=(12, 8))\n",
    "plot_lightcurve(this_diaObject_diaSrc, title=f'diaObjectId: {this_diaObject_diaSrc[\"diaObjectId\"][0]}')\n",
    "plt.ylim(26.5, 17);"
   ]
  },
  {
   "cell_type": "code",
   "execution_count": null,
   "metadata": {},
   "outputs": [],
   "source": [
    "plt.figure(figsize=(12, 8))\n",
    "plot_lightcurve(this_diaObject_diaSrc, plot='flux', title=f'diaObjectId: {this_diaObject_diaSrc[\"diaObjectId\"][0]}')"
   ]
  },
  {
   "cell_type": "markdown",
   "metadata": {},
   "source": [
    "### Match to Truth Catalog\n",
    "\n",
    "This variable AGN presumably came from a variable source in the simulations.  Let's see if we can find it.  For more details on matching to the Truth Variable catalog, see\n",
    "the [GCR Truth for Variables Tutorial](https://github.com/LSSTDESC/DC2-analysis/blob/master/tutorials/truth_gcr_variables.ipynb)"
   ]
  },
  {
   "cell_type": "code",
   "execution_count": null,
   "metadata": {},
   "outputs": [],
   "source": [
    "truth_cat = GCRCatalogs.load_catalog('dc2_truth_run1.2_variable_summary')\n",
    "truth_cat.list_all_quantities(include_native=True)"
   ]
  },
  {
   "cell_type": "code",
   "execution_count": null,
   "metadata": {},
   "outputs": [],
   "source": [
    "ra, dec = this_diaObject['ra'][0], this_diaObject['dec'][0]\n",
    "print(ra, dec)"
   ]
  },
  {
   "cell_type": "code",
   "execution_count": null,
   "metadata": {},
   "outputs": [],
   "source": [
    "truth_positions = SkyCoord(truth_cat['ra'], truth_cat['dec'], unit='deg')"
   ]
  },
  {
   "cell_type": "code",
   "execution_count": null,
   "metadata": {},
   "outputs": [],
   "source": [
    "from astropy.coordinates import SkyCoord"
   ]
  },
  {
   "cell_type": "code",
   "execution_count": null,
   "metadata": {},
   "outputs": [],
   "source": [
    "# Match on RA, Dec\n",
    "from astropy.coordinates import SkyCoord\n",
    "\n",
    "ra, dec = this_diaObject['ra'][0], this_diaObject['dec'][0]\n",
    "truth = truth_cat.get_quantities(['ra', 'dec', 'uniqueId'])\n",
    "\n",
    "agn_position = SkyCoord(ra, dec, unit='deg')\n",
    "truth_positions = SkyCoord(truth['ra'], truth['dec'], unit='deg')\n",
    "\n",
    "idx, sep2d, _ = agn_position.match_to_catalog_sky(truth_positions)\n",
    "matchId = truth['uniqueId'][idx]\n",
    "\n",
    "print(f'The truth object {matchId} is {sep2d.to(u.arcsec)[0]:0.6f} away')"
   ]
  },
  {
   "cell_type": "code",
   "execution_count": null,
   "metadata": {},
   "outputs": [],
   "source": [
    "truth_match = truth_cat.get_quantities(['ra', 'dec', 'redshift', 'agn', 'uniqueId', 'sprinkled', 'galaxy_id', 'sn'],\n",
    "                                       filters=[f'uniqueId == {matchId}'])"
   ]
  },
  {
   "cell_type": "markdown",
   "metadata": {},
   "source": [
    "Here's the match!  Yes, it's an AGN in the truth catalog ('agn'==1)!"
   ]
  },
  {
   "cell_type": "code",
   "execution_count": null,
   "metadata": {},
   "outputs": [],
   "source": [
    "print(truth_match)"
   ]
  },
  {
   "cell_type": "markdown",
   "metadata": {},
   "source": [
    "How did we do with the lightcurve?"
   ]
  },
  {
   "cell_type": "code",
   "execution_count": null,
   "metadata": {},
   "outputs": [],
   "source": [
    "lc = GCRCatalogs.load_catalog('dc2_truth_run1.2_variable_lightcurve')\n",
    "lc.list_all_quantities(include_native=True)"
   ]
  },
  {
   "cell_type": "code",
   "execution_count": null,
   "metadata": {},
   "outputs": [],
   "source": [
    "# Using `native_filters` for the truth lightcurve is critical to performance here\n",
    "# If you use `native_filters` then it does a match for `uniqueId` in the summary table \n",
    "# and just searches the lightcurve table for that id.\n",
    "# If you accidentally use `filters`, the GCR will search for all ids in the summary table\n",
    "# and then repeatedly search the entire lightcurve table for each ID that also matches uniqueId\n",
    "truth_lc = pd.DataFrame(lc.get_quantities(['mjd', 'mag', 'filter'],\n",
    "                                          native_filters=[f'uniqueId == {matchId}']))"
   ]
  },
  {
   "cell_type": "code",
   "execution_count": null,
   "metadata": {},
   "outputs": [],
   "source": [
    "truth_lc.rename(columns={'filter': 'filter_code'}, inplace=True)"
   ]
  },
  {
   "cell_type": "code",
   "execution_count": null,
   "metadata": {},
   "outputs": [],
   "source": [
    "truth_lc = truth_lc.sort_values('mjd')"
   ]
  },
  {
   "cell_type": "code",
   "execution_count": null,
   "metadata": {},
   "outputs": [],
   "source": [
    "# Translate filter codes to filter names\n",
    "filter_names = ['u', 'g', 'r', 'i', 'z', 'y']\n",
    "truth_lc['filter'] = [filter_names[f] for f in truth_lc['filter_code']]"
   ]
  },
  {
   "cell_type": "code",
   "execution_count": null,
   "metadata": {},
   "outputs": [],
   "source": [
    "plt.figure(figsize=(12, 8))\n",
    "plot_lightcurve(truth_lc, plot='mag', linestyle='-', marker=None)\n",
    "plot_lightcurve(this_diaObject_diaSrc, plot='mag')"
   ]
  },
  {
   "cell_type": "markdown",
   "metadata": {},
   "source": [
    "## Postage Stamp for DIA Object\n",
    "\n",
    "For a fuller primer on making postage stamps, please see the\n",
    "[DM Butler Postage Stamp Notebook](dm_butler_postage_stamps.ipynb)"
   ]
  },
  {
   "cell_type": "code",
   "execution_count": null,
   "metadata": {},
   "outputs": [],
   "source": [
    "butler = Butler(repo)"
   ]
  },
  {
   "cell_type": "code",
   "execution_count": null,
   "metadata": {},
   "outputs": [],
   "source": [
    "def cutout_coadd_ra_dec(butler, ra, dec, filter='r', datasetType='deepCoadd', **kwargs):\n",
    "    \"\"\"\n",
    "    Produce a cutout from datasetType from the given butler at the given RA, Dec in decimal degrees.\n",
    "    \n",
    "    Notes\n",
    "    -----\n",
    "    Trivial wrapper around 'cutout_coadd_spherepoint'\n",
    "    \n",
    "    Parameters\n",
    "    ----------\n",
    "    butler: lsst.daf.persistence.Butler\n",
    "        Servant providing access to a data repository\n",
    "    ra: float\n",
    "        Right ascension of the center of the cutout, degrees\n",
    "    dec: float\n",
    "        Declination of the center of the cutout, degrees\n",
    "    filter: string\n",
    "        Filter of the image to load\n",
    "        \n",
    "    Returns\n",
    "    -------\n",
    "    MaskedImage\n",
    "    \"\"\"\n",
    "    radec = SpherePoint(ra, dec, afwGeom.degrees)\n",
    "    return cutout_coadd_spherepoint(butler, radec, filter=filter, datasetType=datasetType)\n",
    "    \n",
    "\n",
    "def cutout_coadd_spherepoint(butler, radec, filter='r', datasetType='deepCoadd',\n",
    "                       skymap=None, cutoutSideLength=51, **kwargs):\n",
    "    \"\"\"\n",
    "    Produce a cutout from datasetType at the given afw SpherePoint radec position.\n",
    "    \n",
    "    Parameters\n",
    "    ----------\n",
    "    butler: lsst.daf.persistence.Butler\n",
    "        Servant providing access to a data repository\n",
    "    radec: lsst.afw.geom.SpherePoint \n",
    "        Coordinates of the center of the cutout.\n",
    "    filter: string \n",
    "        Filter of the image to load\n",
    "    datasetType: string ['deepCoadd']  \n",
    "        Which type of coadd to load.  Doesn't support 'calexp'\n",
    "    skymap: lsst.afw.skyMap.SkyMap [optional] \n",
    "        Pass in to avoid the Butler read.  Useful if you have lots of them.\n",
    "    cutoutSideLength: float [optional] \n",
    "        Side of the cutout region in pixels.\n",
    "    \n",
    "    Returns\n",
    "    -------\n",
    "    MaskedImage\n",
    "    \"\"\"\n",
    "    cutoutSize = afwGeom.ExtentI(cutoutSideLength, cutoutSideLength)\n",
    "\n",
    "    if skymap is None:\n",
    "        skymap = butler.get(\"%s_skyMap\" % datasetType)\n",
    "    \n",
    "    # Look up the tract, patch for the RA, Dec\n",
    "    tractInfo = skymap.findTract(radec)\n",
    "    patchInfo = tractInfo.findPatch(radec)\n",
    "    xy = afwGeom.PointI(tractInfo.getWcs().skyToPixel(radec))\n",
    "    bbox = afwGeom.BoxI(xy - cutoutSize//2, cutoutSize)\n",
    "\n",
    "    coaddId = {'tract': tractInfo.getId(), 'patch': \"%d,%d\" % patchInfo.getIndex(), 'filter': filter}\n",
    "    \n",
    "    cutout_image = butler.get(datasetType+'_sub', bbox=bbox, immediate=True, dataId=coaddId)\n",
    "\n",
    "    return cutout_image"
   ]
  },
  {
   "cell_type": "code",
   "execution_count": null,
   "metadata": {},
   "outputs": [],
   "source": [
    "def cutout_visit_ra_dec(butler, ra, dec, dataId=None, datasetType='deepDiff_differenceExp', cutoutSideLength=75, **kwargs):\n",
    "    \"\"\"\n",
    "    Produce a cutout from datasetType from the given butler at the given ra, dec\n",
    "    \n",
    "    Notes\n",
    "    -----\n",
    "    Trivial wrapper around 'cutout_spherepoint'\n",
    "    \n",
    "    Parameters\n",
    "    ----------\n",
    "    butler: lsst.daf.persistence.Butler\n",
    "        Servant providing access to a data repository\n",
    "    ra: float\n",
    "        Right ascension of the center of the cutout, degrees\n",
    "    dec: float\n",
    "        Declination of the center of the cutout, degrees\n",
    "    dataId: Butler data ID.  E.g., {'visit': 1181556, 'detector': 45, 'filter': 'r'}\n",
    "    cutoutSideLength: float [optional] \n",
    "        Side of the cutout region in pixels.\n",
    "         \n",
    "    Returns\n",
    "    -------\n",
    "    MaskedImage\n",
    "    \"\"\"\n",
    "    cutoutSize = afwGeom.ExtentI(cutoutSideLength, cutoutSideLength)\n",
    "    radec = SpherePoint(ra, dec, afwGeom.degrees)\n",
    "   \n",
    "    image_wcs = butler.get(datasetType + '_wcs', dataId=dataId)\n",
    "    xy = afwGeom.PointI(image_wcs.skyToPixel(radec))\n",
    "    bbox = afwGeom.BoxI(xy - cutoutSize//2, cutoutSize)\n",
    "    \n",
    "    cutout_image = butler.get(datasetType+'_sub', bbox=bbox, dataId=dataId)\n",
    "    \n",
    "    return cutout_image"
   ]
  },
  {
   "cell_type": "code",
   "execution_count": null,
   "metadata": {},
   "outputs": [],
   "source": [
    "def make_cutout_image(butler, ra, dec, dataId=None,\n",
    "                      title=None,\n",
    "                      frame=None, display=None, backend='matplotlib',\n",
    "                      show=True, saveplot=False, savefits=False,\n",
    "                      zscale=None,\n",
    "                      datasetType='deepCoadd'):\n",
    "    \"\"\"\n",
    "    Generate and optionally display and save a postage stamp for a given RA, Dec.\n",
    "    \n",
    "    Parameters\n",
    "    ----------\n",
    "    butler: lsst.daf.persistence.Butler\n",
    "        Servant providing access to a data repository\n",
    "    ra: float\n",
    "        Right ascension of the center of the cutout, degrees\n",
    "    dec: float\n",
    "        Declination of the center of the cutout, degrees\n",
    "    filter: string \n",
    "        Filter of the image to load\n",
    "    Returns\n",
    "    -------\n",
    "    MaskedImage\n",
    "\n",
    "    Notes\n",
    "    -----\n",
    "    Uses lsst.afw.display with matplotlib to generate stamps.  Saves FITS file if requested.\n",
    "    \"\"\"\n",
    "    \n",
    "    if datasetType == 'deepCoadd':\n",
    "        cutout_image = cutout_coadd_ra_dec(butler, ra, dec, dataId=dataId, datasetType=datasetType)\n",
    "    else:\n",
    "        cutout_image = cutout_visit_ra_dec(butler, ra, dec, dataId=dataId, datasetType=datasetType)\n",
    "\n",
    "    if savefits:\n",
    "        if isinstance(savefits, str):\n",
    "            filename = savefits\n",
    "        else:\n",
    "            filename = 'postage-stamp.fits'\n",
    "        cutout_image.writeFits(filename)\n",
    "    \n",
    "    radec = SpherePoint(ra, dec, afwGeom.degrees)\n",
    "    xy = cutout_image.getWcs().skyToPixel(radec)\n",
    "    \n",
    "    if display is None:\n",
    "        display = afwDisplay.Display(frame=frame, backend=backend)\n",
    "\n",
    "    display.mtv(cutout_image)\n",
    "    display.scale(\"linear\", \"zscale\")\n",
    "    display.dot('o', xy.getX(), xy.getY(), ctype='red')\n",
    "    display.show_colorbar()\n",
    "\n",
    "    plt.xlabel('x')\n",
    "    plt.ylabel('y')\n",
    "    if title is not None:\n",
    "        plt.title(title)\n",
    "\n",
    "    if saveplot:\n",
    "        if isinstance(saveplot, str):\n",
    "            filename = saveplot\n",
    "        else:\n",
    "            filename = 'postage-stamp.png'\n",
    "        plt.savefig(filename)\n",
    "    if show:\n",
    "        plt.show()\n",
    "\n",
    "    return cutout_image"
   ]
  },
  {
   "cell_type": "code",
   "execution_count": null,
   "metadata": {},
   "outputs": [],
   "source": [
    "ra, dec = this_diaObject['ra'], this_diaObject['dec']\n",
    "print(ra, dec)"
   ]
  },
  {
   "cell_type": "code",
   "execution_count": null,
   "metadata": {},
   "outputs": [],
   "source": [
    "diff_visit = this_diaObject_diaSrc.iloc[0]\n",
    "\n",
    "diffId = {}\n",
    "# We have to convert from int64 to int to get the formatting to work right in the Gen 2 template string.\n",
    "diffId['visit'] = int(diff_visit['visit'])\n",
    "diffId['filter'] = diff_visit['filter']\n",
    "diffId['detector'] = int(diff_visit['detector'])"
   ]
  },
  {
   "cell_type": "code",
   "execution_count": null,
   "metadata": {},
   "outputs": [],
   "source": [
    "cutout_image = make_cutout_image(butler, ra, dec, datasetType='deepCoadd', dataId=diffId)"
   ]
  },
  {
   "cell_type": "markdown",
   "metadata": {},
   "source": [
    "Here, `make_cutout_image` is using `lsst.afw.display` to show the image.  So thus, even though the image is a cutout, it knows what the original pixel coordinates were and displays those.\n",
    "\n",
    "Also note that the orientation is in x, y of the deepCoadd image.  Because the coadds are done based on the tract+patch, x, y line up with RA, Dec.  However, for our science image cutouts that we'll see below, their orientations will each be different.\n",
    "\n",
    "The above image is in fact gray scale.  It looks blue, because the \"footprint\" of the galaxy, i.e. all of the pixels associated with the measurement of the galaxy, covers the entire postage stamp region, and by default we are displaying the mask planes. A 'mask' doesn't mean good or bad, it's a plane of information about a particular property.  While many mask bits refer to problems, or potential problems, one of the key mask bits is DETECTED, which defines the footprint of the object. \n",
    "\n",
    "We can look up what those mask planes are but creating just a dummy display and asking what the mask plane bits are for our image:"
   ]
  },
  {
   "cell_type": "code",
   "execution_count": null,
   "metadata": {},
   "outputs": [],
   "source": [
    "frame = 1\n",
    "plt.figure(frame)\n",
    "display = afwDisplay.Display(frame=frame, backend='matplotlib', title='coadd')\n",
    "\n",
    "for maskName, maskBit in cutout_image.mask.getMaskPlaneDict().items():\n",
    "    print('{}: {}'.format(maskName, display.getMaskPlaneColor(maskName)))"
   ]
  },
  {
   "cell_type": "markdown",
   "metadata": {},
   "source": [
    "And you can see that `DETECTED` is blue."
   ]
  },
  {
   "cell_type": "code",
   "execution_count": null,
   "metadata": {},
   "outputs": [],
   "source": [
    "cutout_image = make_cutout_image(butler, ra, dec, datasetType='calexp', dataId=diffId, title='science image')"
   ]
  },
  {
   "cell_type": "markdown",
   "metadata": {},
   "source": [
    "The footpring above is smaller in the individual image than in the coadd.  That's because the coadd goes much deeper and sees the galaxy outskirts better.  Also note that the mask plane contains the information about which pixels are part of footprints.  This is not explicitly showing the specific footprint of the object we're centered on."
   ]
  },
  {
   "cell_type": "code",
   "execution_count": null,
   "metadata": {},
   "outputs": [],
   "source": [
    "cutout_image = make_cutout_image(butler, ra, dec, datasetType='deepDiff_differenceExp', dataId=diffId)"
   ]
  },
  {
   "cell_type": "markdown",
   "metadata": {},
   "source": [
    "Note that the pixel coordinates for the subtracted image (`deepDiff_differenceExp`) are the same as those of the science image (`calexp`).\n",
    "\n",
    "The detected `diaSource` footprint is in blue.\n",
    "\n",
    "You also might notice a significant green stripe going up and to the left.  This (I believe) are interpolated pixels `INTRP`, where the interpolation contamination has been convolved out to a very large area by the effective size of the convoultion kernel.  The threshold for determining when a pixel is affeted by a given mask plane bit as its grown out like this is configurable.\n",
    "\n",
    "Somewhat confusingly, `DETECTED_NEGATIVE` is also green.  You'll see some examples of negative detections below in the postage stamps of the difference images."
   ]
  },
  {
   "cell_type": "code",
   "execution_count": null,
   "metadata": {},
   "outputs": [],
   "source": [
    "len(this_diaObject_diaSrc)"
   ]
  },
  {
   "cell_type": "markdown",
   "metadata": {},
   "source": [
    "A given science+difference image pair is oriented the same way, because the coadd is matched to the orientation of the science image.  But because each visit is oriented differently, each postage stamp below will be oriented differently."
   ]
  },
  {
   "cell_type": "code",
   "execution_count": null,
   "metadata": {},
   "outputs": [],
   "source": [
    "# Catch attempts to make stamps to near the edge of the image to complete.\n",
    "# There are diaSources smaller than this.\n",
    "# Our choice of cutout size is slightly arbitrary and is also much larger than a point source.\n",
    "# An improvement would be to get the postage stamp to return a full image with the mask plane set appropriately \n",
    "# for the missing pixels.\n",
    "from lsst.pex.exceptions import LengthError\n",
    "\n",
    "for diff_visit in this_diaObject_diaSrc.itertuples():\n",
    "    diffId = {}\n",
    "    # We have to convert from int64 to int to get the formatting to work right in the Gen 2 template string.\n",
    "    diffId['visit'] = int(diff_visit.visit)\n",
    "    diffId['filter'] = diff_visit.filter\n",
    "    diffId['detector'] = int(diff_visit.detector)\n",
    "    title = f'''diaObjectId: {diff_visit.diaObjectId}  MJD: {diff_visit.mjd}\n",
    "        visit: {diff_visit.visit} filter: {diff_visit.filter} detector: {diff_visit.detector}'''\n",
    "    mjd = diff_visit.mjd\n",
    "    diaObjectId = diff_visit.diaObjectId\n",
    "    \n",
    "    try:\n",
    "        make_cutout_image(butler, ra, dec, datasetType='deepDiff_differenceExp', dataId=diffId, title=title)\n",
    "    except LengthError:\n",
    "        print('Too near edge of image to get full postage stamp.  Skipping {dataId}')"
   ]
  },
  {
   "cell_type": "code",
   "execution_count": null,
   "metadata": {},
   "outputs": [],
   "source": []
  }
 ],
 "metadata": {
  "kernelspec": {
   "display_name": "desc-stack",
   "language": "python",
   "name": "desc-stack"
  },
  "language_info": {
   "codemirror_mode": {
    "name": "ipython",
    "version": 3
   },
   "file_extension": ".py",
   "mimetype": "text/x-python",
   "name": "python",
   "nbconvert_exporter": "python",
   "pygments_lexer": "ipython3",
   "version": "3.7.3"
  }
 },
 "nbformat": 4,
 "nbformat_minor": 2
}
